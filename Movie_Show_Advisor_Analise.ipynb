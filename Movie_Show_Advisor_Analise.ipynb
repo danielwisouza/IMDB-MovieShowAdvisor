{
  "cells": [
    {
      "cell_type": "markdown",
      "metadata": {
        "id": "view-in-github",
        "colab_type": "text"
      },
      "source": [
        "<a href=\"https://colab.research.google.com/github/danielwisouza/Movie-Show-Advisor/blob/master/Movie_Show_Advisor_Analise.ipynb\" target=\"_parent\"><img src=\"https://colab.research.google.com/assets/colab-badge.svg\" alt=\"Open In Colab\"/></a>"
      ]
    },
    {
      "cell_type": "markdown",
      "id": "39a51365",
      "metadata": {
        "id": "39a51365"
      },
      "source": [
        "# Instalando e Carregando Pacotes"
      ]
    },
    {
      "cell_type": "code",
      "execution_count": 1,
      "id": "da71b406",
      "metadata": {
        "colab": {
          "base_uri": "https://localhost:8080/"
        },
        "id": "da71b406",
        "outputId": "07c02b13-d00e-4da2-92c8-c82509ba47ec"
      },
      "outputs": [
        {
          "output_type": "stream",
          "name": "stdout",
          "text": [
            "Versão da Linguagem Python Usada Neste Jupyter Notebook: 3.7.12\n"
          ]
        }
      ],
      "source": [
        "# Versão da Linguagem Python\n",
        "from platform import python_version\n",
        "print('Versão da Linguagem Python Usada Neste Jupyter Notebook:', python_version())"
      ]
    },
    {
      "cell_type": "markdown",
      "id": "fd960c6d",
      "metadata": {
        "id": "fd960c6d"
      },
      "source": [
        "https://pypi.org\n",
        "\n",
        "https://pypi.org/project/imdb-sqlite"
      ]
    },
    {
      "cell_type": "code",
      "execution_count": 4,
      "id": "3343bfa9",
      "metadata": {
        "id": "3343bfa9"
      },
      "outputs": [],
      "source": [
        "# Instala o pacote\n",
        "!pip install -q imdb-sqlite"
      ]
    },
    {
      "cell_type": "markdown",
      "id": "36d901b8",
      "metadata": {
        "id": "36d901b8"
      },
      "source": [
        "Agora executamos o pacote para download dos datasets"
      ]
    },
    {
      "cell_type": "code",
      "execution_count": 5,
      "id": "82c5adda",
      "metadata": {
        "colab": {
          "base_uri": "https://localhost:8080/"
        },
        "id": "82c5adda",
        "outputId": "1fcff9c9-aa2f-4687-beaa-e3817c889449"
      },
      "outputs": [
        {
          "output_type": "stream",
          "name": "stdout",
          "text": [
            "\u001b[K     |████████████████████████████████| 10.1 MB 7.0 MB/s \n",
            "\u001b[?25h  Installing build dependencies ... \u001b[?25l\u001b[?25hdone\n",
            "  Getting requirements to build wheel ... \u001b[?25l\u001b[?25hdone\n",
            "    Preparing wheel metadata ... \u001b[?25l\u001b[?25hdone\n",
            "  Building wheel for pycountry (PEP 517) ... \u001b[?25l\u001b[?25hdone\n"
          ]
        }
      ],
      "source": [
        "# Instalar o pacote\n",
        "# https://pypi.org/project/pycountry/\n",
        "!pip install -q pycountry"
      ]
    },
    {
      "cell_type": "code",
      "execution_count": 6,
      "id": "0d3547b5",
      "metadata": {
        "id": "0d3547b5"
      },
      "outputs": [],
      "source": [
        "import re\n",
        "import time\n",
        "import sqlite3\n",
        "import pycountry\n",
        "import numpy as np\n",
        "import pandas as pd\n",
        "import matplotlib.pyplot as plt\n",
        "import seaborn as sns\n",
        "from matplotlib import cm\n",
        "from sklearn.feature_extraction.text import CountVectorizer\n",
        "import warnings\n",
        "warnings.filterwarnings(\"ignore\")\n",
        "# tema para gráfico\n",
        "sns.set_theme(style = \"whitegrid\") "
      ]
    },
    {
      "cell_type": "markdown",
      "id": "5b57d4e9",
      "metadata": {
        "id": "5b57d4e9"
      },
      "source": [
        "# Carregando os Dados"
      ]
    },
    {
      "cell_type": "markdown",
      "id": "8c9f6911",
      "metadata": {
        "id": "8c9f6911"
      },
      "source": [
        "Primeiro temos que baixar os dados!"
      ]
    },
    {
      "cell_type": "code",
      "execution_count": 7,
      "id": "534dc422",
      "metadata": {
        "colab": {
          "base_uri": "https://localhost:8080/"
        },
        "id": "534dc422",
        "outputId": "922c35b2-cb81-4575-9e9a-4d03a43d04cd"
      },
      "outputs": [
        {
          "output_type": "stream",
          "name": "stdout",
          "text": [
            "2022-03-23 12:46:01,840 GET https://datasets.imdbws.com/name.basics.tsv.gz -> downloads/name.basics.tsv.gz\n",
            "2022-03-23 12:46:05,617 GET https://datasets.imdbws.com/title.basics.tsv.gz -> downloads/title.basics.tsv.gz\n",
            "2022-03-23 12:46:07,837 GET https://datasets.imdbws.com/title.akas.tsv.gz -> downloads/title.akas.tsv.gz\n",
            "2022-03-23 12:46:09,875 GET https://datasets.imdbws.com/title.principals.tsv.gz -> downloads/title.principals.tsv.gz\n",
            "2022-03-23 12:46:12,742 GET https://datasets.imdbws.com/title.episode.tsv.gz -> downloads/title.episode.tsv.gz\n",
            "2022-03-23 12:46:13,824 GET https://datasets.imdbws.com/title.ratings.tsv.gz -> downloads/title.ratings.tsv.gz\n",
            "2022-03-23 12:46:14,041 Populating database: imdb.db\n",
            "2022-03-23 12:46:14,042 Applying schema\n",
            "2022-03-23 12:46:14,043 Importing file: downloads/name.basics.tsv.gz\n",
            "2022-03-23 12:46:14,043 Reading number of rows ...\n",
            "2022-03-23 12:46:21,985 Inserting rows into table: people\n",
            "100% 11501001/11501001 [02:07<00:00, 90311.14 rows/s]\n",
            "2022-03-23 12:48:29,346 Importing file: downloads/title.basics.tsv.gz\n",
            "2022-03-23 12:48:29,346 Reading number of rows ...\n",
            "2022-03-23 12:48:34,499 Inserting rows into table: titles\n",
            "100% 8787294/8787294 [02:00<00:00, 72752.93 rows/s]\n",
            "2022-03-23 12:50:35,286 Importing file: downloads/title.akas.tsv.gz\n",
            "2022-03-23 12:50:35,286 Reading number of rows ...\n",
            "2022-03-23 12:50:44,830 Inserting rows into table: akas\n",
            "100% 31450282/31450282 [06:00<00:00, 87233.52 rows/s]\n",
            "2022-03-23 12:56:45,364 Importing file: downloads/title.principals.tsv.gz\n",
            "2022-03-23 12:56:45,365 Reading number of rows ...\n",
            "2022-03-23 12:57:00,140 Inserting rows into table: crew\n",
            "100% 49494888/49494888 [07:23<00:00, 111520.67 rows/s]\n",
            "2022-03-23 13:04:23,965 Importing file: downloads/title.episode.tsv.gz\n",
            "2022-03-23 13:04:23,966 Reading number of rows ...\n",
            "2022-03-23 13:04:25,245 Inserting rows into table: episodes\n",
            "100% 6583818/6583818 [00:49<00:00, 132959.94 rows/s]\n",
            "2022-03-23 13:05:14,767 Importing file: downloads/title.ratings.tsv.gz\n",
            "2022-03-23 13:05:14,767 Reading number of rows ...\n",
            "2022-03-23 13:05:14,956 Inserting rows into table: ratings\n",
            "100% 1227874/1227874 [00:09<00:00, 133713.50 rows/s]\n",
            "2022-03-23 13:05:24,143 Creating table indices ...\n",
            "2022-03-23 13:08:56,933 Import successful\n",
            "CPU times: user 22.3 s, sys: 2.98 s, total: 25.3 s\n",
            "Wall time: 22min 55s\n"
          ]
        }
      ],
      "source": [
        "%%time\n",
        "!imdb-sqlite"
      ]
    },
    {
      "cell_type": "code",
      "execution_count": 8,
      "id": "acbc3679",
      "metadata": {
        "id": "acbc3679"
      },
      "outputs": [],
      "source": [
        "# Conecta no banco de dados\n",
        "conn = sqlite3.connect(\"imdb.db\")"
      ]
    },
    {
      "cell_type": "code",
      "execution_count": 9,
      "id": "dda9c1ac",
      "metadata": {
        "id": "dda9c1ac"
      },
      "outputs": [],
      "source": [
        "# Extrai a lista de tabelas\n",
        "tabelas = pd.read_sql_query(\"SELECT NAME AS 'Table_Name' FROM  sqlite_master  WHERE type = 'table'\", conn)"
      ]
    },
    {
      "cell_type": "code",
      "execution_count": 10,
      "id": "37eaab92",
      "metadata": {
        "colab": {
          "base_uri": "https://localhost:8080/"
        },
        "id": "37eaab92",
        "outputId": "f825b7e3-fa4f-4e74-a95f-5ff5beeb91bc"
      },
      "outputs": [
        {
          "output_type": "execute_result",
          "data": {
            "text/plain": [
              "pandas.core.frame.DataFrame"
            ]
          },
          "metadata": {},
          "execution_count": 10
        }
      ],
      "source": [
        "# Tipo do objeto\n",
        "type(tabelas)"
      ]
    },
    {
      "cell_type": "code",
      "execution_count": 11,
      "id": "2317a60e",
      "metadata": {
        "colab": {
          "base_uri": "https://localhost:8080/",
          "height": 206
        },
        "id": "2317a60e",
        "outputId": "6db69f74-bc6b-4988-c36d-3863684acdf3"
      },
      "outputs": [
        {
          "output_type": "execute_result",
          "data": {
            "text/plain": [
              "  Table_Name\n",
              "0     people\n",
              "1     titles\n",
              "2       akas\n",
              "3       crew\n",
              "4   episodes"
            ],
            "text/html": [
              "\n",
              "  <div id=\"df-66599194-c199-4163-b922-11bd09009ea3\">\n",
              "    <div class=\"colab-df-container\">\n",
              "      <div>\n",
              "<style scoped>\n",
              "    .dataframe tbody tr th:only-of-type {\n",
              "        vertical-align: middle;\n",
              "    }\n",
              "\n",
              "    .dataframe tbody tr th {\n",
              "        vertical-align: top;\n",
              "    }\n",
              "\n",
              "    .dataframe thead th {\n",
              "        text-align: right;\n",
              "    }\n",
              "</style>\n",
              "<table border=\"1\" class=\"dataframe\">\n",
              "  <thead>\n",
              "    <tr style=\"text-align: right;\">\n",
              "      <th></th>\n",
              "      <th>Table_Name</th>\n",
              "    </tr>\n",
              "  </thead>\n",
              "  <tbody>\n",
              "    <tr>\n",
              "      <th>0</th>\n",
              "      <td>people</td>\n",
              "    </tr>\n",
              "    <tr>\n",
              "      <th>1</th>\n",
              "      <td>titles</td>\n",
              "    </tr>\n",
              "    <tr>\n",
              "      <th>2</th>\n",
              "      <td>akas</td>\n",
              "    </tr>\n",
              "    <tr>\n",
              "      <th>3</th>\n",
              "      <td>crew</td>\n",
              "    </tr>\n",
              "    <tr>\n",
              "      <th>4</th>\n",
              "      <td>episodes</td>\n",
              "    </tr>\n",
              "  </tbody>\n",
              "</table>\n",
              "</div>\n",
              "      <button class=\"colab-df-convert\" onclick=\"convertToInteractive('df-66599194-c199-4163-b922-11bd09009ea3')\"\n",
              "              title=\"Convert this dataframe to an interactive table.\"\n",
              "              style=\"display:none;\">\n",
              "        \n",
              "  <svg xmlns=\"http://www.w3.org/2000/svg\" height=\"24px\"viewBox=\"0 0 24 24\"\n",
              "       width=\"24px\">\n",
              "    <path d=\"M0 0h24v24H0V0z\" fill=\"none\"/>\n",
              "    <path d=\"M18.56 5.44l.94 2.06.94-2.06 2.06-.94-2.06-.94-.94-2.06-.94 2.06-2.06.94zm-11 1L8.5 8.5l.94-2.06 2.06-.94-2.06-.94L8.5 2.5l-.94 2.06-2.06.94zm10 10l.94 2.06.94-2.06 2.06-.94-2.06-.94-.94-2.06-.94 2.06-2.06.94z\"/><path d=\"M17.41 7.96l-1.37-1.37c-.4-.4-.92-.59-1.43-.59-.52 0-1.04.2-1.43.59L10.3 9.45l-7.72 7.72c-.78.78-.78 2.05 0 2.83L4 21.41c.39.39.9.59 1.41.59.51 0 1.02-.2 1.41-.59l7.78-7.78 2.81-2.81c.8-.78.8-2.07 0-2.86zM5.41 20L4 18.59l7.72-7.72 1.47 1.35L5.41 20z\"/>\n",
              "  </svg>\n",
              "      </button>\n",
              "      \n",
              "  <style>\n",
              "    .colab-df-container {\n",
              "      display:flex;\n",
              "      flex-wrap:wrap;\n",
              "      gap: 12px;\n",
              "    }\n",
              "\n",
              "    .colab-df-convert {\n",
              "      background-color: #E8F0FE;\n",
              "      border: none;\n",
              "      border-radius: 50%;\n",
              "      cursor: pointer;\n",
              "      display: none;\n",
              "      fill: #1967D2;\n",
              "      height: 32px;\n",
              "      padding: 0 0 0 0;\n",
              "      width: 32px;\n",
              "    }\n",
              "\n",
              "    .colab-df-convert:hover {\n",
              "      background-color: #E2EBFA;\n",
              "      box-shadow: 0px 1px 2px rgba(60, 64, 67, 0.3), 0px 1px 3px 1px rgba(60, 64, 67, 0.15);\n",
              "      fill: #174EA6;\n",
              "    }\n",
              "\n",
              "    [theme=dark] .colab-df-convert {\n",
              "      background-color: #3B4455;\n",
              "      fill: #D2E3FC;\n",
              "    }\n",
              "\n",
              "    [theme=dark] .colab-df-convert:hover {\n",
              "      background-color: #434B5C;\n",
              "      box-shadow: 0px 1px 3px 1px rgba(0, 0, 0, 0.15);\n",
              "      filter: drop-shadow(0px 1px 2px rgba(0, 0, 0, 0.3));\n",
              "      fill: #FFFFFF;\n",
              "    }\n",
              "  </style>\n",
              "\n",
              "      <script>\n",
              "        const buttonEl =\n",
              "          document.querySelector('#df-66599194-c199-4163-b922-11bd09009ea3 button.colab-df-convert');\n",
              "        buttonEl.style.display =\n",
              "          google.colab.kernel.accessAllowed ? 'block' : 'none';\n",
              "\n",
              "        async function convertToInteractive(key) {\n",
              "          const element = document.querySelector('#df-66599194-c199-4163-b922-11bd09009ea3');\n",
              "          const dataTable =\n",
              "            await google.colab.kernel.invokeFunction('convertToInteractive',\n",
              "                                                     [key], {});\n",
              "          if (!dataTable) return;\n",
              "\n",
              "          const docLinkHtml = 'Like what you see? Visit the ' +\n",
              "            '<a target=\"_blank\" href=https://colab.research.google.com/notebooks/data_table.ipynb>data table notebook</a>'\n",
              "            + ' to learn more about interactive tables.';\n",
              "          element.innerHTML = '';\n",
              "          dataTable['output_type'] = 'display_data';\n",
              "          await google.colab.output.renderOutput(dataTable, element);\n",
              "          const docLink = document.createElement('div');\n",
              "          docLink.innerHTML = docLinkHtml;\n",
              "          element.appendChild(docLink);\n",
              "        }\n",
              "      </script>\n",
              "    </div>\n",
              "  </div>\n",
              "  "
            ]
          },
          "metadata": {},
          "execution_count": 11
        }
      ],
      "source": [
        "# Visualiza o resultado\n",
        "tabelas.head()"
      ]
    },
    {
      "cell_type": "code",
      "execution_count": 12,
      "id": "146170d4",
      "metadata": {
        "id": "146170d4"
      },
      "outputs": [],
      "source": [
        "# Vamos Converter o dataframe em uma lista\n",
        "tabelas = tabelas[\"Table_Name\"].values.tolist()"
      ]
    },
    {
      "cell_type": "code",
      "execution_count": 13,
      "id": "818e96a0",
      "metadata": {
        "colab": {
          "base_uri": "https://localhost:8080/",
          "height": 1000
        },
        "id": "818e96a0",
        "outputId": "15ed2258-1d20-4013-c205-bd26327b0d2c"
      },
      "outputs": [
        {
          "output_type": "stream",
          "name": "stdout",
          "text": [
            "Esquema da Tabela: people\n"
          ]
        },
        {
          "output_type": "display_data",
          "data": {
            "text/plain": [
              "   cid       name     type  notnull dflt_value  pk\n",
              "0    0  person_id  VARCHAR        0       None   1\n",
              "1    1       name  VARCHAR        0       None   0\n",
              "2    2       born  INTEGER        0       None   0\n",
              "3    3       died  INTEGER        0       None   0"
            ],
            "text/html": [
              "\n",
              "  <div id=\"df-419d158d-3f95-4c49-beb5-0b502a06d5b2\">\n",
              "    <div class=\"colab-df-container\">\n",
              "      <div>\n",
              "<style scoped>\n",
              "    .dataframe tbody tr th:only-of-type {\n",
              "        vertical-align: middle;\n",
              "    }\n",
              "\n",
              "    .dataframe tbody tr th {\n",
              "        vertical-align: top;\n",
              "    }\n",
              "\n",
              "    .dataframe thead th {\n",
              "        text-align: right;\n",
              "    }\n",
              "</style>\n",
              "<table border=\"1\" class=\"dataframe\">\n",
              "  <thead>\n",
              "    <tr style=\"text-align: right;\">\n",
              "      <th></th>\n",
              "      <th>cid</th>\n",
              "      <th>name</th>\n",
              "      <th>type</th>\n",
              "      <th>notnull</th>\n",
              "      <th>dflt_value</th>\n",
              "      <th>pk</th>\n",
              "    </tr>\n",
              "  </thead>\n",
              "  <tbody>\n",
              "    <tr>\n",
              "      <th>0</th>\n",
              "      <td>0</td>\n",
              "      <td>person_id</td>\n",
              "      <td>VARCHAR</td>\n",
              "      <td>0</td>\n",
              "      <td>None</td>\n",
              "      <td>1</td>\n",
              "    </tr>\n",
              "    <tr>\n",
              "      <th>1</th>\n",
              "      <td>1</td>\n",
              "      <td>name</td>\n",
              "      <td>VARCHAR</td>\n",
              "      <td>0</td>\n",
              "      <td>None</td>\n",
              "      <td>0</td>\n",
              "    </tr>\n",
              "    <tr>\n",
              "      <th>2</th>\n",
              "      <td>2</td>\n",
              "      <td>born</td>\n",
              "      <td>INTEGER</td>\n",
              "      <td>0</td>\n",
              "      <td>None</td>\n",
              "      <td>0</td>\n",
              "    </tr>\n",
              "    <tr>\n",
              "      <th>3</th>\n",
              "      <td>3</td>\n",
              "      <td>died</td>\n",
              "      <td>INTEGER</td>\n",
              "      <td>0</td>\n",
              "      <td>None</td>\n",
              "      <td>0</td>\n",
              "    </tr>\n",
              "  </tbody>\n",
              "</table>\n",
              "</div>\n",
              "      <button class=\"colab-df-convert\" onclick=\"convertToInteractive('df-419d158d-3f95-4c49-beb5-0b502a06d5b2')\"\n",
              "              title=\"Convert this dataframe to an interactive table.\"\n",
              "              style=\"display:none;\">\n",
              "        \n",
              "  <svg xmlns=\"http://www.w3.org/2000/svg\" height=\"24px\"viewBox=\"0 0 24 24\"\n",
              "       width=\"24px\">\n",
              "    <path d=\"M0 0h24v24H0V0z\" fill=\"none\"/>\n",
              "    <path d=\"M18.56 5.44l.94 2.06.94-2.06 2.06-.94-2.06-.94-.94-2.06-.94 2.06-2.06.94zm-11 1L8.5 8.5l.94-2.06 2.06-.94-2.06-.94L8.5 2.5l-.94 2.06-2.06.94zm10 10l.94 2.06.94-2.06 2.06-.94-2.06-.94-.94-2.06-.94 2.06-2.06.94z\"/><path d=\"M17.41 7.96l-1.37-1.37c-.4-.4-.92-.59-1.43-.59-.52 0-1.04.2-1.43.59L10.3 9.45l-7.72 7.72c-.78.78-.78 2.05 0 2.83L4 21.41c.39.39.9.59 1.41.59.51 0 1.02-.2 1.41-.59l7.78-7.78 2.81-2.81c.8-.78.8-2.07 0-2.86zM5.41 20L4 18.59l7.72-7.72 1.47 1.35L5.41 20z\"/>\n",
              "  </svg>\n",
              "      </button>\n",
              "      \n",
              "  <style>\n",
              "    .colab-df-container {\n",
              "      display:flex;\n",
              "      flex-wrap:wrap;\n",
              "      gap: 12px;\n",
              "    }\n",
              "\n",
              "    .colab-df-convert {\n",
              "      background-color: #E8F0FE;\n",
              "      border: none;\n",
              "      border-radius: 50%;\n",
              "      cursor: pointer;\n",
              "      display: none;\n",
              "      fill: #1967D2;\n",
              "      height: 32px;\n",
              "      padding: 0 0 0 0;\n",
              "      width: 32px;\n",
              "    }\n",
              "\n",
              "    .colab-df-convert:hover {\n",
              "      background-color: #E2EBFA;\n",
              "      box-shadow: 0px 1px 2px rgba(60, 64, 67, 0.3), 0px 1px 3px 1px rgba(60, 64, 67, 0.15);\n",
              "      fill: #174EA6;\n",
              "    }\n",
              "\n",
              "    [theme=dark] .colab-df-convert {\n",
              "      background-color: #3B4455;\n",
              "      fill: #D2E3FC;\n",
              "    }\n",
              "\n",
              "    [theme=dark] .colab-df-convert:hover {\n",
              "      background-color: #434B5C;\n",
              "      box-shadow: 0px 1px 3px 1px rgba(0, 0, 0, 0.15);\n",
              "      filter: drop-shadow(0px 1px 2px rgba(0, 0, 0, 0.3));\n",
              "      fill: #FFFFFF;\n",
              "    }\n",
              "  </style>\n",
              "\n",
              "      <script>\n",
              "        const buttonEl =\n",
              "          document.querySelector('#df-419d158d-3f95-4c49-beb5-0b502a06d5b2 button.colab-df-convert');\n",
              "        buttonEl.style.display =\n",
              "          google.colab.kernel.accessAllowed ? 'block' : 'none';\n",
              "\n",
              "        async function convertToInteractive(key) {\n",
              "          const element = document.querySelector('#df-419d158d-3f95-4c49-beb5-0b502a06d5b2');\n",
              "          const dataTable =\n",
              "            await google.colab.kernel.invokeFunction('convertToInteractive',\n",
              "                                                     [key], {});\n",
              "          if (!dataTable) return;\n",
              "\n",
              "          const docLinkHtml = 'Like what you see? Visit the ' +\n",
              "            '<a target=\"_blank\" href=https://colab.research.google.com/notebooks/data_table.ipynb>data table notebook</a>'\n",
              "            + ' to learn more about interactive tables.';\n",
              "          element.innerHTML = '';\n",
              "          dataTable['output_type'] = 'display_data';\n",
              "          await google.colab.output.renderOutput(dataTable, element);\n",
              "          const docLink = document.createElement('div');\n",
              "          docLink.innerHTML = docLinkHtml;\n",
              "          element.appendChild(docLink);\n",
              "        }\n",
              "      </script>\n",
              "    </div>\n",
              "  </div>\n",
              "  "
            ]
          },
          "metadata": {}
        },
        {
          "output_type": "stream",
          "name": "stdout",
          "text": [
            "----------------------------------------------------------------------------------------------------\n",
            "\n",
            "\n",
            "Esquema da Tabela: titles\n"
          ]
        },
        {
          "output_type": "display_data",
          "data": {
            "text/plain": [
              "   cid             name     type  notnull dflt_value  pk\n",
              "0    0         title_id  VARCHAR        0       None   1\n",
              "1    1             type  VARCHAR        0       None   0\n",
              "2    2    primary_title  VARCHAR        0       None   0\n",
              "3    3   original_title  VARCHAR        0       None   0\n",
              "4    4         is_adult  INTEGER        0       None   0\n",
              "5    5        premiered  INTEGER        0       None   0\n",
              "6    6            ended  INTEGER        0       None   0\n",
              "7    7  runtime_minutes  INTEGER        0       None   0\n",
              "8    8           genres  VARCHAR        0       None   0"
            ],
            "text/html": [
              "\n",
              "  <div id=\"df-81fcc4c8-6e52-452f-a2d2-f8dad01e9dfd\">\n",
              "    <div class=\"colab-df-container\">\n",
              "      <div>\n",
              "<style scoped>\n",
              "    .dataframe tbody tr th:only-of-type {\n",
              "        vertical-align: middle;\n",
              "    }\n",
              "\n",
              "    .dataframe tbody tr th {\n",
              "        vertical-align: top;\n",
              "    }\n",
              "\n",
              "    .dataframe thead th {\n",
              "        text-align: right;\n",
              "    }\n",
              "</style>\n",
              "<table border=\"1\" class=\"dataframe\">\n",
              "  <thead>\n",
              "    <tr style=\"text-align: right;\">\n",
              "      <th></th>\n",
              "      <th>cid</th>\n",
              "      <th>name</th>\n",
              "      <th>type</th>\n",
              "      <th>notnull</th>\n",
              "      <th>dflt_value</th>\n",
              "      <th>pk</th>\n",
              "    </tr>\n",
              "  </thead>\n",
              "  <tbody>\n",
              "    <tr>\n",
              "      <th>0</th>\n",
              "      <td>0</td>\n",
              "      <td>title_id</td>\n",
              "      <td>VARCHAR</td>\n",
              "      <td>0</td>\n",
              "      <td>None</td>\n",
              "      <td>1</td>\n",
              "    </tr>\n",
              "    <tr>\n",
              "      <th>1</th>\n",
              "      <td>1</td>\n",
              "      <td>type</td>\n",
              "      <td>VARCHAR</td>\n",
              "      <td>0</td>\n",
              "      <td>None</td>\n",
              "      <td>0</td>\n",
              "    </tr>\n",
              "    <tr>\n",
              "      <th>2</th>\n",
              "      <td>2</td>\n",
              "      <td>primary_title</td>\n",
              "      <td>VARCHAR</td>\n",
              "      <td>0</td>\n",
              "      <td>None</td>\n",
              "      <td>0</td>\n",
              "    </tr>\n",
              "    <tr>\n",
              "      <th>3</th>\n",
              "      <td>3</td>\n",
              "      <td>original_title</td>\n",
              "      <td>VARCHAR</td>\n",
              "      <td>0</td>\n",
              "      <td>None</td>\n",
              "      <td>0</td>\n",
              "    </tr>\n",
              "    <tr>\n",
              "      <th>4</th>\n",
              "      <td>4</td>\n",
              "      <td>is_adult</td>\n",
              "      <td>INTEGER</td>\n",
              "      <td>0</td>\n",
              "      <td>None</td>\n",
              "      <td>0</td>\n",
              "    </tr>\n",
              "    <tr>\n",
              "      <th>5</th>\n",
              "      <td>5</td>\n",
              "      <td>premiered</td>\n",
              "      <td>INTEGER</td>\n",
              "      <td>0</td>\n",
              "      <td>None</td>\n",
              "      <td>0</td>\n",
              "    </tr>\n",
              "    <tr>\n",
              "      <th>6</th>\n",
              "      <td>6</td>\n",
              "      <td>ended</td>\n",
              "      <td>INTEGER</td>\n",
              "      <td>0</td>\n",
              "      <td>None</td>\n",
              "      <td>0</td>\n",
              "    </tr>\n",
              "    <tr>\n",
              "      <th>7</th>\n",
              "      <td>7</td>\n",
              "      <td>runtime_minutes</td>\n",
              "      <td>INTEGER</td>\n",
              "      <td>0</td>\n",
              "      <td>None</td>\n",
              "      <td>0</td>\n",
              "    </tr>\n",
              "    <tr>\n",
              "      <th>8</th>\n",
              "      <td>8</td>\n",
              "      <td>genres</td>\n",
              "      <td>VARCHAR</td>\n",
              "      <td>0</td>\n",
              "      <td>None</td>\n",
              "      <td>0</td>\n",
              "    </tr>\n",
              "  </tbody>\n",
              "</table>\n",
              "</div>\n",
              "      <button class=\"colab-df-convert\" onclick=\"convertToInteractive('df-81fcc4c8-6e52-452f-a2d2-f8dad01e9dfd')\"\n",
              "              title=\"Convert this dataframe to an interactive table.\"\n",
              "              style=\"display:none;\">\n",
              "        \n",
              "  <svg xmlns=\"http://www.w3.org/2000/svg\" height=\"24px\"viewBox=\"0 0 24 24\"\n",
              "       width=\"24px\">\n",
              "    <path d=\"M0 0h24v24H0V0z\" fill=\"none\"/>\n",
              "    <path d=\"M18.56 5.44l.94 2.06.94-2.06 2.06-.94-2.06-.94-.94-2.06-.94 2.06-2.06.94zm-11 1L8.5 8.5l.94-2.06 2.06-.94-2.06-.94L8.5 2.5l-.94 2.06-2.06.94zm10 10l.94 2.06.94-2.06 2.06-.94-2.06-.94-.94-2.06-.94 2.06-2.06.94z\"/><path d=\"M17.41 7.96l-1.37-1.37c-.4-.4-.92-.59-1.43-.59-.52 0-1.04.2-1.43.59L10.3 9.45l-7.72 7.72c-.78.78-.78 2.05 0 2.83L4 21.41c.39.39.9.59 1.41.59.51 0 1.02-.2 1.41-.59l7.78-7.78 2.81-2.81c.8-.78.8-2.07 0-2.86zM5.41 20L4 18.59l7.72-7.72 1.47 1.35L5.41 20z\"/>\n",
              "  </svg>\n",
              "      </button>\n",
              "      \n",
              "  <style>\n",
              "    .colab-df-container {\n",
              "      display:flex;\n",
              "      flex-wrap:wrap;\n",
              "      gap: 12px;\n",
              "    }\n",
              "\n",
              "    .colab-df-convert {\n",
              "      background-color: #E8F0FE;\n",
              "      border: none;\n",
              "      border-radius: 50%;\n",
              "      cursor: pointer;\n",
              "      display: none;\n",
              "      fill: #1967D2;\n",
              "      height: 32px;\n",
              "      padding: 0 0 0 0;\n",
              "      width: 32px;\n",
              "    }\n",
              "\n",
              "    .colab-df-convert:hover {\n",
              "      background-color: #E2EBFA;\n",
              "      box-shadow: 0px 1px 2px rgba(60, 64, 67, 0.3), 0px 1px 3px 1px rgba(60, 64, 67, 0.15);\n",
              "      fill: #174EA6;\n",
              "    }\n",
              "\n",
              "    [theme=dark] .colab-df-convert {\n",
              "      background-color: #3B4455;\n",
              "      fill: #D2E3FC;\n",
              "    }\n",
              "\n",
              "    [theme=dark] .colab-df-convert:hover {\n",
              "      background-color: #434B5C;\n",
              "      box-shadow: 0px 1px 3px 1px rgba(0, 0, 0, 0.15);\n",
              "      filter: drop-shadow(0px 1px 2px rgba(0, 0, 0, 0.3));\n",
              "      fill: #FFFFFF;\n",
              "    }\n",
              "  </style>\n",
              "\n",
              "      <script>\n",
              "        const buttonEl =\n",
              "          document.querySelector('#df-81fcc4c8-6e52-452f-a2d2-f8dad01e9dfd button.colab-df-convert');\n",
              "        buttonEl.style.display =\n",
              "          google.colab.kernel.accessAllowed ? 'block' : 'none';\n",
              "\n",
              "        async function convertToInteractive(key) {\n",
              "          const element = document.querySelector('#df-81fcc4c8-6e52-452f-a2d2-f8dad01e9dfd');\n",
              "          const dataTable =\n",
              "            await google.colab.kernel.invokeFunction('convertToInteractive',\n",
              "                                                     [key], {});\n",
              "          if (!dataTable) return;\n",
              "\n",
              "          const docLinkHtml = 'Like what you see? Visit the ' +\n",
              "            '<a target=\"_blank\" href=https://colab.research.google.com/notebooks/data_table.ipynb>data table notebook</a>'\n",
              "            + ' to learn more about interactive tables.';\n",
              "          element.innerHTML = '';\n",
              "          dataTable['output_type'] = 'display_data';\n",
              "          await google.colab.output.renderOutput(dataTable, element);\n",
              "          const docLink = document.createElement('div');\n",
              "          docLink.innerHTML = docLinkHtml;\n",
              "          element.appendChild(docLink);\n",
              "        }\n",
              "      </script>\n",
              "    </div>\n",
              "  </div>\n",
              "  "
            ]
          },
          "metadata": {}
        },
        {
          "output_type": "stream",
          "name": "stdout",
          "text": [
            "----------------------------------------------------------------------------------------------------\n",
            "\n",
            "\n",
            "Esquema da Tabela: akas\n"
          ]
        },
        {
          "output_type": "display_data",
          "data": {
            "text/plain": [
              "   cid               name     type  notnull dflt_value  pk\n",
              "0    0           title_id  VARCHAR        0       None   0\n",
              "1    1              title  VARCHAR        0       None   0\n",
              "2    2             region  VARCHAR        0       None   0\n",
              "3    3           language  VARCHAR        0       None   0\n",
              "4    4              types  VARCHAR        0       None   0\n",
              "5    5         attributes  VARCHAR        0       None   0\n",
              "6    6  is_original_title  INTEGER        0       None   0"
            ],
            "text/html": [
              "\n",
              "  <div id=\"df-8a274a09-804d-4b64-86bb-ca6309407772\">\n",
              "    <div class=\"colab-df-container\">\n",
              "      <div>\n",
              "<style scoped>\n",
              "    .dataframe tbody tr th:only-of-type {\n",
              "        vertical-align: middle;\n",
              "    }\n",
              "\n",
              "    .dataframe tbody tr th {\n",
              "        vertical-align: top;\n",
              "    }\n",
              "\n",
              "    .dataframe thead th {\n",
              "        text-align: right;\n",
              "    }\n",
              "</style>\n",
              "<table border=\"1\" class=\"dataframe\">\n",
              "  <thead>\n",
              "    <tr style=\"text-align: right;\">\n",
              "      <th></th>\n",
              "      <th>cid</th>\n",
              "      <th>name</th>\n",
              "      <th>type</th>\n",
              "      <th>notnull</th>\n",
              "      <th>dflt_value</th>\n",
              "      <th>pk</th>\n",
              "    </tr>\n",
              "  </thead>\n",
              "  <tbody>\n",
              "    <tr>\n",
              "      <th>0</th>\n",
              "      <td>0</td>\n",
              "      <td>title_id</td>\n",
              "      <td>VARCHAR</td>\n",
              "      <td>0</td>\n",
              "      <td>None</td>\n",
              "      <td>0</td>\n",
              "    </tr>\n",
              "    <tr>\n",
              "      <th>1</th>\n",
              "      <td>1</td>\n",
              "      <td>title</td>\n",
              "      <td>VARCHAR</td>\n",
              "      <td>0</td>\n",
              "      <td>None</td>\n",
              "      <td>0</td>\n",
              "    </tr>\n",
              "    <tr>\n",
              "      <th>2</th>\n",
              "      <td>2</td>\n",
              "      <td>region</td>\n",
              "      <td>VARCHAR</td>\n",
              "      <td>0</td>\n",
              "      <td>None</td>\n",
              "      <td>0</td>\n",
              "    </tr>\n",
              "    <tr>\n",
              "      <th>3</th>\n",
              "      <td>3</td>\n",
              "      <td>language</td>\n",
              "      <td>VARCHAR</td>\n",
              "      <td>0</td>\n",
              "      <td>None</td>\n",
              "      <td>0</td>\n",
              "    </tr>\n",
              "    <tr>\n",
              "      <th>4</th>\n",
              "      <td>4</td>\n",
              "      <td>types</td>\n",
              "      <td>VARCHAR</td>\n",
              "      <td>0</td>\n",
              "      <td>None</td>\n",
              "      <td>0</td>\n",
              "    </tr>\n",
              "    <tr>\n",
              "      <th>5</th>\n",
              "      <td>5</td>\n",
              "      <td>attributes</td>\n",
              "      <td>VARCHAR</td>\n",
              "      <td>0</td>\n",
              "      <td>None</td>\n",
              "      <td>0</td>\n",
              "    </tr>\n",
              "    <tr>\n",
              "      <th>6</th>\n",
              "      <td>6</td>\n",
              "      <td>is_original_title</td>\n",
              "      <td>INTEGER</td>\n",
              "      <td>0</td>\n",
              "      <td>None</td>\n",
              "      <td>0</td>\n",
              "    </tr>\n",
              "  </tbody>\n",
              "</table>\n",
              "</div>\n",
              "      <button class=\"colab-df-convert\" onclick=\"convertToInteractive('df-8a274a09-804d-4b64-86bb-ca6309407772')\"\n",
              "              title=\"Convert this dataframe to an interactive table.\"\n",
              "              style=\"display:none;\">\n",
              "        \n",
              "  <svg xmlns=\"http://www.w3.org/2000/svg\" height=\"24px\"viewBox=\"0 0 24 24\"\n",
              "       width=\"24px\">\n",
              "    <path d=\"M0 0h24v24H0V0z\" fill=\"none\"/>\n",
              "    <path d=\"M18.56 5.44l.94 2.06.94-2.06 2.06-.94-2.06-.94-.94-2.06-.94 2.06-2.06.94zm-11 1L8.5 8.5l.94-2.06 2.06-.94-2.06-.94L8.5 2.5l-.94 2.06-2.06.94zm10 10l.94 2.06.94-2.06 2.06-.94-2.06-.94-.94-2.06-.94 2.06-2.06.94z\"/><path d=\"M17.41 7.96l-1.37-1.37c-.4-.4-.92-.59-1.43-.59-.52 0-1.04.2-1.43.59L10.3 9.45l-7.72 7.72c-.78.78-.78 2.05 0 2.83L4 21.41c.39.39.9.59 1.41.59.51 0 1.02-.2 1.41-.59l7.78-7.78 2.81-2.81c.8-.78.8-2.07 0-2.86zM5.41 20L4 18.59l7.72-7.72 1.47 1.35L5.41 20z\"/>\n",
              "  </svg>\n",
              "      </button>\n",
              "      \n",
              "  <style>\n",
              "    .colab-df-container {\n",
              "      display:flex;\n",
              "      flex-wrap:wrap;\n",
              "      gap: 12px;\n",
              "    }\n",
              "\n",
              "    .colab-df-convert {\n",
              "      background-color: #E8F0FE;\n",
              "      border: none;\n",
              "      border-radius: 50%;\n",
              "      cursor: pointer;\n",
              "      display: none;\n",
              "      fill: #1967D2;\n",
              "      height: 32px;\n",
              "      padding: 0 0 0 0;\n",
              "      width: 32px;\n",
              "    }\n",
              "\n",
              "    .colab-df-convert:hover {\n",
              "      background-color: #E2EBFA;\n",
              "      box-shadow: 0px 1px 2px rgba(60, 64, 67, 0.3), 0px 1px 3px 1px rgba(60, 64, 67, 0.15);\n",
              "      fill: #174EA6;\n",
              "    }\n",
              "\n",
              "    [theme=dark] .colab-df-convert {\n",
              "      background-color: #3B4455;\n",
              "      fill: #D2E3FC;\n",
              "    }\n",
              "\n",
              "    [theme=dark] .colab-df-convert:hover {\n",
              "      background-color: #434B5C;\n",
              "      box-shadow: 0px 1px 3px 1px rgba(0, 0, 0, 0.15);\n",
              "      filter: drop-shadow(0px 1px 2px rgba(0, 0, 0, 0.3));\n",
              "      fill: #FFFFFF;\n",
              "    }\n",
              "  </style>\n",
              "\n",
              "      <script>\n",
              "        const buttonEl =\n",
              "          document.querySelector('#df-8a274a09-804d-4b64-86bb-ca6309407772 button.colab-df-convert');\n",
              "        buttonEl.style.display =\n",
              "          google.colab.kernel.accessAllowed ? 'block' : 'none';\n",
              "\n",
              "        async function convertToInteractive(key) {\n",
              "          const element = document.querySelector('#df-8a274a09-804d-4b64-86bb-ca6309407772');\n",
              "          const dataTable =\n",
              "            await google.colab.kernel.invokeFunction('convertToInteractive',\n",
              "                                                     [key], {});\n",
              "          if (!dataTable) return;\n",
              "\n",
              "          const docLinkHtml = 'Like what you see? Visit the ' +\n",
              "            '<a target=\"_blank\" href=https://colab.research.google.com/notebooks/data_table.ipynb>data table notebook</a>'\n",
              "            + ' to learn more about interactive tables.';\n",
              "          element.innerHTML = '';\n",
              "          dataTable['output_type'] = 'display_data';\n",
              "          await google.colab.output.renderOutput(dataTable, element);\n",
              "          const docLink = document.createElement('div');\n",
              "          docLink.innerHTML = docLinkHtml;\n",
              "          element.appendChild(docLink);\n",
              "        }\n",
              "      </script>\n",
              "    </div>\n",
              "  </div>\n",
              "  "
            ]
          },
          "metadata": {}
        },
        {
          "output_type": "stream",
          "name": "stdout",
          "text": [
            "----------------------------------------------------------------------------------------------------\n",
            "\n",
            "\n",
            "Esquema da Tabela: crew\n"
          ]
        },
        {
          "output_type": "display_data",
          "data": {
            "text/plain": [
              "   cid        name     type  notnull dflt_value  pk\n",
              "0    0    title_id  VARCHAR        0       None   0\n",
              "1    1   person_id  VARCHAR        0       None   0\n",
              "2    2    category  VARCHAR        0       None   0\n",
              "3    3         job  VARCHAR        0       None   0\n",
              "4    4  characters  VARCHAR        0       None   0"
            ],
            "text/html": [
              "\n",
              "  <div id=\"df-c56b6315-53f1-4624-a18e-58cf3589c832\">\n",
              "    <div class=\"colab-df-container\">\n",
              "      <div>\n",
              "<style scoped>\n",
              "    .dataframe tbody tr th:only-of-type {\n",
              "        vertical-align: middle;\n",
              "    }\n",
              "\n",
              "    .dataframe tbody tr th {\n",
              "        vertical-align: top;\n",
              "    }\n",
              "\n",
              "    .dataframe thead th {\n",
              "        text-align: right;\n",
              "    }\n",
              "</style>\n",
              "<table border=\"1\" class=\"dataframe\">\n",
              "  <thead>\n",
              "    <tr style=\"text-align: right;\">\n",
              "      <th></th>\n",
              "      <th>cid</th>\n",
              "      <th>name</th>\n",
              "      <th>type</th>\n",
              "      <th>notnull</th>\n",
              "      <th>dflt_value</th>\n",
              "      <th>pk</th>\n",
              "    </tr>\n",
              "  </thead>\n",
              "  <tbody>\n",
              "    <tr>\n",
              "      <th>0</th>\n",
              "      <td>0</td>\n",
              "      <td>title_id</td>\n",
              "      <td>VARCHAR</td>\n",
              "      <td>0</td>\n",
              "      <td>None</td>\n",
              "      <td>0</td>\n",
              "    </tr>\n",
              "    <tr>\n",
              "      <th>1</th>\n",
              "      <td>1</td>\n",
              "      <td>person_id</td>\n",
              "      <td>VARCHAR</td>\n",
              "      <td>0</td>\n",
              "      <td>None</td>\n",
              "      <td>0</td>\n",
              "    </tr>\n",
              "    <tr>\n",
              "      <th>2</th>\n",
              "      <td>2</td>\n",
              "      <td>category</td>\n",
              "      <td>VARCHAR</td>\n",
              "      <td>0</td>\n",
              "      <td>None</td>\n",
              "      <td>0</td>\n",
              "    </tr>\n",
              "    <tr>\n",
              "      <th>3</th>\n",
              "      <td>3</td>\n",
              "      <td>job</td>\n",
              "      <td>VARCHAR</td>\n",
              "      <td>0</td>\n",
              "      <td>None</td>\n",
              "      <td>0</td>\n",
              "    </tr>\n",
              "    <tr>\n",
              "      <th>4</th>\n",
              "      <td>4</td>\n",
              "      <td>characters</td>\n",
              "      <td>VARCHAR</td>\n",
              "      <td>0</td>\n",
              "      <td>None</td>\n",
              "      <td>0</td>\n",
              "    </tr>\n",
              "  </tbody>\n",
              "</table>\n",
              "</div>\n",
              "      <button class=\"colab-df-convert\" onclick=\"convertToInteractive('df-c56b6315-53f1-4624-a18e-58cf3589c832')\"\n",
              "              title=\"Convert this dataframe to an interactive table.\"\n",
              "              style=\"display:none;\">\n",
              "        \n",
              "  <svg xmlns=\"http://www.w3.org/2000/svg\" height=\"24px\"viewBox=\"0 0 24 24\"\n",
              "       width=\"24px\">\n",
              "    <path d=\"M0 0h24v24H0V0z\" fill=\"none\"/>\n",
              "    <path d=\"M18.56 5.44l.94 2.06.94-2.06 2.06-.94-2.06-.94-.94-2.06-.94 2.06-2.06.94zm-11 1L8.5 8.5l.94-2.06 2.06-.94-2.06-.94L8.5 2.5l-.94 2.06-2.06.94zm10 10l.94 2.06.94-2.06 2.06-.94-2.06-.94-.94-2.06-.94 2.06-2.06.94z\"/><path d=\"M17.41 7.96l-1.37-1.37c-.4-.4-.92-.59-1.43-.59-.52 0-1.04.2-1.43.59L10.3 9.45l-7.72 7.72c-.78.78-.78 2.05 0 2.83L4 21.41c.39.39.9.59 1.41.59.51 0 1.02-.2 1.41-.59l7.78-7.78 2.81-2.81c.8-.78.8-2.07 0-2.86zM5.41 20L4 18.59l7.72-7.72 1.47 1.35L5.41 20z\"/>\n",
              "  </svg>\n",
              "      </button>\n",
              "      \n",
              "  <style>\n",
              "    .colab-df-container {\n",
              "      display:flex;\n",
              "      flex-wrap:wrap;\n",
              "      gap: 12px;\n",
              "    }\n",
              "\n",
              "    .colab-df-convert {\n",
              "      background-color: #E8F0FE;\n",
              "      border: none;\n",
              "      border-radius: 50%;\n",
              "      cursor: pointer;\n",
              "      display: none;\n",
              "      fill: #1967D2;\n",
              "      height: 32px;\n",
              "      padding: 0 0 0 0;\n",
              "      width: 32px;\n",
              "    }\n",
              "\n",
              "    .colab-df-convert:hover {\n",
              "      background-color: #E2EBFA;\n",
              "      box-shadow: 0px 1px 2px rgba(60, 64, 67, 0.3), 0px 1px 3px 1px rgba(60, 64, 67, 0.15);\n",
              "      fill: #174EA6;\n",
              "    }\n",
              "\n",
              "    [theme=dark] .colab-df-convert {\n",
              "      background-color: #3B4455;\n",
              "      fill: #D2E3FC;\n",
              "    }\n",
              "\n",
              "    [theme=dark] .colab-df-convert:hover {\n",
              "      background-color: #434B5C;\n",
              "      box-shadow: 0px 1px 3px 1px rgba(0, 0, 0, 0.15);\n",
              "      filter: drop-shadow(0px 1px 2px rgba(0, 0, 0, 0.3));\n",
              "      fill: #FFFFFF;\n",
              "    }\n",
              "  </style>\n",
              "\n",
              "      <script>\n",
              "        const buttonEl =\n",
              "          document.querySelector('#df-c56b6315-53f1-4624-a18e-58cf3589c832 button.colab-df-convert');\n",
              "        buttonEl.style.display =\n",
              "          google.colab.kernel.accessAllowed ? 'block' : 'none';\n",
              "\n",
              "        async function convertToInteractive(key) {\n",
              "          const element = document.querySelector('#df-c56b6315-53f1-4624-a18e-58cf3589c832');\n",
              "          const dataTable =\n",
              "            await google.colab.kernel.invokeFunction('convertToInteractive',\n",
              "                                                     [key], {});\n",
              "          if (!dataTable) return;\n",
              "\n",
              "          const docLinkHtml = 'Like what you see? Visit the ' +\n",
              "            '<a target=\"_blank\" href=https://colab.research.google.com/notebooks/data_table.ipynb>data table notebook</a>'\n",
              "            + ' to learn more about interactive tables.';\n",
              "          element.innerHTML = '';\n",
              "          dataTable['output_type'] = 'display_data';\n",
              "          await google.colab.output.renderOutput(dataTable, element);\n",
              "          const docLink = document.createElement('div');\n",
              "          docLink.innerHTML = docLinkHtml;\n",
              "          element.appendChild(docLink);\n",
              "        }\n",
              "      </script>\n",
              "    </div>\n",
              "  </div>\n",
              "  "
            ]
          },
          "metadata": {}
        },
        {
          "output_type": "stream",
          "name": "stdout",
          "text": [
            "----------------------------------------------------------------------------------------------------\n",
            "\n",
            "\n",
            "Esquema da Tabela: episodes\n"
          ]
        },
        {
          "output_type": "display_data",
          "data": {
            "text/plain": [
              "   cid              name     type  notnull dflt_value  pk\n",
              "0    0  episode_title_id  INTEGER        0       None   0\n",
              "1    1     show_title_id  INTEGER        0       None   0\n",
              "2    2     season_number  INTEGER        0       None   0\n",
              "3    3    eposide_number  INTEGER        0       None   0"
            ],
            "text/html": [
              "\n",
              "  <div id=\"df-d74a0186-af07-4e38-b772-ac0e3fcf993e\">\n",
              "    <div class=\"colab-df-container\">\n",
              "      <div>\n",
              "<style scoped>\n",
              "    .dataframe tbody tr th:only-of-type {\n",
              "        vertical-align: middle;\n",
              "    }\n",
              "\n",
              "    .dataframe tbody tr th {\n",
              "        vertical-align: top;\n",
              "    }\n",
              "\n",
              "    .dataframe thead th {\n",
              "        text-align: right;\n",
              "    }\n",
              "</style>\n",
              "<table border=\"1\" class=\"dataframe\">\n",
              "  <thead>\n",
              "    <tr style=\"text-align: right;\">\n",
              "      <th></th>\n",
              "      <th>cid</th>\n",
              "      <th>name</th>\n",
              "      <th>type</th>\n",
              "      <th>notnull</th>\n",
              "      <th>dflt_value</th>\n",
              "      <th>pk</th>\n",
              "    </tr>\n",
              "  </thead>\n",
              "  <tbody>\n",
              "    <tr>\n",
              "      <th>0</th>\n",
              "      <td>0</td>\n",
              "      <td>episode_title_id</td>\n",
              "      <td>INTEGER</td>\n",
              "      <td>0</td>\n",
              "      <td>None</td>\n",
              "      <td>0</td>\n",
              "    </tr>\n",
              "    <tr>\n",
              "      <th>1</th>\n",
              "      <td>1</td>\n",
              "      <td>show_title_id</td>\n",
              "      <td>INTEGER</td>\n",
              "      <td>0</td>\n",
              "      <td>None</td>\n",
              "      <td>0</td>\n",
              "    </tr>\n",
              "    <tr>\n",
              "      <th>2</th>\n",
              "      <td>2</td>\n",
              "      <td>season_number</td>\n",
              "      <td>INTEGER</td>\n",
              "      <td>0</td>\n",
              "      <td>None</td>\n",
              "      <td>0</td>\n",
              "    </tr>\n",
              "    <tr>\n",
              "      <th>3</th>\n",
              "      <td>3</td>\n",
              "      <td>eposide_number</td>\n",
              "      <td>INTEGER</td>\n",
              "      <td>0</td>\n",
              "      <td>None</td>\n",
              "      <td>0</td>\n",
              "    </tr>\n",
              "  </tbody>\n",
              "</table>\n",
              "</div>\n",
              "      <button class=\"colab-df-convert\" onclick=\"convertToInteractive('df-d74a0186-af07-4e38-b772-ac0e3fcf993e')\"\n",
              "              title=\"Convert this dataframe to an interactive table.\"\n",
              "              style=\"display:none;\">\n",
              "        \n",
              "  <svg xmlns=\"http://www.w3.org/2000/svg\" height=\"24px\"viewBox=\"0 0 24 24\"\n",
              "       width=\"24px\">\n",
              "    <path d=\"M0 0h24v24H0V0z\" fill=\"none\"/>\n",
              "    <path d=\"M18.56 5.44l.94 2.06.94-2.06 2.06-.94-2.06-.94-.94-2.06-.94 2.06-2.06.94zm-11 1L8.5 8.5l.94-2.06 2.06-.94-2.06-.94L8.5 2.5l-.94 2.06-2.06.94zm10 10l.94 2.06.94-2.06 2.06-.94-2.06-.94-.94-2.06-.94 2.06-2.06.94z\"/><path d=\"M17.41 7.96l-1.37-1.37c-.4-.4-.92-.59-1.43-.59-.52 0-1.04.2-1.43.59L10.3 9.45l-7.72 7.72c-.78.78-.78 2.05 0 2.83L4 21.41c.39.39.9.59 1.41.59.51 0 1.02-.2 1.41-.59l7.78-7.78 2.81-2.81c.8-.78.8-2.07 0-2.86zM5.41 20L4 18.59l7.72-7.72 1.47 1.35L5.41 20z\"/>\n",
              "  </svg>\n",
              "      </button>\n",
              "      \n",
              "  <style>\n",
              "    .colab-df-container {\n",
              "      display:flex;\n",
              "      flex-wrap:wrap;\n",
              "      gap: 12px;\n",
              "    }\n",
              "\n",
              "    .colab-df-convert {\n",
              "      background-color: #E8F0FE;\n",
              "      border: none;\n",
              "      border-radius: 50%;\n",
              "      cursor: pointer;\n",
              "      display: none;\n",
              "      fill: #1967D2;\n",
              "      height: 32px;\n",
              "      padding: 0 0 0 0;\n",
              "      width: 32px;\n",
              "    }\n",
              "\n",
              "    .colab-df-convert:hover {\n",
              "      background-color: #E2EBFA;\n",
              "      box-shadow: 0px 1px 2px rgba(60, 64, 67, 0.3), 0px 1px 3px 1px rgba(60, 64, 67, 0.15);\n",
              "      fill: #174EA6;\n",
              "    }\n",
              "\n",
              "    [theme=dark] .colab-df-convert {\n",
              "      background-color: #3B4455;\n",
              "      fill: #D2E3FC;\n",
              "    }\n",
              "\n",
              "    [theme=dark] .colab-df-convert:hover {\n",
              "      background-color: #434B5C;\n",
              "      box-shadow: 0px 1px 3px 1px rgba(0, 0, 0, 0.15);\n",
              "      filter: drop-shadow(0px 1px 2px rgba(0, 0, 0, 0.3));\n",
              "      fill: #FFFFFF;\n",
              "    }\n",
              "  </style>\n",
              "\n",
              "      <script>\n",
              "        const buttonEl =\n",
              "          document.querySelector('#df-d74a0186-af07-4e38-b772-ac0e3fcf993e button.colab-df-convert');\n",
              "        buttonEl.style.display =\n",
              "          google.colab.kernel.accessAllowed ? 'block' : 'none';\n",
              "\n",
              "        async function convertToInteractive(key) {\n",
              "          const element = document.querySelector('#df-d74a0186-af07-4e38-b772-ac0e3fcf993e');\n",
              "          const dataTable =\n",
              "            await google.colab.kernel.invokeFunction('convertToInteractive',\n",
              "                                                     [key], {});\n",
              "          if (!dataTable) return;\n",
              "\n",
              "          const docLinkHtml = 'Like what you see? Visit the ' +\n",
              "            '<a target=\"_blank\" href=https://colab.research.google.com/notebooks/data_table.ipynb>data table notebook</a>'\n",
              "            + ' to learn more about interactive tables.';\n",
              "          element.innerHTML = '';\n",
              "          dataTable['output_type'] = 'display_data';\n",
              "          await google.colab.output.renderOutput(dataTable, element);\n",
              "          const docLink = document.createElement('div');\n",
              "          docLink.innerHTML = docLinkHtml;\n",
              "          element.appendChild(docLink);\n",
              "        }\n",
              "      </script>\n",
              "    </div>\n",
              "  </div>\n",
              "  "
            ]
          },
          "metadata": {}
        },
        {
          "output_type": "stream",
          "name": "stdout",
          "text": [
            "----------------------------------------------------------------------------------------------------\n",
            "\n",
            "\n",
            "Esquema da Tabela: ratings\n"
          ]
        },
        {
          "output_type": "display_data",
          "data": {
            "text/plain": [
              "   cid      name     type  notnull dflt_value  pk\n",
              "0    0  title_id  VARCHAR        0       None   1\n",
              "1    1    rating  INTEGER        0       None   0\n",
              "2    2     votes  INTEGER        0       None   0"
            ],
            "text/html": [
              "\n",
              "  <div id=\"df-082f61c2-6bfd-40e2-87d6-71db5e0e655b\">\n",
              "    <div class=\"colab-df-container\">\n",
              "      <div>\n",
              "<style scoped>\n",
              "    .dataframe tbody tr th:only-of-type {\n",
              "        vertical-align: middle;\n",
              "    }\n",
              "\n",
              "    .dataframe tbody tr th {\n",
              "        vertical-align: top;\n",
              "    }\n",
              "\n",
              "    .dataframe thead th {\n",
              "        text-align: right;\n",
              "    }\n",
              "</style>\n",
              "<table border=\"1\" class=\"dataframe\">\n",
              "  <thead>\n",
              "    <tr style=\"text-align: right;\">\n",
              "      <th></th>\n",
              "      <th>cid</th>\n",
              "      <th>name</th>\n",
              "      <th>type</th>\n",
              "      <th>notnull</th>\n",
              "      <th>dflt_value</th>\n",
              "      <th>pk</th>\n",
              "    </tr>\n",
              "  </thead>\n",
              "  <tbody>\n",
              "    <tr>\n",
              "      <th>0</th>\n",
              "      <td>0</td>\n",
              "      <td>title_id</td>\n",
              "      <td>VARCHAR</td>\n",
              "      <td>0</td>\n",
              "      <td>None</td>\n",
              "      <td>1</td>\n",
              "    </tr>\n",
              "    <tr>\n",
              "      <th>1</th>\n",
              "      <td>1</td>\n",
              "      <td>rating</td>\n",
              "      <td>INTEGER</td>\n",
              "      <td>0</td>\n",
              "      <td>None</td>\n",
              "      <td>0</td>\n",
              "    </tr>\n",
              "    <tr>\n",
              "      <th>2</th>\n",
              "      <td>2</td>\n",
              "      <td>votes</td>\n",
              "      <td>INTEGER</td>\n",
              "      <td>0</td>\n",
              "      <td>None</td>\n",
              "      <td>0</td>\n",
              "    </tr>\n",
              "  </tbody>\n",
              "</table>\n",
              "</div>\n",
              "      <button class=\"colab-df-convert\" onclick=\"convertToInteractive('df-082f61c2-6bfd-40e2-87d6-71db5e0e655b')\"\n",
              "              title=\"Convert this dataframe to an interactive table.\"\n",
              "              style=\"display:none;\">\n",
              "        \n",
              "  <svg xmlns=\"http://www.w3.org/2000/svg\" height=\"24px\"viewBox=\"0 0 24 24\"\n",
              "       width=\"24px\">\n",
              "    <path d=\"M0 0h24v24H0V0z\" fill=\"none\"/>\n",
              "    <path d=\"M18.56 5.44l.94 2.06.94-2.06 2.06-.94-2.06-.94-.94-2.06-.94 2.06-2.06.94zm-11 1L8.5 8.5l.94-2.06 2.06-.94-2.06-.94L8.5 2.5l-.94 2.06-2.06.94zm10 10l.94 2.06.94-2.06 2.06-.94-2.06-.94-.94-2.06-.94 2.06-2.06.94z\"/><path d=\"M17.41 7.96l-1.37-1.37c-.4-.4-.92-.59-1.43-.59-.52 0-1.04.2-1.43.59L10.3 9.45l-7.72 7.72c-.78.78-.78 2.05 0 2.83L4 21.41c.39.39.9.59 1.41.59.51 0 1.02-.2 1.41-.59l7.78-7.78 2.81-2.81c.8-.78.8-2.07 0-2.86zM5.41 20L4 18.59l7.72-7.72 1.47 1.35L5.41 20z\"/>\n",
              "  </svg>\n",
              "      </button>\n",
              "      \n",
              "  <style>\n",
              "    .colab-df-container {\n",
              "      display:flex;\n",
              "      flex-wrap:wrap;\n",
              "      gap: 12px;\n",
              "    }\n",
              "\n",
              "    .colab-df-convert {\n",
              "      background-color: #E8F0FE;\n",
              "      border: none;\n",
              "      border-radius: 50%;\n",
              "      cursor: pointer;\n",
              "      display: none;\n",
              "      fill: #1967D2;\n",
              "      height: 32px;\n",
              "      padding: 0 0 0 0;\n",
              "      width: 32px;\n",
              "    }\n",
              "\n",
              "    .colab-df-convert:hover {\n",
              "      background-color: #E2EBFA;\n",
              "      box-shadow: 0px 1px 2px rgba(60, 64, 67, 0.3), 0px 1px 3px 1px rgba(60, 64, 67, 0.15);\n",
              "      fill: #174EA6;\n",
              "    }\n",
              "\n",
              "    [theme=dark] .colab-df-convert {\n",
              "      background-color: #3B4455;\n",
              "      fill: #D2E3FC;\n",
              "    }\n",
              "\n",
              "    [theme=dark] .colab-df-convert:hover {\n",
              "      background-color: #434B5C;\n",
              "      box-shadow: 0px 1px 3px 1px rgba(0, 0, 0, 0.15);\n",
              "      filter: drop-shadow(0px 1px 2px rgba(0, 0, 0, 0.3));\n",
              "      fill: #FFFFFF;\n",
              "    }\n",
              "  </style>\n",
              "\n",
              "      <script>\n",
              "        const buttonEl =\n",
              "          document.querySelector('#df-082f61c2-6bfd-40e2-87d6-71db5e0e655b button.colab-df-convert');\n",
              "        buttonEl.style.display =\n",
              "          google.colab.kernel.accessAllowed ? 'block' : 'none';\n",
              "\n",
              "        async function convertToInteractive(key) {\n",
              "          const element = document.querySelector('#df-082f61c2-6bfd-40e2-87d6-71db5e0e655b');\n",
              "          const dataTable =\n",
              "            await google.colab.kernel.invokeFunction('convertToInteractive',\n",
              "                                                     [key], {});\n",
              "          if (!dataTable) return;\n",
              "\n",
              "          const docLinkHtml = 'Like what you see? Visit the ' +\n",
              "            '<a target=\"_blank\" href=https://colab.research.google.com/notebooks/data_table.ipynb>data table notebook</a>'\n",
              "            + ' to learn more about interactive tables.';\n",
              "          element.innerHTML = '';\n",
              "          dataTable['output_type'] = 'display_data';\n",
              "          await google.colab.output.renderOutput(dataTable, element);\n",
              "          const docLink = document.createElement('div');\n",
              "          docLink.innerHTML = docLinkHtml;\n",
              "          element.appendChild(docLink);\n",
              "        }\n",
              "      </script>\n",
              "    </div>\n",
              "  </div>\n",
              "  "
            ]
          },
          "metadata": {}
        },
        {
          "output_type": "stream",
          "name": "stdout",
          "text": [
            "----------------------------------------------------------------------------------------------------\n",
            "\n",
            "\n"
          ]
        }
      ],
      "source": [
        "# Vamos percorrer a lista de tabelas no banco de dados e extrair o esquema de cada uma\n",
        "for tabela in tabelas:\n",
        "    consulta = \"PRAGMA TABLE_INFO({})\".format(tabela)\n",
        "    resultado = pd.read_sql_query(consulta, conn)\n",
        "    print(\"Esquema da Tabela:\", tabela)\n",
        "    display(resultado)\n",
        "    print(\"-\"*100)\n",
        "    print(\"\\n\")"
      ]
    },
    {
      "cell_type": "markdown",
      "id": "b855ed6b",
      "metadata": {
        "id": "b855ed6b"
      },
      "source": [
        "Agora começamos a Análise Exploratória dos Dados."
      ]
    },
    {
      "cell_type": "markdown",
      "id": "9bba7447",
      "metadata": {
        "id": "9bba7447"
      },
      "source": [
        "# 1- Quais São as Categorias de Filmes Mais Comuns no IMDB?"
      ]
    },
    {
      "cell_type": "markdown",
      "id": "4c10345c",
      "metadata": {
        "id": "4c10345c"
      },
      "source": [
        "Quais são os principais tipos (categorias) dos títulos(filmes)?"
      ]
    },
    {
      "cell_type": "code",
      "execution_count": 14,
      "id": "0706a858",
      "metadata": {
        "id": "0706a858"
      },
      "outputs": [],
      "source": [
        "# Cria a consulta SQl\n",
        "consulta1 = '''SELECT  type, COUNT(*) AS COUNT FROM titles  GROUP BY type'''"
      ]
    },
    {
      "cell_type": "code",
      "execution_count": 15,
      "id": "e51639b9",
      "metadata": {
        "id": "e51639b9"
      },
      "outputs": [],
      "source": [
        "# Extrai o resultado\n",
        "resultado1 = pd.read_sql_query(consulta1,conn)"
      ]
    },
    {
      "cell_type": "code",
      "execution_count": 16,
      "id": "321068de",
      "metadata": {
        "colab": {
          "base_uri": "https://localhost:8080/",
          "height": 394
        },
        "id": "321068de",
        "outputId": "7a0ac213-fb3e-415f-dec7-8318482d1b0a"
      },
      "outputs": [
        {
          "output_type": "display_data",
          "data": {
            "text/plain": [
              "            type    COUNT\n",
              "0          movie   605229\n",
              "1          short   861401\n",
              "2      tvEpisode  6584067\n",
              "3   tvMiniSeries    42657\n",
              "4        tvMovie   135473\n",
              "5        tvPilot        2\n",
              "6       tvSeries   222561\n",
              "7        tvShort    10509\n",
              "8      tvSpecial    36370\n",
              "9          video   258344\n",
              "10     videoGame    30681"
            ],
            "text/html": [
              "\n",
              "  <div id=\"df-69371958-2af0-4303-bca5-2613fdf7214d\">\n",
              "    <div class=\"colab-df-container\">\n",
              "      <div>\n",
              "<style scoped>\n",
              "    .dataframe tbody tr th:only-of-type {\n",
              "        vertical-align: middle;\n",
              "    }\n",
              "\n",
              "    .dataframe tbody tr th {\n",
              "        vertical-align: top;\n",
              "    }\n",
              "\n",
              "    .dataframe thead th {\n",
              "        text-align: right;\n",
              "    }\n",
              "</style>\n",
              "<table border=\"1\" class=\"dataframe\">\n",
              "  <thead>\n",
              "    <tr style=\"text-align: right;\">\n",
              "      <th></th>\n",
              "      <th>type</th>\n",
              "      <th>COUNT</th>\n",
              "    </tr>\n",
              "  </thead>\n",
              "  <tbody>\n",
              "    <tr>\n",
              "      <th>0</th>\n",
              "      <td>movie</td>\n",
              "      <td>605229</td>\n",
              "    </tr>\n",
              "    <tr>\n",
              "      <th>1</th>\n",
              "      <td>short</td>\n",
              "      <td>861401</td>\n",
              "    </tr>\n",
              "    <tr>\n",
              "      <th>2</th>\n",
              "      <td>tvEpisode</td>\n",
              "      <td>6584067</td>\n",
              "    </tr>\n",
              "    <tr>\n",
              "      <th>3</th>\n",
              "      <td>tvMiniSeries</td>\n",
              "      <td>42657</td>\n",
              "    </tr>\n",
              "    <tr>\n",
              "      <th>4</th>\n",
              "      <td>tvMovie</td>\n",
              "      <td>135473</td>\n",
              "    </tr>\n",
              "    <tr>\n",
              "      <th>5</th>\n",
              "      <td>tvPilot</td>\n",
              "      <td>2</td>\n",
              "    </tr>\n",
              "    <tr>\n",
              "      <th>6</th>\n",
              "      <td>tvSeries</td>\n",
              "      <td>222561</td>\n",
              "    </tr>\n",
              "    <tr>\n",
              "      <th>7</th>\n",
              "      <td>tvShort</td>\n",
              "      <td>10509</td>\n",
              "    </tr>\n",
              "    <tr>\n",
              "      <th>8</th>\n",
              "      <td>tvSpecial</td>\n",
              "      <td>36370</td>\n",
              "    </tr>\n",
              "    <tr>\n",
              "      <th>9</th>\n",
              "      <td>video</td>\n",
              "      <td>258344</td>\n",
              "    </tr>\n",
              "    <tr>\n",
              "      <th>10</th>\n",
              "      <td>videoGame</td>\n",
              "      <td>30681</td>\n",
              "    </tr>\n",
              "  </tbody>\n",
              "</table>\n",
              "</div>\n",
              "      <button class=\"colab-df-convert\" onclick=\"convertToInteractive('df-69371958-2af0-4303-bca5-2613fdf7214d')\"\n",
              "              title=\"Convert this dataframe to an interactive table.\"\n",
              "              style=\"display:none;\">\n",
              "        \n",
              "  <svg xmlns=\"http://www.w3.org/2000/svg\" height=\"24px\"viewBox=\"0 0 24 24\"\n",
              "       width=\"24px\">\n",
              "    <path d=\"M0 0h24v24H0V0z\" fill=\"none\"/>\n",
              "    <path d=\"M18.56 5.44l.94 2.06.94-2.06 2.06-.94-2.06-.94-.94-2.06-.94 2.06-2.06.94zm-11 1L8.5 8.5l.94-2.06 2.06-.94-2.06-.94L8.5 2.5l-.94 2.06-2.06.94zm10 10l.94 2.06.94-2.06 2.06-.94-2.06-.94-.94-2.06-.94 2.06-2.06.94z\"/><path d=\"M17.41 7.96l-1.37-1.37c-.4-.4-.92-.59-1.43-.59-.52 0-1.04.2-1.43.59L10.3 9.45l-7.72 7.72c-.78.78-.78 2.05 0 2.83L4 21.41c.39.39.9.59 1.41.59.51 0 1.02-.2 1.41-.59l7.78-7.78 2.81-2.81c.8-.78.8-2.07 0-2.86zM5.41 20L4 18.59l7.72-7.72 1.47 1.35L5.41 20z\"/>\n",
              "  </svg>\n",
              "      </button>\n",
              "      \n",
              "  <style>\n",
              "    .colab-df-container {\n",
              "      display:flex;\n",
              "      flex-wrap:wrap;\n",
              "      gap: 12px;\n",
              "    }\n",
              "\n",
              "    .colab-df-convert {\n",
              "      background-color: #E8F0FE;\n",
              "      border: none;\n",
              "      border-radius: 50%;\n",
              "      cursor: pointer;\n",
              "      display: none;\n",
              "      fill: #1967D2;\n",
              "      height: 32px;\n",
              "      padding: 0 0 0 0;\n",
              "      width: 32px;\n",
              "    }\n",
              "\n",
              "    .colab-df-convert:hover {\n",
              "      background-color: #E2EBFA;\n",
              "      box-shadow: 0px 1px 2px rgba(60, 64, 67, 0.3), 0px 1px 3px 1px rgba(60, 64, 67, 0.15);\n",
              "      fill: #174EA6;\n",
              "    }\n",
              "\n",
              "    [theme=dark] .colab-df-convert {\n",
              "      background-color: #3B4455;\n",
              "      fill: #D2E3FC;\n",
              "    }\n",
              "\n",
              "    [theme=dark] .colab-df-convert:hover {\n",
              "      background-color: #434B5C;\n",
              "      box-shadow: 0px 1px 3px 1px rgba(0, 0, 0, 0.15);\n",
              "      filter: drop-shadow(0px 1px 2px rgba(0, 0, 0, 0.3));\n",
              "      fill: #FFFFFF;\n",
              "    }\n",
              "  </style>\n",
              "\n",
              "      <script>\n",
              "        const buttonEl =\n",
              "          document.querySelector('#df-69371958-2af0-4303-bca5-2613fdf7214d button.colab-df-convert');\n",
              "        buttonEl.style.display =\n",
              "          google.colab.kernel.accessAllowed ? 'block' : 'none';\n",
              "\n",
              "        async function convertToInteractive(key) {\n",
              "          const element = document.querySelector('#df-69371958-2af0-4303-bca5-2613fdf7214d');\n",
              "          const dataTable =\n",
              "            await google.colab.kernel.invokeFunction('convertToInteractive',\n",
              "                                                     [key], {});\n",
              "          if (!dataTable) return;\n",
              "\n",
              "          const docLinkHtml = 'Like what you see? Visit the ' +\n",
              "            '<a target=\"_blank\" href=https://colab.research.google.com/notebooks/data_table.ipynb>data table notebook</a>'\n",
              "            + ' to learn more about interactive tables.';\n",
              "          element.innerHTML = '';\n",
              "          dataTable['output_type'] = 'display_data';\n",
              "          await google.colab.output.renderOutput(dataTable, element);\n",
              "          const docLink = document.createElement('div');\n",
              "          docLink.innerHTML = docLinkHtml;\n",
              "          element.appendChild(docLink);\n",
              "        }\n",
              "      </script>\n",
              "    </div>\n",
              "  </div>\n",
              "  "
            ]
          },
          "metadata": {}
        }
      ],
      "source": [
        "# Visualiza o resultado\n",
        "display(resultado1)"
      ]
    },
    {
      "cell_type": "code",
      "execution_count": 17,
      "id": "d30b73a4",
      "metadata": {
        "id": "d30b73a4"
      },
      "outputs": [],
      "source": [
        "# Vamos calcular o percentual para cada tipo\n",
        "resultado1['percentual'] = (resultado1['COUNT'] / resultado1['COUNT'].sum()) * 100"
      ]
    },
    {
      "cell_type": "code",
      "execution_count": 18,
      "id": "b5b15be4",
      "metadata": {
        "colab": {
          "base_uri": "https://localhost:8080/",
          "height": 394
        },
        "id": "b5b15be4",
        "outputId": "7ae8d573-fd86-4d93-d489-fa08fd29f4b6"
      },
      "outputs": [
        {
          "output_type": "display_data",
          "data": {
            "text/plain": [
              "            type    COUNT  percentual\n",
              "0          movie   605229    6.887547\n",
              "1          short   861401    9.802802\n",
              "2      tvEpisode  6584067   74.927128\n",
              "3   tvMiniSeries    42657    0.485440\n",
              "4        tvMovie   135473    1.541692\n",
              "5        tvPilot        2    0.000023\n",
              "6       tvSeries   222561    2.532759\n",
              "7        tvShort    10509    0.119593\n",
              "8      tvSpecial    36370    0.413893\n",
              "9          video   258344    2.939972\n",
              "10     videoGame    30681    0.349152"
            ],
            "text/html": [
              "\n",
              "  <div id=\"df-dc5ea065-38d7-44dd-a5b8-099db175e2cc\">\n",
              "    <div class=\"colab-df-container\">\n",
              "      <div>\n",
              "<style scoped>\n",
              "    .dataframe tbody tr th:only-of-type {\n",
              "        vertical-align: middle;\n",
              "    }\n",
              "\n",
              "    .dataframe tbody tr th {\n",
              "        vertical-align: top;\n",
              "    }\n",
              "\n",
              "    .dataframe thead th {\n",
              "        text-align: right;\n",
              "    }\n",
              "</style>\n",
              "<table border=\"1\" class=\"dataframe\">\n",
              "  <thead>\n",
              "    <tr style=\"text-align: right;\">\n",
              "      <th></th>\n",
              "      <th>type</th>\n",
              "      <th>COUNT</th>\n",
              "      <th>percentual</th>\n",
              "    </tr>\n",
              "  </thead>\n",
              "  <tbody>\n",
              "    <tr>\n",
              "      <th>0</th>\n",
              "      <td>movie</td>\n",
              "      <td>605229</td>\n",
              "      <td>6.887547</td>\n",
              "    </tr>\n",
              "    <tr>\n",
              "      <th>1</th>\n",
              "      <td>short</td>\n",
              "      <td>861401</td>\n",
              "      <td>9.802802</td>\n",
              "    </tr>\n",
              "    <tr>\n",
              "      <th>2</th>\n",
              "      <td>tvEpisode</td>\n",
              "      <td>6584067</td>\n",
              "      <td>74.927128</td>\n",
              "    </tr>\n",
              "    <tr>\n",
              "      <th>3</th>\n",
              "      <td>tvMiniSeries</td>\n",
              "      <td>42657</td>\n",
              "      <td>0.485440</td>\n",
              "    </tr>\n",
              "    <tr>\n",
              "      <th>4</th>\n",
              "      <td>tvMovie</td>\n",
              "      <td>135473</td>\n",
              "      <td>1.541692</td>\n",
              "    </tr>\n",
              "    <tr>\n",
              "      <th>5</th>\n",
              "      <td>tvPilot</td>\n",
              "      <td>2</td>\n",
              "      <td>0.000023</td>\n",
              "    </tr>\n",
              "    <tr>\n",
              "      <th>6</th>\n",
              "      <td>tvSeries</td>\n",
              "      <td>222561</td>\n",
              "      <td>2.532759</td>\n",
              "    </tr>\n",
              "    <tr>\n",
              "      <th>7</th>\n",
              "      <td>tvShort</td>\n",
              "      <td>10509</td>\n",
              "      <td>0.119593</td>\n",
              "    </tr>\n",
              "    <tr>\n",
              "      <th>8</th>\n",
              "      <td>tvSpecial</td>\n",
              "      <td>36370</td>\n",
              "      <td>0.413893</td>\n",
              "    </tr>\n",
              "    <tr>\n",
              "      <th>9</th>\n",
              "      <td>video</td>\n",
              "      <td>258344</td>\n",
              "      <td>2.939972</td>\n",
              "    </tr>\n",
              "    <tr>\n",
              "      <th>10</th>\n",
              "      <td>videoGame</td>\n",
              "      <td>30681</td>\n",
              "      <td>0.349152</td>\n",
              "    </tr>\n",
              "  </tbody>\n",
              "</table>\n",
              "</div>\n",
              "      <button class=\"colab-df-convert\" onclick=\"convertToInteractive('df-dc5ea065-38d7-44dd-a5b8-099db175e2cc')\"\n",
              "              title=\"Convert this dataframe to an interactive table.\"\n",
              "              style=\"display:none;\">\n",
              "        \n",
              "  <svg xmlns=\"http://www.w3.org/2000/svg\" height=\"24px\"viewBox=\"0 0 24 24\"\n",
              "       width=\"24px\">\n",
              "    <path d=\"M0 0h24v24H0V0z\" fill=\"none\"/>\n",
              "    <path d=\"M18.56 5.44l.94 2.06.94-2.06 2.06-.94-2.06-.94-.94-2.06-.94 2.06-2.06.94zm-11 1L8.5 8.5l.94-2.06 2.06-.94-2.06-.94L8.5 2.5l-.94 2.06-2.06.94zm10 10l.94 2.06.94-2.06 2.06-.94-2.06-.94-.94-2.06-.94 2.06-2.06.94z\"/><path d=\"M17.41 7.96l-1.37-1.37c-.4-.4-.92-.59-1.43-.59-.52 0-1.04.2-1.43.59L10.3 9.45l-7.72 7.72c-.78.78-.78 2.05 0 2.83L4 21.41c.39.39.9.59 1.41.59.51 0 1.02-.2 1.41-.59l7.78-7.78 2.81-2.81c.8-.78.8-2.07 0-2.86zM5.41 20L4 18.59l7.72-7.72 1.47 1.35L5.41 20z\"/>\n",
              "  </svg>\n",
              "      </button>\n",
              "      \n",
              "  <style>\n",
              "    .colab-df-container {\n",
              "      display:flex;\n",
              "      flex-wrap:wrap;\n",
              "      gap: 12px;\n",
              "    }\n",
              "\n",
              "    .colab-df-convert {\n",
              "      background-color: #E8F0FE;\n",
              "      border: none;\n",
              "      border-radius: 50%;\n",
              "      cursor: pointer;\n",
              "      display: none;\n",
              "      fill: #1967D2;\n",
              "      height: 32px;\n",
              "      padding: 0 0 0 0;\n",
              "      width: 32px;\n",
              "    }\n",
              "\n",
              "    .colab-df-convert:hover {\n",
              "      background-color: #E2EBFA;\n",
              "      box-shadow: 0px 1px 2px rgba(60, 64, 67, 0.3), 0px 1px 3px 1px rgba(60, 64, 67, 0.15);\n",
              "      fill: #174EA6;\n",
              "    }\n",
              "\n",
              "    [theme=dark] .colab-df-convert {\n",
              "      background-color: #3B4455;\n",
              "      fill: #D2E3FC;\n",
              "    }\n",
              "\n",
              "    [theme=dark] .colab-df-convert:hover {\n",
              "      background-color: #434B5C;\n",
              "      box-shadow: 0px 1px 3px 1px rgba(0, 0, 0, 0.15);\n",
              "      filter: drop-shadow(0px 1px 2px rgba(0, 0, 0, 0.3));\n",
              "      fill: #FFFFFF;\n",
              "    }\n",
              "  </style>\n",
              "\n",
              "      <script>\n",
              "        const buttonEl =\n",
              "          document.querySelector('#df-dc5ea065-38d7-44dd-a5b8-099db175e2cc button.colab-df-convert');\n",
              "        buttonEl.style.display =\n",
              "          google.colab.kernel.accessAllowed ? 'block' : 'none';\n",
              "\n",
              "        async function convertToInteractive(key) {\n",
              "          const element = document.querySelector('#df-dc5ea065-38d7-44dd-a5b8-099db175e2cc');\n",
              "          const dataTable =\n",
              "            await google.colab.kernel.invokeFunction('convertToInteractive',\n",
              "                                                     [key], {});\n",
              "          if (!dataTable) return;\n",
              "\n",
              "          const docLinkHtml = 'Like what you see? Visit the ' +\n",
              "            '<a target=\"_blank\" href=https://colab.research.google.com/notebooks/data_table.ipynb>data table notebook</a>'\n",
              "            + ' to learn more about interactive tables.';\n",
              "          element.innerHTML = '';\n",
              "          dataTable['output_type'] = 'display_data';\n",
              "          await google.colab.output.renderOutput(dataTable, element);\n",
              "          const docLink = document.createElement('div');\n",
              "          docLink.innerHTML = docLinkHtml;\n",
              "          element.appendChild(docLink);\n",
              "        }\n",
              "      </script>\n",
              "    </div>\n",
              "  </div>\n",
              "  "
            ]
          },
          "metadata": {}
        }
      ],
      "source": [
        "# Visualiza o resultado\n",
        "display(resultado1)"
      ]
    },
    {
      "cell_type": "code",
      "execution_count": 19,
      "id": "d98bc266",
      "metadata": {
        "id": "d98bc266"
      },
      "outputs": [],
      "source": [
        "# Vamos criar um gráfico com apenas 4 categorias:\n",
        "# As 3 categorias com mais títulos e 1 categoria com todo o restate\n",
        "\n",
        "# Cria um dicionário vazio\n",
        "others = {}\n",
        "\n",
        "# Filtra o percentual em 5% e soma o total\n",
        "others['COUNT'] =  resultado1[resultado1['percentual'] < 5]['COUNT'].sum()\n",
        "\n",
        "# Grava o percentual\n",
        "others['percentual'] = resultado1[resultado1['percentual'] < 5]['percentual'].sum()\n",
        "\n",
        "# Ajusta o nome\n",
        "others['type'] = 'others'\n"
      ]
    },
    {
      "cell_type": "code",
      "execution_count": 20,
      "id": "6c63d9bd",
      "metadata": {
        "colab": {
          "base_uri": "https://localhost:8080/"
        },
        "id": "6c63d9bd",
        "outputId": "1adc6c2d-0283-41c0-c420-750d8fa506aa"
      },
      "outputs": [
        {
          "output_type": "execute_result",
          "data": {
            "text/plain": [
              "{'COUNT': 736597, 'percentual': 8.3825236756617, 'type': 'others'}"
            ]
          },
          "metadata": {},
          "execution_count": 20
        }
      ],
      "source": [
        "# Visualiza\n",
        "others"
      ]
    },
    {
      "cell_type": "code",
      "execution_count": 21,
      "id": "d4ab561d",
      "metadata": {
        "id": "d4ab561d"
      },
      "outputs": [],
      "source": [
        "# Filtra o dataframe de resultado\n",
        "resultado1 = resultado1[resultado1['percentual'] > 5]"
      ]
    },
    {
      "cell_type": "code",
      "execution_count": 22,
      "id": "cec836a8",
      "metadata": {
        "id": "cec836a8"
      },
      "outputs": [],
      "source": [
        "# Append com o datafgrame de outras categorias\n",
        "resultado1 = resultado1.append(others, ignore_index= True)"
      ]
    },
    {
      "cell_type": "code",
      "execution_count": 23,
      "id": "fdb210b6",
      "metadata": {
        "id": "fdb210b6"
      },
      "outputs": [],
      "source": [
        "# Ordena o resultado\n",
        "resultado1 = resultado1.sort_values(by = 'COUNT', ascending= False)"
      ]
    },
    {
      "cell_type": "code",
      "execution_count": 24,
      "id": "bf60568f",
      "metadata": {
        "colab": {
          "base_uri": "https://localhost:8080/",
          "height": 175
        },
        "id": "bf60568f",
        "outputId": "0f20d3e1-b49e-4779-c1da-0f5c6531d4a0"
      },
      "outputs": [
        {
          "output_type": "execute_result",
          "data": {
            "text/plain": [
              "        type    COUNT  percentual\n",
              "2  tvEpisode  6584067   74.927128\n",
              "1      short   861401    9.802802\n",
              "3     others   736597    8.382524\n",
              "0      movie   605229    6.887547"
            ],
            "text/html": [
              "\n",
              "  <div id=\"df-51622828-e3a6-4a8e-8bdb-b6e049c79560\">\n",
              "    <div class=\"colab-df-container\">\n",
              "      <div>\n",
              "<style scoped>\n",
              "    .dataframe tbody tr th:only-of-type {\n",
              "        vertical-align: middle;\n",
              "    }\n",
              "\n",
              "    .dataframe tbody tr th {\n",
              "        vertical-align: top;\n",
              "    }\n",
              "\n",
              "    .dataframe thead th {\n",
              "        text-align: right;\n",
              "    }\n",
              "</style>\n",
              "<table border=\"1\" class=\"dataframe\">\n",
              "  <thead>\n",
              "    <tr style=\"text-align: right;\">\n",
              "      <th></th>\n",
              "      <th>type</th>\n",
              "      <th>COUNT</th>\n",
              "      <th>percentual</th>\n",
              "    </tr>\n",
              "  </thead>\n",
              "  <tbody>\n",
              "    <tr>\n",
              "      <th>2</th>\n",
              "      <td>tvEpisode</td>\n",
              "      <td>6584067</td>\n",
              "      <td>74.927128</td>\n",
              "    </tr>\n",
              "    <tr>\n",
              "      <th>1</th>\n",
              "      <td>short</td>\n",
              "      <td>861401</td>\n",
              "      <td>9.802802</td>\n",
              "    </tr>\n",
              "    <tr>\n",
              "      <th>3</th>\n",
              "      <td>others</td>\n",
              "      <td>736597</td>\n",
              "      <td>8.382524</td>\n",
              "    </tr>\n",
              "    <tr>\n",
              "      <th>0</th>\n",
              "      <td>movie</td>\n",
              "      <td>605229</td>\n",
              "      <td>6.887547</td>\n",
              "    </tr>\n",
              "  </tbody>\n",
              "</table>\n",
              "</div>\n",
              "      <button class=\"colab-df-convert\" onclick=\"convertToInteractive('df-51622828-e3a6-4a8e-8bdb-b6e049c79560')\"\n",
              "              title=\"Convert this dataframe to an interactive table.\"\n",
              "              style=\"display:none;\">\n",
              "        \n",
              "  <svg xmlns=\"http://www.w3.org/2000/svg\" height=\"24px\"viewBox=\"0 0 24 24\"\n",
              "       width=\"24px\">\n",
              "    <path d=\"M0 0h24v24H0V0z\" fill=\"none\"/>\n",
              "    <path d=\"M18.56 5.44l.94 2.06.94-2.06 2.06-.94-2.06-.94-.94-2.06-.94 2.06-2.06.94zm-11 1L8.5 8.5l.94-2.06 2.06-.94-2.06-.94L8.5 2.5l-.94 2.06-2.06.94zm10 10l.94 2.06.94-2.06 2.06-.94-2.06-.94-.94-2.06-.94 2.06-2.06.94z\"/><path d=\"M17.41 7.96l-1.37-1.37c-.4-.4-.92-.59-1.43-.59-.52 0-1.04.2-1.43.59L10.3 9.45l-7.72 7.72c-.78.78-.78 2.05 0 2.83L4 21.41c.39.39.9.59 1.41.59.51 0 1.02-.2 1.41-.59l7.78-7.78 2.81-2.81c.8-.78.8-2.07 0-2.86zM5.41 20L4 18.59l7.72-7.72 1.47 1.35L5.41 20z\"/>\n",
              "  </svg>\n",
              "      </button>\n",
              "      \n",
              "  <style>\n",
              "    .colab-df-container {\n",
              "      display:flex;\n",
              "      flex-wrap:wrap;\n",
              "      gap: 12px;\n",
              "    }\n",
              "\n",
              "    .colab-df-convert {\n",
              "      background-color: #E8F0FE;\n",
              "      border: none;\n",
              "      border-radius: 50%;\n",
              "      cursor: pointer;\n",
              "      display: none;\n",
              "      fill: #1967D2;\n",
              "      height: 32px;\n",
              "      padding: 0 0 0 0;\n",
              "      width: 32px;\n",
              "    }\n",
              "\n",
              "    .colab-df-convert:hover {\n",
              "      background-color: #E2EBFA;\n",
              "      box-shadow: 0px 1px 2px rgba(60, 64, 67, 0.3), 0px 1px 3px 1px rgba(60, 64, 67, 0.15);\n",
              "      fill: #174EA6;\n",
              "    }\n",
              "\n",
              "    [theme=dark] .colab-df-convert {\n",
              "      background-color: #3B4455;\n",
              "      fill: #D2E3FC;\n",
              "    }\n",
              "\n",
              "    [theme=dark] .colab-df-convert:hover {\n",
              "      background-color: #434B5C;\n",
              "      box-shadow: 0px 1px 3px 1px rgba(0, 0, 0, 0.15);\n",
              "      filter: drop-shadow(0px 1px 2px rgba(0, 0, 0, 0.3));\n",
              "      fill: #FFFFFF;\n",
              "    }\n",
              "  </style>\n",
              "\n",
              "      <script>\n",
              "        const buttonEl =\n",
              "          document.querySelector('#df-51622828-e3a6-4a8e-8bdb-b6e049c79560 button.colab-df-convert');\n",
              "        buttonEl.style.display =\n",
              "          google.colab.kernel.accessAllowed ? 'block' : 'none';\n",
              "\n",
              "        async function convertToInteractive(key) {\n",
              "          const element = document.querySelector('#df-51622828-e3a6-4a8e-8bdb-b6e049c79560');\n",
              "          const dataTable =\n",
              "            await google.colab.kernel.invokeFunction('convertToInteractive',\n",
              "                                                     [key], {});\n",
              "          if (!dataTable) return;\n",
              "\n",
              "          const docLinkHtml = 'Like what you see? Visit the ' +\n",
              "            '<a target=\"_blank\" href=https://colab.research.google.com/notebooks/data_table.ipynb>data table notebook</a>'\n",
              "            + ' to learn more about interactive tables.';\n",
              "          element.innerHTML = '';\n",
              "          dataTable['output_type'] = 'display_data';\n",
              "          await google.colab.output.renderOutput(dataTable, element);\n",
              "          const docLink = document.createElement('div');\n",
              "          docLink.innerHTML = docLinkHtml;\n",
              "          element.appendChild(docLink);\n",
              "        }\n",
              "      </script>\n",
              "    </div>\n",
              "  </div>\n",
              "  "
            ]
          },
          "metadata": {},
          "execution_count": 24
        }
      ],
      "source": [
        "# Visualiza\n",
        "resultado1.head()"
      ]
    },
    {
      "cell_type": "code",
      "execution_count": 25,
      "id": "8282ca13",
      "metadata": {
        "id": "8282ca13"
      },
      "outputs": [],
      "source": [
        "# Ajustar os labels\n",
        "labels = [str(resultado1['type'][i])+' '+'['+str(round(resultado1['percentual'][i],2)) +'%'+']' for i in resultado1.index]"
      ]
    },
    {
      "cell_type": "code",
      "execution_count": 26,
      "id": "a18ecdb5",
      "metadata": {
        "colab": {
          "base_uri": "https://localhost:8080/",
          "height": 558
        },
        "id": "a18ecdb5",
        "outputId": "c9082449-1107-4722-e47c-d9d1e003a67f"
      },
      "outputs": [
        {
          "output_type": "display_data",
          "data": {
            "text/plain": [
              "<Figure size 432x288 with 1 Axes>"
            ],
            "image/png": "[encoded data removed]"
          },
          "metadata": {}
        }
      ],
      "source": [
        "# Plot \n",
        "\n",
        "# Mapa de Cores\n",
        "# https://matplotlib.org/stable/tutorials/colors/colormaps.html\n",
        "cs = cm.Set3(np.arange(100))\n",
        "\n",
        "# Cria a figura\n",
        "f = plt.figure()\n",
        "\n",
        "# Pie Plot\n",
        "plt.pie(resultado1['COUNT'], labeldistance = 1, radius = 3, colors = cs, wedgeprops = dict(width = 0.8))\n",
        "plt.legend(labels = labels, loc = 'center', prop = {'size':12})\n",
        "plt.title(\"Distribuição de Titulos\", loc = 'Center', fontdict = {'fontsize': 20, 'fontweight': 20})\n",
        "plt.show()"
      ]
    },
    {
      "cell_type": "markdown",
      "id": "df776c21",
      "metadata": {
        "id": "df776c21"
      },
      "source": [
        "# 2- Qual o Número de Títulos Por Gênero?"
      ]
    },
    {
      "cell_type": "markdown",
      "id": "9aeb5568",
      "metadata": {
        "id": "9aeb5568"
      },
      "source": [
        "Vamos calcular o número defilmes por gênero e entregar o resultado em valor percentual."
      ]
    },
    {
      "cell_type": "code",
      "execution_count": 27,
      "id": "4787f5d4",
      "metadata": {
        "id": "4787f5d4"
      },
      "outputs": [],
      "source": [
        "# Cria a consulta SQL\n",
        "consulta2 = '''SELECT  genres, COUNT(*) FROM  titles  WHERE type = 'movie' GROUP BY genres'''"
      ]
    },
    {
      "cell_type": "code",
      "execution_count": 28,
      "id": "64065eae",
      "metadata": {
        "id": "64065eae"
      },
      "outputs": [],
      "source": [
        "# Resultado\n",
        "resultado2 = pd.read_sql_query(consulta2, conn)"
      ]
    },
    {
      "cell_type": "code",
      "execution_count": 29,
      "id": "8ade8ad5",
      "metadata": {
        "colab": {
          "base_uri": "https://localhost:8080/",
          "height": 424
        },
        "id": "8ade8ad5",
        "outputId": "5ce959a6-b35b-45f9-afab-c880644b7d04"
      },
      "outputs": [
        {
          "output_type": "display_data",
          "data": {
            "text/plain": [
              "                      genres  COUNT(*)\n",
              "0                     Action     13903\n",
              "1               Action,Adult        11\n",
              "2     Action,Adult,Adventure         1\n",
              "3        Action,Adult,Comedy         5\n",
              "4         Action,Adult,Crime        10\n",
              "...                      ...       ...\n",
              "1450        Thriller,Western        44\n",
              "1451                     War      1292\n",
              "1452             War,Western        14\n",
              "1453                 Western      5155\n",
              "1454                      \\N     71465\n",
              "\n",
              "[1455 rows x 2 columns]"
            ],
            "text/html": [
              "\n",
              "  <div id=\"df-9ecb4db9-faaf-4a7d-aca6-59a64a288eb9\">\n",
              "    <div class=\"colab-df-container\">\n",
              "      <div>\n",
              "<style scoped>\n",
              "    .dataframe tbody tr th:only-of-type {\n",
              "        vertical-align: middle;\n",
              "    }\n",
              "\n",
              "    .dataframe tbody tr th {\n",
              "        vertical-align: top;\n",
              "    }\n",
              "\n",
              "    .dataframe thead th {\n",
              "        text-align: right;\n",
              "    }\n",
              "</style>\n",
              "<table border=\"1\" class=\"dataframe\">\n",
              "  <thead>\n",
              "    <tr style=\"text-align: right;\">\n",
              "      <th></th>\n",
              "      <th>genres</th>\n",
              "      <th>COUNT(*)</th>\n",
              "    </tr>\n",
              "  </thead>\n",
              "  <tbody>\n",
              "    <tr>\n",
              "      <th>0</th>\n",
              "      <td>Action</td>\n",
              "      <td>13903</td>\n",
              "    </tr>\n",
              "    <tr>\n",
              "      <th>1</th>\n",
              "      <td>Action,Adult</td>\n",
              "      <td>11</td>\n",
              "    </tr>\n",
              "    <tr>\n",
              "      <th>2</th>\n",
              "      <td>Action,Adult,Adventure</td>\n",
              "      <td>1</td>\n",
              "    </tr>\n",
              "    <tr>\n",
              "      <th>3</th>\n",
              "      <td>Action,Adult,Comedy</td>\n",
              "      <td>5</td>\n",
              "    </tr>\n",
              "    <tr>\n",
              "      <th>4</th>\n",
              "      <td>Action,Adult,Crime</td>\n",
              "      <td>10</td>\n",
              "    </tr>\n",
              "    <tr>\n",
              "      <th>...</th>\n",
              "      <td>...</td>\n",
              "      <td>...</td>\n",
              "    </tr>\n",
              "    <tr>\n",
              "      <th>1450</th>\n",
              "      <td>Thriller,Western</td>\n",
              "      <td>44</td>\n",
              "    </tr>\n",
              "    <tr>\n",
              "      <th>1451</th>\n",
              "      <td>War</td>\n",
              "      <td>1292</td>\n",
              "    </tr>\n",
              "    <tr>\n",
              "      <th>1452</th>\n",
              "      <td>War,Western</td>\n",
              "      <td>14</td>\n",
              "    </tr>\n",
              "    <tr>\n",
              "      <th>1453</th>\n",
              "      <td>Western</td>\n",
              "      <td>5155</td>\n",
              "    </tr>\n",
              "    <tr>\n",
              "      <th>1454</th>\n",
              "      <td>\\N</td>\n",
              "      <td>71465</td>\n",
              "    </tr>\n",
              "  </tbody>\n",
              "</table>\n",
              "<p>1455 rows × 2 columns</p>\n",
              "</div>\n",
              "      <button class=\"colab-df-convert\" onclick=\"convertToInteractive('df-9ecb4db9-faaf-4a7d-aca6-59a64a288eb9')\"\n",
              "              title=\"Convert this dataframe to an interactive table.\"\n",
              "              style=\"display:none;\">\n",
              "        \n",
              "  <svg xmlns=\"http://www.w3.org/2000/svg\" height=\"24px\"viewBox=\"0 0 24 24\"\n",
              "       width=\"24px\">\n",
              "    <path d=\"M0 0h24v24H0V0z\" fill=\"none\"/>\n",
              "    <path d=\"M18.56 5.44l.94 2.06.94-2.06 2.06-.94-2.06-.94-.94-2.06-.94 2.06-2.06.94zm-11 1L8.5 8.5l.94-2.06 2.06-.94-2.06-.94L8.5 2.5l-.94 2.06-2.06.94zm10 10l.94 2.06.94-2.06 2.06-.94-2.06-.94-.94-2.06-.94 2.06-2.06.94z\"/><path d=\"M17.41 7.96l-1.37-1.37c-.4-.4-.92-.59-1.43-.59-.52 0-1.04.2-1.43.59L10.3 9.45l-7.72 7.72c-.78.78-.78 2.05 0 2.83L4 21.41c.39.39.9.59 1.41.59.51 0 1.02-.2 1.41-.59l7.78-7.78 2.81-2.81c.8-.78.8-2.07 0-2.86zM5.41 20L4 18.59l7.72-7.72 1.47 1.35L5.41 20z\"/>\n",
              "  </svg>\n",
              "      </button>\n",
              "      \n",
              "  <style>\n",
              "    .colab-df-container {\n",
              "      display:flex;\n",
              "      flex-wrap:wrap;\n",
              "      gap: 12px;\n",
              "    }\n",
              "\n",
              "    .colab-df-convert {\n",
              "      background-color: #E8F0FE;\n",
              "      border: none;\n",
              "      border-radius: 50%;\n",
              "      cursor: pointer;\n",
              "      display: none;\n",
              "      fill: #1967D2;\n",
              "      height: 32px;\n",
              "      padding: 0 0 0 0;\n",
              "      width: 32px;\n",
              "    }\n",
              "\n",
              "    .colab-df-convert:hover {\n",
              "      background-color: #E2EBFA;\n",
              "      box-shadow: 0px 1px 2px rgba(60, 64, 67, 0.3), 0px 1px 3px 1px rgba(60, 64, 67, 0.15);\n",
              "      fill: #174EA6;\n",
              "    }\n",
              "\n",
              "    [theme=dark] .colab-df-convert {\n",
              "      background-color: #3B4455;\n",
              "      fill: #D2E3FC;\n",
              "    }\n",
              "\n",
              "    [theme=dark] .colab-df-convert:hover {\n",
              "      background-color: #434B5C;\n",
              "      box-shadow: 0px 1px 3px 1px rgba(0, 0, 0, 0.15);\n",
              "      filter: drop-shadow(0px 1px 2px rgba(0, 0, 0, 0.3));\n",
              "      fill: #FFFFFF;\n",
              "    }\n",
              "  </style>\n",
              "\n",
              "      <script>\n",
              "        const buttonEl =\n",
              "          document.querySelector('#df-9ecb4db9-faaf-4a7d-aca6-59a64a288eb9 button.colab-df-convert');\n",
              "        buttonEl.style.display =\n",
              "          google.colab.kernel.accessAllowed ? 'block' : 'none';\n",
              "\n",
              "        async function convertToInteractive(key) {\n",
              "          const element = document.querySelector('#df-9ecb4db9-faaf-4a7d-aca6-59a64a288eb9');\n",
              "          const dataTable =\n",
              "            await google.colab.kernel.invokeFunction('convertToInteractive',\n",
              "                                                     [key], {});\n",
              "          if (!dataTable) return;\n",
              "\n",
              "          const docLinkHtml = 'Like what you see? Visit the ' +\n",
              "            '<a target=\"_blank\" href=https://colab.research.google.com/notebooks/data_table.ipynb>data table notebook</a>'\n",
              "            + ' to learn more about interactive tables.';\n",
              "          element.innerHTML = '';\n",
              "          dataTable['output_type'] = 'display_data';\n",
              "          await google.colab.output.renderOutput(dataTable, element);\n",
              "          const docLink = document.createElement('div');\n",
              "          docLink.innerHTML = docLinkHtml;\n",
              "          element.appendChild(docLink);\n",
              "        }\n",
              "      </script>\n",
              "    </div>\n",
              "  </div>\n",
              "  "
            ]
          },
          "metadata": {}
        }
      ],
      "source": [
        "# Visualiza o resultado\n",
        "display(resultado2)"
      ]
    },
    {
      "cell_type": "code",
      "execution_count": 30,
      "id": "ca00c7ed",
      "metadata": {
        "id": "ca00c7ed"
      },
      "outputs": [],
      "source": [
        "# Converte as Strings para minúsculo\n",
        "resultado2['genres'] = resultado2['genres'].str.lower().values"
      ]
    },
    {
      "cell_type": "code",
      "execution_count": 31,
      "id": "208e178d",
      "metadata": {
        "id": "208e178d"
      },
      "outputs": [],
      "source": [
        "# Remove Valores NA (ausentes)\n",
        "temp = resultado2['genres'].dropna()"
      ]
    },
    {
      "cell_type": "markdown",
      "id": "23f4651b",
      "metadata": {
        "id": "23f4651b"
      },
      "source": [
        "Usamos o Countvectorizer para converter a coluna de gêneros em um vetor one-hot encoded para contar o número de filmes em cada gênero - matriz esparsa - para dados em string"
      ]
    },
    {
      "cell_type": "code",
      "execution_count": 32,
      "id": "d32ddeda",
      "metadata": {
        "id": "d32ddeda"
      },
      "outputs": [],
      "source": [
        "# Vamos cirum vetor usando expressão regular para filtrar as strings\n",
        "# https://docs.python.org/3/library/re.html\n",
        "padrao = '(?u)\\\\b[\\\\w-]+\\\\b'\n",
        "\n",
        "# https://scikit-learn.org/stable/modules/generated/sklearn.feature_extraction.text.CountVectorizer.html\n",
        "#Convert a collection of text documents to a matrix of token counts - matriz esparsa\n",
        "vetor = CountVectorizer(token_pattern = padrao, analyzer = 'word').fit(temp)"
      ]
    },
    {
      "cell_type": "code",
      "execution_count": 33,
      "id": "5bdb84ff",
      "metadata": {
        "colab": {
          "base_uri": "https://localhost:8080/"
        },
        "id": "5bdb84ff",
        "outputId": "ad1e5825-52ce-4cae-cc02-10aea11a1fee"
      },
      "outputs": [
        {
          "output_type": "execute_result",
          "data": {
            "text/plain": [
              "sklearn.feature_extraction.text.CountVectorizer"
            ]
          },
          "metadata": {},
          "execution_count": 33
        }
      ],
      "source": [
        "type(vetor)"
      ]
    },
    {
      "cell_type": "code",
      "execution_count": 34,
      "id": "01780f24",
      "metadata": {
        "id": "01780f24"
      },
      "outputs": [],
      "source": [
        "# Aplica a vetorização ao dataset sem valores NA\n",
        "bag_generos = vetor.transform(temp)"
      ]
    },
    {
      "cell_type": "code",
      "execution_count": 35,
      "id": "3508f7d0",
      "metadata": {
        "colab": {
          "base_uri": "https://localhost:8080/"
        },
        "id": "3508f7d0",
        "outputId": "3df3be27-a414-4736-ae8c-2a02b1298cde"
      },
      "outputs": [
        {
          "output_type": "execute_result",
          "data": {
            "text/plain": [
              "scipy.sparse.csr.csr_matrix"
            ]
          },
          "metadata": {},
          "execution_count": 35
        }
      ],
      "source": [
        "type(bag_generos)"
      ]
    },
    {
      "cell_type": "code",
      "execution_count": 36,
      "id": "beaa445a",
      "metadata": {
        "id": "beaa445a"
      },
      "outputs": [],
      "source": [
        "# Retorna generos únicos\n",
        "generos_unicos = vetor.get_feature_names()"
      ]
    },
    {
      "cell_type": "code",
      "execution_count": 37,
      "id": "548cc69c",
      "metadata": {
        "id": "548cc69c"
      },
      "outputs": [],
      "source": [
        "# Cria o data frame de gêneros\n",
        "generos = pd.DataFrame(bag_generos.todense(), columns = generos_unicos, index = temp.index)"
      ]
    },
    {
      "cell_type": "code",
      "execution_count": 38,
      "id": "a769cb49",
      "metadata": {
        "colab": {
          "base_uri": "https://localhost:8080/"
        },
        "id": "a769cb49",
        "outputId": "b9c4ccdf-0839-4e49-817f-1bf8e47bd83c"
      },
      "outputs": [
        {
          "output_type": "stream",
          "name": "stdout",
          "text": [
            "<class 'pandas.core.frame.DataFrame'>\n",
            "Int64Index: 1455 entries, 0 to 1454\n",
            "Data columns (total 29 columns):\n",
            " #   Column       Non-Null Count  Dtype\n",
            "---  ------       --------------  -----\n",
            " 0   action       1455 non-null   int64\n",
            " 1   adult        1455 non-null   int64\n",
            " 2   adventure    1455 non-null   int64\n",
            " 3   animation    1455 non-null   int64\n",
            " 4   biography    1455 non-null   int64\n",
            " 5   comedy       1455 non-null   int64\n",
            " 6   crime        1455 non-null   int64\n",
            " 7   documentary  1455 non-null   int64\n",
            " 8   drama        1455 non-null   int64\n",
            " 9   family       1455 non-null   int64\n",
            " 10  fantasy      1455 non-null   int64\n",
            " 11  film-noir    1455 non-null   int64\n",
            " 12  game-show    1455 non-null   int64\n",
            " 13  history      1455 non-null   int64\n",
            " 14  horror       1455 non-null   int64\n",
            " 15  music        1455 non-null   int64\n",
            " 16  musical      1455 non-null   int64\n",
            " 17  mystery      1455 non-null   int64\n",
            " 18  n            1455 non-null   int64\n",
            " 19  news         1455 non-null   int64\n",
            " 20  reality-tv   1455 non-null   int64\n",
            " 21  romance      1455 non-null   int64\n",
            " 22  sci-fi       1455 non-null   int64\n",
            " 23  short        1455 non-null   int64\n",
            " 24  sport        1455 non-null   int64\n",
            " 25  talk-show    1455 non-null   int64\n",
            " 26  thriller     1455 non-null   int64\n",
            " 27  war          1455 non-null   int64\n",
            " 28  western      1455 non-null   int64\n",
            "dtypes: int64(29)\n",
            "memory usage: 341.0 KB\n"
          ]
        }
      ],
      "source": [
        "# Visualiza\n",
        "generos.info()"
      ]
    },
    {
      "cell_type": "code",
      "execution_count": 39,
      "id": "c55ae764",
      "metadata": {
        "id": "c55ae764"
      },
      "outputs": [],
      "source": [
        "# Drop Coluna n\n",
        "generos = generos.drop(columns = 'n', axis = 0)"
      ]
    },
    {
      "cell_type": "code",
      "execution_count": 40,
      "id": "31795bd9",
      "metadata": {
        "id": "31795bd9"
      },
      "outputs": [],
      "source": [
        "# Calcula o percentual\n",
        "generos_percentual = 100 * pd.Series(generos.sum()).sort_values(ascending = False) / generos.shape[0]"
      ]
    },
    {
      "cell_type": "code",
      "execution_count": 41,
      "id": "ec6e312d",
      "metadata": {
        "colab": {
          "base_uri": "https://localhost:8080/"
        },
        "id": "ec6e312d",
        "outputId": "1a7a1126-ec4b-4b43-9260-df32b2e84e23"
      },
      "outputs": [
        {
          "output_type": "execute_result",
          "data": {
            "text/plain": [
              "drama          18.144330\n",
              "comedy         16.838488\n",
              "documentary    15.807560\n",
              "adventure      14.776632\n",
              "action         14.432990\n",
              "romance        13.264605\n",
              "crime          13.127148\n",
              "mystery        12.508591\n",
              "thriller       12.302405\n",
              "fantasy        12.096220\n",
              "dtype: float64"
            ]
          },
          "metadata": {},
          "execution_count": 41
        }
      ],
      "source": [
        "# Visualiza\n",
        "generos_percentual.head(10)"
      ]
    },
    {
      "cell_type": "code",
      "execution_count": 42,
      "id": "ce34e343",
      "metadata": {
        "colab": {
          "base_uri": "https://localhost:8080/",
          "height": 548
        },
        "id": "ce34e343",
        "outputId": "8642814c-3582-4024-d641-a7f777389ca8"
      },
      "outputs": [
        {
          "output_type": "display_data",
          "data": {
            "text/plain": [
              "<Figure size 1152x576 with 1 Axes>"
            ],
            "image/png": "[encoded data removed]"
          },
          "metadata": {}
        }
      ],
      "source": [
        "# Plot\n",
        "plt.figure(figsize=(16,8))\n",
        "sns.barplot(x = generos_percentual.values, y = generos_percentual.index, orient = \"h\", palette = \"terrain\")\n",
        "plt.ylabel('Gênero')\n",
        "plt.xlabel(\"\\Percentual de Filmes (%)\")\n",
        "plt.title('\\nNúmero (Percentual) de Titulos Por Gênero\\n')\n",
        "plt.show()"
      ]
    },
    {
      "cell_type": "markdown",
      "id": "97c8b4ef",
      "metadata": {
        "id": "97c8b4ef"
      },
      "source": [
        "# 3- Qual a Mediana de Avaliação dos Filmes Por Gênero?"
      ]
    },
    {
      "cell_type": "markdown",
      "id": "907b6f68",
      "metadata": {
        "id": "907b6f68"
      },
      "source": [
        "Media de avaliação dos filmes"
      ]
    },
    {
      "cell_type": "code",
      "execution_count": 43,
      "id": "cfa30e2a",
      "metadata": {
        "id": "cfa30e2a"
      },
      "outputs": [],
      "source": [
        "# Consulta SQL\n",
        "consulta3 = '''\n",
        "            SELECT  rating, genres  FROM \n",
        "            ratings \n",
        "            JOIN titles ON ratings.title_id = titles.title_id\n",
        "            WHERE  premiered <= 2022 AND type = 'movie'\n",
        "            '''"
      ]
    },
    {
      "cell_type": "code",
      "execution_count": 44,
      "id": "ccd0501f",
      "metadata": {
        "id": "ccd0501f"
      },
      "outputs": [],
      "source": [
        "# Resultado\n",
        "resultado3 = pd.read_sql_query(consulta3, conn)"
      ]
    },
    {
      "cell_type": "code",
      "execution_count": 45,
      "id": "22801172",
      "metadata": {
        "colab": {
          "base_uri": "https://localhost:8080/",
          "height": 424
        },
        "id": "22801172",
        "outputId": "cafe69a8-57e2-4e8d-ff8c-1ce1ccf6559b"
      },
      "outputs": [
        {
          "output_type": "display_data",
          "data": {
            "text/plain": [
              "        rating                      genres\n",
              "0          4.5                          \\N\n",
              "1          6.0  Action,Adventure,Biography\n",
              "2          4.6                       Drama\n",
              "3          4.5                       Drama\n",
              "4          3.8                       Drama\n",
              "...        ...                         ...\n",
              "276314     5.8                    Thriller\n",
              "276315     6.4               Drama,History\n",
              "276316     3.8       Adventure,History,War\n",
              "276317     8.3                       Drama\n",
              "276318     8.4                          \\N\n",
              "\n",
              "[276319 rows x 2 columns]"
            ],
            "text/html": [
              "\n",
              "  <div id=\"df-76315ba4-8c55-413c-bc66-33b4acbc9656\">\n",
              "    <div class=\"colab-df-container\">\n",
              "      <div>\n",
              "<style scoped>\n",
              "    .dataframe tbody tr th:only-of-type {\n",
              "        vertical-align: middle;\n",
              "    }\n",
              "\n",
              "    .dataframe tbody tr th {\n",
              "        vertical-align: top;\n",
              "    }\n",
              "\n",
              "    .dataframe thead th {\n",
              "        text-align: right;\n",
              "    }\n",
              "</style>\n",
              "<table border=\"1\" class=\"dataframe\">\n",
              "  <thead>\n",
              "    <tr style=\"text-align: right;\">\n",
              "      <th></th>\n",
              "      <th>rating</th>\n",
              "      <th>genres</th>\n",
              "    </tr>\n",
              "  </thead>\n",
              "  <tbody>\n",
              "    <tr>\n",
              "      <th>0</th>\n",
              "      <td>4.5</td>\n",
              "      <td>\\N</td>\n",
              "    </tr>\n",
              "    <tr>\n",
              "      <th>1</th>\n",
              "      <td>6.0</td>\n",
              "      <td>Action,Adventure,Biography</td>\n",
              "    </tr>\n",
              "    <tr>\n",
              "      <th>2</th>\n",
              "      <td>4.6</td>\n",
              "      <td>Drama</td>\n",
              "    </tr>\n",
              "    <tr>\n",
              "      <th>3</th>\n",
              "      <td>4.5</td>\n",
              "      <td>Drama</td>\n",
              "    </tr>\n",
              "    <tr>\n",
              "      <th>4</th>\n",
              "      <td>3.8</td>\n",
              "      <td>Drama</td>\n",
              "    </tr>\n",
              "    <tr>\n",
              "      <th>...</th>\n",
              "      <td>...</td>\n",
              "      <td>...</td>\n",
              "    </tr>\n",
              "    <tr>\n",
              "      <th>276314</th>\n",
              "      <td>5.8</td>\n",
              "      <td>Thriller</td>\n",
              "    </tr>\n",
              "    <tr>\n",
              "      <th>276315</th>\n",
              "      <td>6.4</td>\n",
              "      <td>Drama,History</td>\n",
              "    </tr>\n",
              "    <tr>\n",
              "      <th>276316</th>\n",
              "      <td>3.8</td>\n",
              "      <td>Adventure,History,War</td>\n",
              "    </tr>\n",
              "    <tr>\n",
              "      <th>276317</th>\n",
              "      <td>8.3</td>\n",
              "      <td>Drama</td>\n",
              "    </tr>\n",
              "    <tr>\n",
              "      <th>276318</th>\n",
              "      <td>8.4</td>\n",
              "      <td>\\N</td>\n",
              "    </tr>\n",
              "  </tbody>\n",
              "</table>\n",
              "<p>276319 rows × 2 columns</p>\n",
              "</div>\n",
              "      <button class=\"colab-df-convert\" onclick=\"convertToInteractive('df-76315ba4-8c55-413c-bc66-33b4acbc9656')\"\n",
              "              title=\"Convert this dataframe to an interactive table.\"\n",
              "              style=\"display:none;\">\n",
              "        \n",
              "  <svg xmlns=\"http://www.w3.org/2000/svg\" height=\"24px\"viewBox=\"0 0 24 24\"\n",
              "       width=\"24px\">\n",
              "    <path d=\"M0 0h24v24H0V0z\" fill=\"none\"/>\n",
              "    <path d=\"M18.56 5.44l.94 2.06.94-2.06 2.06-.94-2.06-.94-.94-2.06-.94 2.06-2.06.94zm-11 1L8.5 8.5l.94-2.06 2.06-.94-2.06-.94L8.5 2.5l-.94 2.06-2.06.94zm10 10l.94 2.06.94-2.06 2.06-.94-2.06-.94-.94-2.06-.94 2.06-2.06.94z\"/><path d=\"M17.41 7.96l-1.37-1.37c-.4-.4-.92-.59-1.43-.59-.52 0-1.04.2-1.43.59L10.3 9.45l-7.72 7.72c-.78.78-.78 2.05 0 2.83L4 21.41c.39.39.9.59 1.41.59.51 0 1.02-.2 1.41-.59l7.78-7.78 2.81-2.81c.8-.78.8-2.07 0-2.86zM5.41 20L4 18.59l7.72-7.72 1.47 1.35L5.41 20z\"/>\n",
              "  </svg>\n",
              "      </button>\n",
              "      \n",
              "  <style>\n",
              "    .colab-df-container {\n",
              "      display:flex;\n",
              "      flex-wrap:wrap;\n",
              "      gap: 12px;\n",
              "    }\n",
              "\n",
              "    .colab-df-convert {\n",
              "      background-color: #E8F0FE;\n",
              "      border: none;\n",
              "      border-radius: 50%;\n",
              "      cursor: pointer;\n",
              "      display: none;\n",
              "      fill: #1967D2;\n",
              "      height: 32px;\n",
              "      padding: 0 0 0 0;\n",
              "      width: 32px;\n",
              "    }\n",
              "\n",
              "    .colab-df-convert:hover {\n",
              "      background-color: #E2EBFA;\n",
              "      box-shadow: 0px 1px 2px rgba(60, 64, 67, 0.3), 0px 1px 3px 1px rgba(60, 64, 67, 0.15);\n",
              "      fill: #174EA6;\n",
              "    }\n",
              "\n",
              "    [theme=dark] .colab-df-convert {\n",
              "      background-color: #3B4455;\n",
              "      fill: #D2E3FC;\n",
              "    }\n",
              "\n",
              "    [theme=dark] .colab-df-convert:hover {\n",
              "      background-color: #434B5C;\n",
              "      box-shadow: 0px 1px 3px 1px rgba(0, 0, 0, 0.15);\n",
              "      filter: drop-shadow(0px 1px 2px rgba(0, 0, 0, 0.3));\n",
              "      fill: #FFFFFF;\n",
              "    }\n",
              "  </style>\n",
              "\n",
              "      <script>\n",
              "        const buttonEl =\n",
              "          document.querySelector('#df-76315ba4-8c55-413c-bc66-33b4acbc9656 button.colab-df-convert');\n",
              "        buttonEl.style.display =\n",
              "          google.colab.kernel.accessAllowed ? 'block' : 'none';\n",
              "\n",
              "        async function convertToInteractive(key) {\n",
              "          const element = document.querySelector('#df-76315ba4-8c55-413c-bc66-33b4acbc9656');\n",
              "          const dataTable =\n",
              "            await google.colab.kernel.invokeFunction('convertToInteractive',\n",
              "                                                     [key], {});\n",
              "          if (!dataTable) return;\n",
              "\n",
              "          const docLinkHtml = 'Like what you see? Visit the ' +\n",
              "            '<a target=\"_blank\" href=https://colab.research.google.com/notebooks/data_table.ipynb>data table notebook</a>'\n",
              "            + ' to learn more about interactive tables.';\n",
              "          element.innerHTML = '';\n",
              "          dataTable['output_type'] = 'display_data';\n",
              "          await google.colab.output.renderOutput(dataTable, element);\n",
              "          const docLink = document.createElement('div');\n",
              "          docLink.innerHTML = docLinkHtml;\n",
              "          element.appendChild(docLink);\n",
              "        }\n",
              "      </script>\n",
              "    </div>\n",
              "  </div>\n",
              "  "
            ]
          },
          "metadata": {}
        }
      ],
      "source": [
        "# Visualiza\n",
        "display(resultado3)"
      ]
    },
    {
      "cell_type": "code",
      "execution_count": 46,
      "id": "8acce6f6",
      "metadata": {
        "id": "8acce6f6"
      },
      "outputs": [],
      "source": [
        "# Vamos criar uma função para retornar os genêros\n",
        "def retorna_generos(df):\n",
        "    df['genres'] = df['genres'].str.lower().values\n",
        "    temp = df['genres'].dropna()\n",
        "    vetor = CountVectorizer(token_pattern = '(?u)\\\\b[\\\\w-]+\\\\b', analyzer = 'word').fit(temp)\n",
        "    generos_unicos = vetor.get_feature_names()\n",
        "    generos_unicos = [genre for genre in generos_unicos if len(genre) > 1]\n",
        "    return generos_unicos\n",
        "                    "
      ]
    },
    {
      "cell_type": "code",
      "execution_count": 47,
      "id": "64ce1842",
      "metadata": {
        "id": "64ce1842"
      },
      "outputs": [],
      "source": [
        "# Aplica a função \n",
        "generos_unicos = retorna_generos(resultado3)"
      ]
    },
    {
      "cell_type": "code",
      "execution_count": 48,
      "id": "ab909829",
      "metadata": {
        "colab": {
          "base_uri": "https://localhost:8080/"
        },
        "id": "ab909829",
        "outputId": "e27e0ea8-6c51-418f-88ce-941f237ba629"
      },
      "outputs": [
        {
          "output_type": "execute_result",
          "data": {
            "text/plain": [
              "['action',\n",
              " 'adult',\n",
              " 'adventure',\n",
              " 'animation',\n",
              " 'biography',\n",
              " 'comedy',\n",
              " 'crime',\n",
              " 'documentary',\n",
              " 'drama',\n",
              " 'family',\n",
              " 'fantasy',\n",
              " 'film-noir',\n",
              " 'game-show',\n",
              " 'history',\n",
              " 'horror',\n",
              " 'music',\n",
              " 'musical',\n",
              " 'mystery',\n",
              " 'news',\n",
              " 'reality-tv',\n",
              " 'romance',\n",
              " 'sci-fi',\n",
              " 'short',\n",
              " 'sport',\n",
              " 'talk-show',\n",
              " 'thriller',\n",
              " 'war',\n",
              " 'western']"
            ]
          },
          "metadata": {},
          "execution_count": 48
        }
      ],
      "source": [
        "# Visualiza\n",
        "generos_unicos"
      ]
    },
    {
      "cell_type": "code",
      "execution_count": 49,
      "id": "0256419d",
      "metadata": {
        "id": "0256419d"
      },
      "outputs": [],
      "source": [
        "# Cria lista Vazias\n",
        "genero_counts = []\n",
        "genero_ratings = []"
      ]
    },
    {
      "cell_type": "code",
      "execution_count": 50,
      "id": "d340fb04",
      "metadata": {
        "id": "d340fb04"
      },
      "outputs": [],
      "source": [
        "# Loop\n",
        "for item in generos_unicos:\n",
        "   \n",
        "   # Retorna a contagem de filmes por gênero\n",
        "   consulta = 'SELECT COUNT(rating) FROM ratings JOIN titles ON ratings.title_id=titles.title_id WHERE genres LIKE '+ '\\''+'%'+item+'%'+'\\' AND type=\\'movie\\''\n",
        "   resultado = pd.read_sql_query(consulta, conn)\n",
        "   genero_counts.append(resultado.values[0][0])\n",
        " \n",
        "    # Retorna a avaliação de filmes por gênero\n",
        "   consulta = 'SELECT rating FROM ratings JOIN titles ON ratings.title_id=titles.title_id WHERE genres LIKE '+ '\\''+'%'+item+'%'+'\\' AND type=\\'movie\\''\n",
        "   resultado = pd.read_sql_query(consulta, conn)\n",
        "   genero_ratings.append(np.median(resultado['rating']))"
      ]
    },
    {
      "cell_type": "code",
      "execution_count": 51,
      "id": "6b3ccb36",
      "metadata": {
        "id": "6b3ccb36"
      },
      "outputs": [],
      "source": [
        "# Prepara o dataframe final\n",
        "df_genero_ratings = pd.DataFrame()\n",
        "df_genero_ratings['genres'] = generos_unicos\n",
        "df_genero_ratings['count'] = genero_counts\n",
        "df_genero_ratings['rating'] = genero_ratings"
      ]
    },
    {
      "cell_type": "code",
      "execution_count": 52,
      "id": "a217bacf",
      "metadata": {
        "colab": {
          "base_uri": "https://localhost:8080/",
          "height": 677
        },
        "id": "a217bacf",
        "outputId": "9a0cb4e0-33df-4da3-80b2-e376874a7eee"
      },
      "outputs": [
        {
          "output_type": "execute_result",
          "data": {
            "text/plain": [
              "         genres   count  rating\n",
              "0        action   28572     5.8\n",
              "1         adult    4348     5.9\n",
              "2     adventure   17335     6.0\n",
              "3     animation    4751     6.6\n",
              "4     biography    8371     7.0\n",
              "5        comedy   68403     6.0\n",
              "6         crime   23584     6.1\n",
              "7   documentary   41089     7.3\n",
              "8         drama  122353     6.3\n",
              "9        family   10683     6.3\n",
              "10      fantasy    8173     6.0\n",
              "11    film-noir     764     6.5\n",
              "12    game-show       3     8.9\n",
              "13      history    7636     6.9\n",
              "14       horror   19622     5.0\n",
              "15        music   12538     6.6\n",
              "16      musical    6217     6.2\n",
              "17      mystery   10331     6.0\n",
              "18         news     653     7.3\n",
              "19   reality-tv      47     6.1"
            ],
            "text/html": [
              "\n",
              "  <div id=\"df-0c2e7b53-1b4c-4c61-874b-8a95671f5603\">\n",
              "    <div class=\"colab-df-container\">\n",
              "      <div>\n",
              "<style scoped>\n",
              "    .dataframe tbody tr th:only-of-type {\n",
              "        vertical-align: middle;\n",
              "    }\n",
              "\n",
              "    .dataframe tbody tr th {\n",
              "        vertical-align: top;\n",
              "    }\n",
              "\n",
              "    .dataframe thead th {\n",
              "        text-align: right;\n",
              "    }\n",
              "</style>\n",
              "<table border=\"1\" class=\"dataframe\">\n",
              "  <thead>\n",
              "    <tr style=\"text-align: right;\">\n",
              "      <th></th>\n",
              "      <th>genres</th>\n",
              "      <th>count</th>\n",
              "      <th>rating</th>\n",
              "    </tr>\n",
              "  </thead>\n",
              "  <tbody>\n",
              "    <tr>\n",
              "      <th>0</th>\n",
              "      <td>action</td>\n",
              "      <td>28572</td>\n",
              "      <td>5.8</td>\n",
              "    </tr>\n",
              "    <tr>\n",
              "      <th>1</th>\n",
              "      <td>adult</td>\n",
              "      <td>4348</td>\n",
              "      <td>5.9</td>\n",
              "    </tr>\n",
              "    <tr>\n",
              "      <th>2</th>\n",
              "      <td>adventure</td>\n",
              "      <td>17335</td>\n",
              "      <td>6.0</td>\n",
              "    </tr>\n",
              "    <tr>\n",
              "      <th>3</th>\n",
              "      <td>animation</td>\n",
              "      <td>4751</td>\n",
              "      <td>6.6</td>\n",
              "    </tr>\n",
              "    <tr>\n",
              "      <th>4</th>\n",
              "      <td>biography</td>\n",
              "      <td>8371</td>\n",
              "      <td>7.0</td>\n",
              "    </tr>\n",
              "    <tr>\n",
              "      <th>5</th>\n",
              "      <td>comedy</td>\n",
              "      <td>68403</td>\n",
              "      <td>6.0</td>\n",
              "    </tr>\n",
              "    <tr>\n",
              "      <th>6</th>\n",
              "      <td>crime</td>\n",
              "      <td>23584</td>\n",
              "      <td>6.1</td>\n",
              "    </tr>\n",
              "    <tr>\n",
              "      <th>7</th>\n",
              "      <td>documentary</td>\n",
              "      <td>41089</td>\n",
              "      <td>7.3</td>\n",
              "    </tr>\n",
              "    <tr>\n",
              "      <th>8</th>\n",
              "      <td>drama</td>\n",
              "      <td>122353</td>\n",
              "      <td>6.3</td>\n",
              "    </tr>\n",
              "    <tr>\n",
              "      <th>9</th>\n",
              "      <td>family</td>\n",
              "      <td>10683</td>\n",
              "      <td>6.3</td>\n",
              "    </tr>\n",
              "    <tr>\n",
              "      <th>10</th>\n",
              "      <td>fantasy</td>\n",
              "      <td>8173</td>\n",
              "      <td>6.0</td>\n",
              "    </tr>\n",
              "    <tr>\n",
              "      <th>11</th>\n",
              "      <td>film-noir</td>\n",
              "      <td>764</td>\n",
              "      <td>6.5</td>\n",
              "    </tr>\n",
              "    <tr>\n",
              "      <th>12</th>\n",
              "      <td>game-show</td>\n",
              "      <td>3</td>\n",
              "      <td>8.9</td>\n",
              "    </tr>\n",
              "    <tr>\n",
              "      <th>13</th>\n",
              "      <td>history</td>\n",
              "      <td>7636</td>\n",
              "      <td>6.9</td>\n",
              "    </tr>\n",
              "    <tr>\n",
              "      <th>14</th>\n",
              "      <td>horror</td>\n",
              "      <td>19622</td>\n",
              "      <td>5.0</td>\n",
              "    </tr>\n",
              "    <tr>\n",
              "      <th>15</th>\n",
              "      <td>music</td>\n",
              "      <td>12538</td>\n",
              "      <td>6.6</td>\n",
              "    </tr>\n",
              "    <tr>\n",
              "      <th>16</th>\n",
              "      <td>musical</td>\n",
              "      <td>6217</td>\n",
              "      <td>6.2</td>\n",
              "    </tr>\n",
              "    <tr>\n",
              "      <th>17</th>\n",
              "      <td>mystery</td>\n",
              "      <td>10331</td>\n",
              "      <td>6.0</td>\n",
              "    </tr>\n",
              "    <tr>\n",
              "      <th>18</th>\n",
              "      <td>news</td>\n",
              "      <td>653</td>\n",
              "      <td>7.3</td>\n",
              "    </tr>\n",
              "    <tr>\n",
              "      <th>19</th>\n",
              "      <td>reality-tv</td>\n",
              "      <td>47</td>\n",
              "      <td>6.1</td>\n",
              "    </tr>\n",
              "  </tbody>\n",
              "</table>\n",
              "</div>\n",
              "      <button class=\"colab-df-convert\" onclick=\"convertToInteractive('df-0c2e7b53-1b4c-4c61-874b-8a95671f5603')\"\n",
              "              title=\"Convert this dataframe to an interactive table.\"\n",
              "              style=\"display:none;\">\n",
              "        \n",
              "  <svg xmlns=\"http://www.w3.org/2000/svg\" height=\"24px\"viewBox=\"0 0 24 24\"\n",
              "       width=\"24px\">\n",
              "    <path d=\"M0 0h24v24H0V0z\" fill=\"none\"/>\n",
              "    <path d=\"M18.56 5.44l.94 2.06.94-2.06 2.06-.94-2.06-.94-.94-2.06-.94 2.06-2.06.94zm-11 1L8.5 8.5l.94-2.06 2.06-.94-2.06-.94L8.5 2.5l-.94 2.06-2.06.94zm10 10l.94 2.06.94-2.06 2.06-.94-2.06-.94-.94-2.06-.94 2.06-2.06.94z\"/><path d=\"M17.41 7.96l-1.37-1.37c-.4-.4-.92-.59-1.43-.59-.52 0-1.04.2-1.43.59L10.3 9.45l-7.72 7.72c-.78.78-.78 2.05 0 2.83L4 21.41c.39.39.9.59 1.41.59.51 0 1.02-.2 1.41-.59l7.78-7.78 2.81-2.81c.8-.78.8-2.07 0-2.86zM5.41 20L4 18.59l7.72-7.72 1.47 1.35L5.41 20z\"/>\n",
              "  </svg>\n",
              "      </button>\n",
              "      \n",
              "  <style>\n",
              "    .colab-df-container {\n",
              "      display:flex;\n",
              "      flex-wrap:wrap;\n",
              "      gap: 12px;\n",
              "    }\n",
              "\n",
              "    .colab-df-convert {\n",
              "      background-color: #E8F0FE;\n",
              "      border: none;\n",
              "      border-radius: 50%;\n",
              "      cursor: pointer;\n",
              "      display: none;\n",
              "      fill: #1967D2;\n",
              "      height: 32px;\n",
              "      padding: 0 0 0 0;\n",
              "      width: 32px;\n",
              "    }\n",
              "\n",
              "    .colab-df-convert:hover {\n",
              "      background-color: #E2EBFA;\n",
              "      box-shadow: 0px 1px 2px rgba(60, 64, 67, 0.3), 0px 1px 3px 1px rgba(60, 64, 67, 0.15);\n",
              "      fill: #174EA6;\n",
              "    }\n",
              "\n",
              "    [theme=dark] .colab-df-convert {\n",
              "      background-color: #3B4455;\n",
              "      fill: #D2E3FC;\n",
              "    }\n",
              "\n",
              "    [theme=dark] .colab-df-convert:hover {\n",
              "      background-color: #434B5C;\n",
              "      box-shadow: 0px 1px 3px 1px rgba(0, 0, 0, 0.15);\n",
              "      filter: drop-shadow(0px 1px 2px rgba(0, 0, 0, 0.3));\n",
              "      fill: #FFFFFF;\n",
              "    }\n",
              "  </style>\n",
              "\n",
              "      <script>\n",
              "        const buttonEl =\n",
              "          document.querySelector('#df-0c2e7b53-1b4c-4c61-874b-8a95671f5603 button.colab-df-convert');\n",
              "        buttonEl.style.display =\n",
              "          google.colab.kernel.accessAllowed ? 'block' : 'none';\n",
              "\n",
              "        async function convertToInteractive(key) {\n",
              "          const element = document.querySelector('#df-0c2e7b53-1b4c-4c61-874b-8a95671f5603');\n",
              "          const dataTable =\n",
              "            await google.colab.kernel.invokeFunction('convertToInteractive',\n",
              "                                                     [key], {});\n",
              "          if (!dataTable) return;\n",
              "\n",
              "          const docLinkHtml = 'Like what you see? Visit the ' +\n",
              "            '<a target=\"_blank\" href=https://colab.research.google.com/notebooks/data_table.ipynb>data table notebook</a>'\n",
              "            + ' to learn more about interactive tables.';\n",
              "          element.innerHTML = '';\n",
              "          dataTable['output_type'] = 'display_data';\n",
              "          await google.colab.output.renderOutput(dataTable, element);\n",
              "          const docLink = document.createElement('div');\n",
              "          docLink.innerHTML = docLinkHtml;\n",
              "          element.appendChild(docLink);\n",
              "        }\n",
              "      </script>\n",
              "    </div>\n",
              "  </div>\n",
              "  "
            ]
          },
          "metadata": {},
          "execution_count": 52
        }
      ],
      "source": [
        "# Visualiza\n",
        "df_genero_ratings.head(20)"
      ]
    },
    {
      "cell_type": "code",
      "execution_count": 53,
      "id": "e3a1fb41",
      "metadata": {
        "id": "e3a1fb41"
      },
      "outputs": [],
      "source": [
        "# Drop do índice 18 (news)\n",
        "# Não queremmos essa informação como gênero\n",
        "df_genero_ratings = df_genero_ratings.drop(index = 18)"
      ]
    },
    {
      "cell_type": "code",
      "execution_count": 54,
      "id": "f7deb657",
      "metadata": {
        "id": "f7deb657"
      },
      "outputs": [],
      "source": [
        "# Ordena o resultado\n",
        "df_genero_ratings = df_genero_ratings.sort_values( by = 'rating', ascending = False)"
      ]
    },
    {
      "cell_type": "code",
      "execution_count": 55,
      "id": "085bb6e9",
      "metadata": {
        "colab": {
          "base_uri": "https://localhost:8080/",
          "height": 657
        },
        "id": "085bb6e9",
        "outputId": "12fa85c8-b5f5-4ed8-941e-e7b95560b3f1"
      },
      "outputs": [
        {
          "output_type": "display_data",
          "data": {
            "text/plain": [
              "<Figure size 1152x720 with 1 Axes>"
            ],
            "image/png": "[encoded data removed]"
          },
          "metadata": {}
        }
      ],
      "source": [
        "# Plot\n",
        "\n",
        "# Figura\n",
        "plt.figure(figsize = (16,10))\n",
        "\n",
        "# Barplot\n",
        "sns.barplot(y = df_genero_ratings.genres, x = df_genero_ratings.rating, orient = \"h\")\n",
        "\n",
        "# Textos do gráfico\n",
        "for i in range(len(df_genero_ratings.index)):\n",
        "    \n",
        "    plt.text(4.0,\n",
        "            i + 0.25,\n",
        "            str(df_genero_ratings['count'][df_genero_ratings.index[i]]) + \" filmes\")\n",
        "    \n",
        "    plt.text(df_genero_ratings.rating[df_genero_ratings.index[i]],\n",
        "            i + 0.25,\n",
        "            round(df_genero_ratings[\"rating\"][df_genero_ratings.index[i]],2))\n",
        "plt.ylabel('Gênero')\n",
        "plt.xlabel('Avaliação')\n",
        "plt.title('\\nMediana de Avaliação Por Gênero\\n')\n",
        "plt.show()"
      ]
    },
    {
      "cell_type": "markdown",
      "id": "ecfd075f",
      "metadata": {
        "id": "ecfd075f"
      },
      "source": [
        "# 4- Qual a Mediana de Avaliação dos Filmes Em Relação ao Ano de Estréia?"
      ]
    },
    {
      "cell_type": "markdown",
      "id": "eb743069",
      "metadata": {
        "id": "eb743069"
      },
      "source": [
        "Mediana de avaliação dos Filmes."
      ]
    },
    {
      "cell_type": "code",
      "execution_count": 56,
      "id": "3290f8b4",
      "metadata": {
        "id": "3290f8b4"
      },
      "outputs": [],
      "source": [
        "# Consulta SQL\n",
        "consulta4 = '''\n",
        "            SELECT  rating AS Rating, premiered FROM\n",
        "            ratings \n",
        "            JOIN titles ON ratings.title_id = titles.title_id\n",
        "            WHERE  premiered <= 2022 AND  type = 'movie'\n",
        "            ORDER BY  premiered\n",
        "            '''"
      ]
    },
    {
      "cell_type": "code",
      "execution_count": 57,
      "id": "f440737e",
      "metadata": {
        "id": "f440737e"
      },
      "outputs": [],
      "source": [
        "# Resultado\n",
        "resultado4 = pd.read_sql_query(consulta4, conn)"
      ]
    },
    {
      "cell_type": "code",
      "execution_count": 58,
      "id": "f906cc06",
      "metadata": {
        "colab": {
          "base_uri": "https://localhost:8080/",
          "height": 424
        },
        "id": "f906cc06",
        "outputId": "2785adaf-1509-4137-e034-8fc77d1f8566"
      },
      "outputs": [
        {
          "output_type": "display_data",
          "data": {
            "text/plain": [
              "        Rating  premiered\n",
              "0          6.2       1896\n",
              "1          4.5       1897\n",
              "2          4.0       1899\n",
              "3          3.7       1899\n",
              "4          6.0       1900\n",
              "...        ...        ...\n",
              "276314     9.2       2022\n",
              "276315     5.5       2022\n",
              "276316     6.0       2022\n",
              "276317     5.1       2022\n",
              "276318     4.2       2022\n",
              "\n",
              "[276319 rows x 2 columns]"
            ],
            "text/html": [
              "\n",
              "  <div id=\"df-829585de-230f-4a73-8551-1eeb3f7901e2\">\n",
              "    <div class=\"colab-df-container\">\n",
              "      <div>\n",
              "<style scoped>\n",
              "    .dataframe tbody tr th:only-of-type {\n",
              "        vertical-align: middle;\n",
              "    }\n",
              "\n",
              "    .dataframe tbody tr th {\n",
              "        vertical-align: top;\n",
              "    }\n",
              "\n",
              "    .dataframe thead th {\n",
              "        text-align: right;\n",
              "    }\n",
              "</style>\n",
              "<table border=\"1\" class=\"dataframe\">\n",
              "  <thead>\n",
              "    <tr style=\"text-align: right;\">\n",
              "      <th></th>\n",
              "      <th>Rating</th>\n",
              "      <th>premiered</th>\n",
              "    </tr>\n",
              "  </thead>\n",
              "  <tbody>\n",
              "    <tr>\n",
              "      <th>0</th>\n",
              "      <td>6.2</td>\n",
              "      <td>1896</td>\n",
              "    </tr>\n",
              "    <tr>\n",
              "      <th>1</th>\n",
              "      <td>4.5</td>\n",
              "      <td>1897</td>\n",
              "    </tr>\n",
              "    <tr>\n",
              "      <th>2</th>\n",
              "      <td>4.0</td>\n",
              "      <td>1899</td>\n",
              "    </tr>\n",
              "    <tr>\n",
              "      <th>3</th>\n",
              "      <td>3.7</td>\n",
              "      <td>1899</td>\n",
              "    </tr>\n",
              "    <tr>\n",
              "      <th>4</th>\n",
              "      <td>6.0</td>\n",
              "      <td>1900</td>\n",
              "    </tr>\n",
              "    <tr>\n",
              "      <th>...</th>\n",
              "      <td>...</td>\n",
              "      <td>...</td>\n",
              "    </tr>\n",
              "    <tr>\n",
              "      <th>276314</th>\n",
              "      <td>9.2</td>\n",
              "      <td>2022</td>\n",
              "    </tr>\n",
              "    <tr>\n",
              "      <th>276315</th>\n",
              "      <td>5.5</td>\n",
              "      <td>2022</td>\n",
              "    </tr>\n",
              "    <tr>\n",
              "      <th>276316</th>\n",
              "      <td>6.0</td>\n",
              "      <td>2022</td>\n",
              "    </tr>\n",
              "    <tr>\n",
              "      <th>276317</th>\n",
              "      <td>5.1</td>\n",
              "      <td>2022</td>\n",
              "    </tr>\n",
              "    <tr>\n",
              "      <th>276318</th>\n",
              "      <td>4.2</td>\n",
              "      <td>2022</td>\n",
              "    </tr>\n",
              "  </tbody>\n",
              "</table>\n",
              "<p>276319 rows × 2 columns</p>\n",
              "</div>\n",
              "      <button class=\"colab-df-convert\" onclick=\"convertToInteractive('df-829585de-230f-4a73-8551-1eeb3f7901e2')\"\n",
              "              title=\"Convert this dataframe to an interactive table.\"\n",
              "              style=\"display:none;\">\n",
              "        \n",
              "  <svg xmlns=\"http://www.w3.org/2000/svg\" height=\"24px\"viewBox=\"0 0 24 24\"\n",
              "       width=\"24px\">\n",
              "    <path d=\"M0 0h24v24H0V0z\" fill=\"none\"/>\n",
              "    <path d=\"M18.56 5.44l.94 2.06.94-2.06 2.06-.94-2.06-.94-.94-2.06-.94 2.06-2.06.94zm-11 1L8.5 8.5l.94-2.06 2.06-.94-2.06-.94L8.5 2.5l-.94 2.06-2.06.94zm10 10l.94 2.06.94-2.06 2.06-.94-2.06-.94-.94-2.06-.94 2.06-2.06.94z\"/><path d=\"M17.41 7.96l-1.37-1.37c-.4-.4-.92-.59-1.43-.59-.52 0-1.04.2-1.43.59L10.3 9.45l-7.72 7.72c-.78.78-.78 2.05 0 2.83L4 21.41c.39.39.9.59 1.41.59.51 0 1.02-.2 1.41-.59l7.78-7.78 2.81-2.81c.8-.78.8-2.07 0-2.86zM5.41 20L4 18.59l7.72-7.72 1.47 1.35L5.41 20z\"/>\n",
              "  </svg>\n",
              "      </button>\n",
              "      \n",
              "  <style>\n",
              "    .colab-df-container {\n",
              "      display:flex;\n",
              "      flex-wrap:wrap;\n",
              "      gap: 12px;\n",
              "    }\n",
              "\n",
              "    .colab-df-convert {\n",
              "      background-color: #E8F0FE;\n",
              "      border: none;\n",
              "      border-radius: 50%;\n",
              "      cursor: pointer;\n",
              "      display: none;\n",
              "      fill: #1967D2;\n",
              "      height: 32px;\n",
              "      padding: 0 0 0 0;\n",
              "      width: 32px;\n",
              "    }\n",
              "\n",
              "    .colab-df-convert:hover {\n",
              "      background-color: #E2EBFA;\n",
              "      box-shadow: 0px 1px 2px rgba(60, 64, 67, 0.3), 0px 1px 3px 1px rgba(60, 64, 67, 0.15);\n",
              "      fill: #174EA6;\n",
              "    }\n",
              "\n",
              "    [theme=dark] .colab-df-convert {\n",
              "      background-color: #3B4455;\n",
              "      fill: #D2E3FC;\n",
              "    }\n",
              "\n",
              "    [theme=dark] .colab-df-convert:hover {\n",
              "      background-color: #434B5C;\n",
              "      box-shadow: 0px 1px 3px 1px rgba(0, 0, 0, 0.15);\n",
              "      filter: drop-shadow(0px 1px 2px rgba(0, 0, 0, 0.3));\n",
              "      fill: #FFFFFF;\n",
              "    }\n",
              "  </style>\n",
              "\n",
              "      <script>\n",
              "        const buttonEl =\n",
              "          document.querySelector('#df-829585de-230f-4a73-8551-1eeb3f7901e2 button.colab-df-convert');\n",
              "        buttonEl.style.display =\n",
              "          google.colab.kernel.accessAllowed ? 'block' : 'none';\n",
              "\n",
              "        async function convertToInteractive(key) {\n",
              "          const element = document.querySelector('#df-829585de-230f-4a73-8551-1eeb3f7901e2');\n",
              "          const dataTable =\n",
              "            await google.colab.kernel.invokeFunction('convertToInteractive',\n",
              "                                                     [key], {});\n",
              "          if (!dataTable) return;\n",
              "\n",
              "          const docLinkHtml = 'Like what you see? Visit the ' +\n",
              "            '<a target=\"_blank\" href=https://colab.research.google.com/notebooks/data_table.ipynb>data table notebook</a>'\n",
              "            + ' to learn more about interactive tables.';\n",
              "          element.innerHTML = '';\n",
              "          dataTable['output_type'] = 'display_data';\n",
              "          await google.colab.output.renderOutput(dataTable, element);\n",
              "          const docLink = document.createElement('div');\n",
              "          docLink.innerHTML = docLinkHtml;\n",
              "          element.appendChild(docLink);\n",
              "        }\n",
              "      </script>\n",
              "    </div>\n",
              "  </div>\n",
              "  "
            ]
          },
          "metadata": {}
        }
      ],
      "source": [
        "display(resultado4)"
      ]
    },
    {
      "cell_type": "code",
      "execution_count": 59,
      "id": "365a5fdd",
      "metadata": {
        "id": "365a5fdd"
      },
      "outputs": [],
      "source": [
        "# Calculamos a mediana ao longo do tempo (anos)\n",
        "ratings = []\n",
        "for year in set(resultado4['premiered']):\n",
        "    ratings.append(np.median(resultado4[resultado4['premiered'] == year]['Rating']))"
      ]
    },
    {
      "cell_type": "code",
      "execution_count": 60,
      "id": "96d9cc3b",
      "metadata": {
        "colab": {
          "base_uri": "https://localhost:8080/"
        },
        "id": "96d9cc3b",
        "outputId": "c3a5367c-577a-4d5f-b9ce-cd3235702c98"
      },
      "outputs": [
        {
          "output_type": "execute_result",
          "data": {
            "text/plain": [
              "list"
            ]
          },
          "metadata": {},
          "execution_count": 60
        }
      ],
      "source": [
        "type(ratings)"
      ]
    },
    {
      "cell_type": "code",
      "execution_count": 61,
      "id": "4dbec12c",
      "metadata": {
        "colab": {
          "base_uri": "https://localhost:8080/",
          "height": 424
        },
        "id": "4dbec12c",
        "outputId": "e5eadb12-72f2-4c5d-d3cd-d0aae9b51f86"
      },
      "outputs": [
        {
          "output_type": "display_data",
          "data": {
            "text/plain": [
              "        Rating  premiered\n",
              "0          6.2       1896\n",
              "1          4.5       1897\n",
              "2          4.0       1899\n",
              "3          3.7       1899\n",
              "4          6.0       1900\n",
              "...        ...        ...\n",
              "276314     9.2       2022\n",
              "276315     5.5       2022\n",
              "276316     6.0       2022\n",
              "276317     5.1       2022\n",
              "276318     4.2       2022\n",
              "\n",
              "[276319 rows x 2 columns]"
            ],
            "text/html": [
              "\n",
              "  <div id=\"df-5c545f10-3771-4a74-b8a8-ef5d2562420f\">\n",
              "    <div class=\"colab-df-container\">\n",
              "      <div>\n",
              "<style scoped>\n",
              "    .dataframe tbody tr th:only-of-type {\n",
              "        vertical-align: middle;\n",
              "    }\n",
              "\n",
              "    .dataframe tbody tr th {\n",
              "        vertical-align: top;\n",
              "    }\n",
              "\n",
              "    .dataframe thead th {\n",
              "        text-align: right;\n",
              "    }\n",
              "</style>\n",
              "<table border=\"1\" class=\"dataframe\">\n",
              "  <thead>\n",
              "    <tr style=\"text-align: right;\">\n",
              "      <th></th>\n",
              "      <th>Rating</th>\n",
              "      <th>premiered</th>\n",
              "    </tr>\n",
              "  </thead>\n",
              "  <tbody>\n",
              "    <tr>\n",
              "      <th>0</th>\n",
              "      <td>6.2</td>\n",
              "      <td>1896</td>\n",
              "    </tr>\n",
              "    <tr>\n",
              "      <th>1</th>\n",
              "      <td>4.5</td>\n",
              "      <td>1897</td>\n",
              "    </tr>\n",
              "    <tr>\n",
              "      <th>2</th>\n",
              "      <td>4.0</td>\n",
              "      <td>1899</td>\n",
              "    </tr>\n",
              "    <tr>\n",
              "      <th>3</th>\n",
              "      <td>3.7</td>\n",
              "      <td>1899</td>\n",
              "    </tr>\n",
              "    <tr>\n",
              "      <th>4</th>\n",
              "      <td>6.0</td>\n",
              "      <td>1900</td>\n",
              "    </tr>\n",
              "    <tr>\n",
              "      <th>...</th>\n",
              "      <td>...</td>\n",
              "      <td>...</td>\n",
              "    </tr>\n",
              "    <tr>\n",
              "      <th>276314</th>\n",
              "      <td>9.2</td>\n",
              "      <td>2022</td>\n",
              "    </tr>\n",
              "    <tr>\n",
              "      <th>276315</th>\n",
              "      <td>5.5</td>\n",
              "      <td>2022</td>\n",
              "    </tr>\n",
              "    <tr>\n",
              "      <th>276316</th>\n",
              "      <td>6.0</td>\n",
              "      <td>2022</td>\n",
              "    </tr>\n",
              "    <tr>\n",
              "      <th>276317</th>\n",
              "      <td>5.1</td>\n",
              "      <td>2022</td>\n",
              "    </tr>\n",
              "    <tr>\n",
              "      <th>276318</th>\n",
              "      <td>4.2</td>\n",
              "      <td>2022</td>\n",
              "    </tr>\n",
              "  </tbody>\n",
              "</table>\n",
              "<p>276319 rows × 2 columns</p>\n",
              "</div>\n",
              "      <button class=\"colab-df-convert\" onclick=\"convertToInteractive('df-5c545f10-3771-4a74-b8a8-ef5d2562420f')\"\n",
              "              title=\"Convert this dataframe to an interactive table.\"\n",
              "              style=\"display:none;\">\n",
              "        \n",
              "  <svg xmlns=\"http://www.w3.org/2000/svg\" height=\"24px\"viewBox=\"0 0 24 24\"\n",
              "       width=\"24px\">\n",
              "    <path d=\"M0 0h24v24H0V0z\" fill=\"none\"/>\n",
              "    <path d=\"M18.56 5.44l.94 2.06.94-2.06 2.06-.94-2.06-.94-.94-2.06-.94 2.06-2.06.94zm-11 1L8.5 8.5l.94-2.06 2.06-.94-2.06-.94L8.5 2.5l-.94 2.06-2.06.94zm10 10l.94 2.06.94-2.06 2.06-.94-2.06-.94-.94-2.06-.94 2.06-2.06.94z\"/><path d=\"M17.41 7.96l-1.37-1.37c-.4-.4-.92-.59-1.43-.59-.52 0-1.04.2-1.43.59L10.3 9.45l-7.72 7.72c-.78.78-.78 2.05 0 2.83L4 21.41c.39.39.9.59 1.41.59.51 0 1.02-.2 1.41-.59l7.78-7.78 2.81-2.81c.8-.78.8-2.07 0-2.86zM5.41 20L4 18.59l7.72-7.72 1.47 1.35L5.41 20z\"/>\n",
              "  </svg>\n",
              "      </button>\n",
              "      \n",
              "  <style>\n",
              "    .colab-df-container {\n",
              "      display:flex;\n",
              "      flex-wrap:wrap;\n",
              "      gap: 12px;\n",
              "    }\n",
              "\n",
              "    .colab-df-convert {\n",
              "      background-color: #E8F0FE;\n",
              "      border: none;\n",
              "      border-radius: 50%;\n",
              "      cursor: pointer;\n",
              "      display: none;\n",
              "      fill: #1967D2;\n",
              "      height: 32px;\n",
              "      padding: 0 0 0 0;\n",
              "      width: 32px;\n",
              "    }\n",
              "\n",
              "    .colab-df-convert:hover {\n",
              "      background-color: #E2EBFA;\n",
              "      box-shadow: 0px 1px 2px rgba(60, 64, 67, 0.3), 0px 1px 3px 1px rgba(60, 64, 67, 0.15);\n",
              "      fill: #174EA6;\n",
              "    }\n",
              "\n",
              "    [theme=dark] .colab-df-convert {\n",
              "      background-color: #3B4455;\n",
              "      fill: #D2E3FC;\n",
              "    }\n",
              "\n",
              "    [theme=dark] .colab-df-convert:hover {\n",
              "      background-color: #434B5C;\n",
              "      box-shadow: 0px 1px 3px 1px rgba(0, 0, 0, 0.15);\n",
              "      filter: drop-shadow(0px 1px 2px rgba(0, 0, 0, 0.3));\n",
              "      fill: #FFFFFF;\n",
              "    }\n",
              "  </style>\n",
              "\n",
              "      <script>\n",
              "        const buttonEl =\n",
              "          document.querySelector('#df-5c545f10-3771-4a74-b8a8-ef5d2562420f button.colab-df-convert');\n",
              "        buttonEl.style.display =\n",
              "          google.colab.kernel.accessAllowed ? 'block' : 'none';\n",
              "\n",
              "        async function convertToInteractive(key) {\n",
              "          const element = document.querySelector('#df-5c545f10-3771-4a74-b8a8-ef5d2562420f');\n",
              "          const dataTable =\n",
              "            await google.colab.kernel.invokeFunction('convertToInteractive',\n",
              "                                                     [key], {});\n",
              "          if (!dataTable) return;\n",
              "\n",
              "          const docLinkHtml = 'Like what you see? Visit the ' +\n",
              "            '<a target=\"_blank\" href=https://colab.research.google.com/notebooks/data_table.ipynb>data table notebook</a>'\n",
              "            + ' to learn more about interactive tables.';\n",
              "          element.innerHTML = '';\n",
              "          dataTable['output_type'] = 'display_data';\n",
              "          await google.colab.output.renderOutput(dataTable, element);\n",
              "          const docLink = document.createElement('div');\n",
              "          docLink.innerHTML = docLinkHtml;\n",
              "          element.appendChild(docLink);\n",
              "        }\n",
              "      </script>\n",
              "    </div>\n",
              "  </div>\n",
              "  "
            ]
          },
          "metadata": {}
        }
      ],
      "source": [
        "display(resultado4)"
      ]
    },
    {
      "cell_type": "code",
      "execution_count": 62,
      "id": "895526b6",
      "metadata": {
        "id": "895526b6"
      },
      "outputs": [],
      "source": [
        "# Calculamos a mediana ao longo do tempo (anos)\n",
        "ratings = []\n",
        "for year in set(resultado4['premiered']):\n",
        "    ratings.append(np.median(resultado4[resultado4['premiered'] == year]['Rating']))"
      ]
    },
    {
      "cell_type": "code",
      "execution_count": 63,
      "id": "cb40feef",
      "metadata": {
        "colab": {
          "base_uri": "https://localhost:8080/"
        },
        "id": "cb40feef",
        "outputId": "5a7f2c86-4d54-4e82-f691-3a9d697b2e74"
      },
      "outputs": [
        {
          "output_type": "execute_result",
          "data": {
            "text/plain": [
              "list"
            ]
          },
          "metadata": {},
          "execution_count": 63
        }
      ],
      "source": [
        "type(ratings)"
      ]
    },
    {
      "cell_type": "code",
      "execution_count": 64,
      "id": "37acc0c6",
      "metadata": {
        "colab": {
          "base_uri": "https://localhost:8080/"
        },
        "id": "37acc0c6",
        "outputId": "ad0acc8d-92cb-48c2-c774-16b127facd79"
      },
      "outputs": [
        {
          "output_type": "execute_result",
          "data": {
            "text/plain": [
              "[4.5, 3.85, 5.85, 6.3, 3.5, 4.6, 5.3, 4.5, 3.6]"
            ]
          },
          "metadata": {},
          "execution_count": 64
        }
      ],
      "source": [
        "ratings[1:10]"
      ]
    },
    {
      "cell_type": "code",
      "execution_count": 65,
      "id": "6943f34a",
      "metadata": {
        "id": "6943f34a"
      },
      "outputs": [],
      "source": [
        "# Lsita de anos\n",
        "anos = list(set(resultado4['premiered']))"
      ]
    },
    {
      "cell_type": "code",
      "execution_count": 66,
      "id": "fe634f9a",
      "metadata": {
        "colab": {
          "base_uri": "https://localhost:8080/"
        },
        "id": "fe634f9a",
        "outputId": "6c1b1b75-ba0f-4a84-d787-653cd8115e85"
      },
      "outputs": [
        {
          "output_type": "execute_result",
          "data": {
            "text/plain": [
              "[1897, 1899, 1900, 1901, 1902, 1903, 1904, 1905, 1906]"
            ]
          },
          "metadata": {},
          "execution_count": 66
        }
      ],
      "source": [
        "anos[1:10]"
      ]
    },
    {
      "cell_type": "code",
      "execution_count": 67,
      "id": "5a611ffb",
      "metadata": {
        "colab": {
          "base_uri": "https://localhost:8080/",
          "height": 563
        },
        "id": "5a611ffb",
        "outputId": "bad3fe36-7802-4b8e-bf8c-8a7ec60546bf"
      },
      "outputs": [
        {
          "output_type": "display_data",
          "data": {
            "text/plain": [
              "<Figure size 1152x576 with 1 Axes>"
            ],
            "image/png": "[encoded data removed]"
          },
          "metadata": {}
        }
      ],
      "source": [
        "# Plot\n",
        "plt.figure(figsize = (16,8))\n",
        "plt.plot(anos,ratings)\n",
        "plt.xlabel('\\nAno')\n",
        "plt.ylabel('Mediando de Avaliação')\n",
        "plt.title('\\nMediana de Avaliação dos Filmes Em Relação ao Ano de Estréia\\n')\n",
        "plt.show()"
      ]
    },
    {
      "cell_type": "markdown",
      "id": "73ed6d04",
      "metadata": {
        "id": "73ed6d04"
      },
      "source": [
        "# 5- Qual o Número de Filmes Avaliados Por Gênero Em Relação ao Ano de Estréia?"
      ]
    },
    {
      "cell_type": "markdown",
      "id": "177694df",
      "metadata": {
        "id": "177694df"
      },
      "source": [
        "Número de filmes por gênero. Vamos listar os Top 5."
      ]
    },
    {
      "cell_type": "code",
      "execution_count": 68,
      "id": "ac6e4901",
      "metadata": {
        "id": "ac6e4901"
      },
      "outputs": [],
      "source": [
        "# Consulta SQL\n",
        "consulta5 = '''SELECT genres FROM titles'''"
      ]
    },
    {
      "cell_type": "code",
      "execution_count": 69,
      "id": "9c9e0f1b",
      "metadata": {
        "id": "9c9e0f1b"
      },
      "outputs": [],
      "source": [
        "# Resultado\n",
        "resultado5 = pd.read_sql_query(consulta5, conn)"
      ]
    },
    {
      "cell_type": "code",
      "execution_count": 70,
      "id": "49916ca9",
      "metadata": {
        "colab": {
          "base_uri": "https://localhost:8080/",
          "height": 424
        },
        "id": "49916ca9",
        "outputId": "13afa271-9751-4fae-9719-373c4b2cb392"
      },
      "outputs": [
        {
          "output_type": "display_data",
          "data": {
            "text/plain": [
              "                             genres\n",
              "0                 Documentary,Short\n",
              "1                   Animation,Short\n",
              "2          Animation,Comedy,Romance\n",
              "3                   Animation,Short\n",
              "4                      Comedy,Short\n",
              "...                             ...\n",
              "8787289         Action,Drama,Family\n",
              "8787290         Action,Drama,Family\n",
              "8787291         Action,Drama,Family\n",
              "8787292                       Short\n",
              "8787293  Adventure,Animation,Comedy\n",
              "\n",
              "[8787294 rows x 1 columns]"
            ],
            "text/html": [
              "\n",
              "  <div id=\"df-da3be046-37f9-457c-89d2-146aa1fdae10\">\n",
              "    <div class=\"colab-df-container\">\n",
              "      <div>\n",
              "<style scoped>\n",
              "    .dataframe tbody tr th:only-of-type {\n",
              "        vertical-align: middle;\n",
              "    }\n",
              "\n",
              "    .dataframe tbody tr th {\n",
              "        vertical-align: top;\n",
              "    }\n",
              "\n",
              "    .dataframe thead th {\n",
              "        text-align: right;\n",
              "    }\n",
              "</style>\n",
              "<table border=\"1\" class=\"dataframe\">\n",
              "  <thead>\n",
              "    <tr style=\"text-align: right;\">\n",
              "      <th></th>\n",
              "      <th>genres</th>\n",
              "    </tr>\n",
              "  </thead>\n",
              "  <tbody>\n",
              "    <tr>\n",
              "      <th>0</th>\n",
              "      <td>Documentary,Short</td>\n",
              "    </tr>\n",
              "    <tr>\n",
              "      <th>1</th>\n",
              "      <td>Animation,Short</td>\n",
              "    </tr>\n",
              "    <tr>\n",
              "      <th>2</th>\n",
              "      <td>Animation,Comedy,Romance</td>\n",
              "    </tr>\n",
              "    <tr>\n",
              "      <th>3</th>\n",
              "      <td>Animation,Short</td>\n",
              "    </tr>\n",
              "    <tr>\n",
              "      <th>4</th>\n",
              "      <td>Comedy,Short</td>\n",
              "    </tr>\n",
              "    <tr>\n",
              "      <th>...</th>\n",
              "      <td>...</td>\n",
              "    </tr>\n",
              "    <tr>\n",
              "      <th>8787289</th>\n",
              "      <td>Action,Drama,Family</td>\n",
              "    </tr>\n",
              "    <tr>\n",
              "      <th>8787290</th>\n",
              "      <td>Action,Drama,Family</td>\n",
              "    </tr>\n",
              "    <tr>\n",
              "      <th>8787291</th>\n",
              "      <td>Action,Drama,Family</td>\n",
              "    </tr>\n",
              "    <tr>\n",
              "      <th>8787292</th>\n",
              "      <td>Short</td>\n",
              "    </tr>\n",
              "    <tr>\n",
              "      <th>8787293</th>\n",
              "      <td>Adventure,Animation,Comedy</td>\n",
              "    </tr>\n",
              "  </tbody>\n",
              "</table>\n",
              "<p>8787294 rows × 1 columns</p>\n",
              "</div>\n",
              "      <button class=\"colab-df-convert\" onclick=\"convertToInteractive('df-da3be046-37f9-457c-89d2-146aa1fdae10')\"\n",
              "              title=\"Convert this dataframe to an interactive table.\"\n",
              "              style=\"display:none;\">\n",
              "        \n",
              "  <svg xmlns=\"http://www.w3.org/2000/svg\" height=\"24px\"viewBox=\"0 0 24 24\"\n",
              "       width=\"24px\">\n",
              "    <path d=\"M0 0h24v24H0V0z\" fill=\"none\"/>\n",
              "    <path d=\"M18.56 5.44l.94 2.06.94-2.06 2.06-.94-2.06-.94-.94-2.06-.94 2.06-2.06.94zm-11 1L8.5 8.5l.94-2.06 2.06-.94-2.06-.94L8.5 2.5l-.94 2.06-2.06.94zm10 10l.94 2.06.94-2.06 2.06-.94-2.06-.94-.94-2.06-.94 2.06-2.06.94z\"/><path d=\"M17.41 7.96l-1.37-1.37c-.4-.4-.92-.59-1.43-.59-.52 0-1.04.2-1.43.59L10.3 9.45l-7.72 7.72c-.78.78-.78 2.05 0 2.83L4 21.41c.39.39.9.59 1.41.59.51 0 1.02-.2 1.41-.59l7.78-7.78 2.81-2.81c.8-.78.8-2.07 0-2.86zM5.41 20L4 18.59l7.72-7.72 1.47 1.35L5.41 20z\"/>\n",
              "  </svg>\n",
              "      </button>\n",
              "      \n",
              "  <style>\n",
              "    .colab-df-container {\n",
              "      display:flex;\n",
              "      flex-wrap:wrap;\n",
              "      gap: 12px;\n",
              "    }\n",
              "\n",
              "    .colab-df-convert {\n",
              "      background-color: #E8F0FE;\n",
              "      border: none;\n",
              "      border-radius: 50%;\n",
              "      cursor: pointer;\n",
              "      display: none;\n",
              "      fill: #1967D2;\n",
              "      height: 32px;\n",
              "      padding: 0 0 0 0;\n",
              "      width: 32px;\n",
              "    }\n",
              "\n",
              "    .colab-df-convert:hover {\n",
              "      background-color: #E2EBFA;\n",
              "      box-shadow: 0px 1px 2px rgba(60, 64, 67, 0.3), 0px 1px 3px 1px rgba(60, 64, 67, 0.15);\n",
              "      fill: #174EA6;\n",
              "    }\n",
              "\n",
              "    [theme=dark] .colab-df-convert {\n",
              "      background-color: #3B4455;\n",
              "      fill: #D2E3FC;\n",
              "    }\n",
              "\n",
              "    [theme=dark] .colab-df-convert:hover {\n",
              "      background-color: #434B5C;\n",
              "      box-shadow: 0px 1px 3px 1px rgba(0, 0, 0, 0.15);\n",
              "      filter: drop-shadow(0px 1px 2px rgba(0, 0, 0, 0.3));\n",
              "      fill: #FFFFFF;\n",
              "    }\n",
              "  </style>\n",
              "\n",
              "      <script>\n",
              "        const buttonEl =\n",
              "          document.querySelector('#df-da3be046-37f9-457c-89d2-146aa1fdae10 button.colab-df-convert');\n",
              "        buttonEl.style.display =\n",
              "          google.colab.kernel.accessAllowed ? 'block' : 'none';\n",
              "\n",
              "        async function convertToInteractive(key) {\n",
              "          const element = document.querySelector('#df-da3be046-37f9-457c-89d2-146aa1fdae10');\n",
              "          const dataTable =\n",
              "            await google.colab.kernel.invokeFunction('convertToInteractive',\n",
              "                                                     [key], {});\n",
              "          if (!dataTable) return;\n",
              "\n",
              "          const docLinkHtml = 'Like what you see? Visit the ' +\n",
              "            '<a target=\"_blank\" href=https://colab.research.google.com/notebooks/data_table.ipynb>data table notebook</a>'\n",
              "            + ' to learn more about interactive tables.';\n",
              "          element.innerHTML = '';\n",
              "          dataTable['output_type'] = 'display_data';\n",
              "          await google.colab.output.renderOutput(dataTable, element);\n",
              "          const docLink = document.createElement('div');\n",
              "          docLink.innerHTML = docLinkHtml;\n",
              "          element.appendChild(docLink);\n",
              "        }\n",
              "      </script>\n",
              "    </div>\n",
              "  </div>\n",
              "  "
            ]
          },
          "metadata": {}
        }
      ],
      "source": [
        "display(resultado5)"
      ]
    },
    {
      "cell_type": "code",
      "execution_count": 71,
      "id": "e3e867a7",
      "metadata": {
        "id": "e3e867a7"
      },
      "outputs": [],
      "source": [
        "# Retorna gêneros únicos\n",
        "generos_unicos = retorna_generos(resultado5)"
      ]
    },
    {
      "cell_type": "code",
      "execution_count": 72,
      "id": "54250b5b",
      "metadata": {
        "colab": {
          "base_uri": "https://localhost:8080/"
        },
        "id": "54250b5b",
        "outputId": "f932b3f6-4c4b-4a82-c128-b7fc2906a8d2"
      },
      "outputs": [
        {
          "output_type": "execute_result",
          "data": {
            "text/plain": [
              "['action',\n",
              " 'adult',\n",
              " 'adventure',\n",
              " 'animation',\n",
              " 'biography',\n",
              " 'comedy',\n",
              " 'crime',\n",
              " 'documentary',\n",
              " 'drama',\n",
              " 'family',\n",
              " 'fantasy',\n",
              " 'film-noir',\n",
              " 'game-show',\n",
              " 'history',\n",
              " 'horror',\n",
              " 'music',\n",
              " 'musical',\n",
              " 'mystery',\n",
              " 'news',\n",
              " 'reality-tv',\n",
              " 'romance',\n",
              " 'sci-fi',\n",
              " 'short',\n",
              " 'sport',\n",
              " 'talk-show',\n",
              " 'thriller',\n",
              " 'war',\n",
              " 'western']"
            ]
          },
          "metadata": {},
          "execution_count": 72
        }
      ],
      "source": [
        "# Visualiza o generos únicos\n",
        "\n",
        "generos_unicos"
      ]
    },
    {
      "cell_type": "code",
      "execution_count": 73,
      "id": "8c1f9e47",
      "metadata": {
        "id": "8c1f9e47"
      },
      "outputs": [],
      "source": [
        "# Agora fazemos a contagem\n",
        "genero_count = []\n",
        "for item in generos_unicos:\n",
        "    consulta = 'SELECT COUNT(*) COUNT FROM  titles  WHERE genres LIKE '+ '\\''+'%'+item+'%'+'\\' AND type=\\'movie\\' AND premiered <= 2022'\n",
        "    resultado = pd.read_sql(consulta, conn)\n",
        "    genero_count.append(resultado['COUNT'].values[0])"
      ]
    },
    {
      "cell_type": "code",
      "execution_count": 74,
      "id": "3e5441c1",
      "metadata": {
        "colab": {
          "base_uri": "https://localhost:8080/"
        },
        "id": "3e5441c1",
        "outputId": "1e9ddfc1-7e0d-4deb-f86d-953f656c31f9"
      },
      "outputs": [
        {
          "output_type": "execute_result",
          "data": {
            "text/plain": [
              "[41336,\n",
              " 8354,\n",
              " 22355,\n",
              " 6745,\n",
              " 13617,\n",
              " 90992,\n",
              " 30700,\n",
              " 105610,\n",
              " 191513,\n",
              " 14975,\n",
              " 11349,\n",
              " 766,\n",
              " 16,\n",
              " 11930,\n",
              " 25067,\n",
              " 19555,\n",
              " 9194,\n",
              " 13632,\n",
              " 1367,\n",
              " 422,\n",
              " 41100,\n",
              " 8528,\n",
              " 53,\n",
              " 5789,\n",
              " 133,\n",
              " 29746,\n",
              " 8178,\n",
              " 7272]"
            ]
          },
          "metadata": {},
          "execution_count": 74
        }
      ],
      "source": [
        "genero_count"
      ]
    },
    {
      "cell_type": "code",
      "execution_count": 75,
      "id": "894a33bf",
      "metadata": {
        "id": "894a33bf"
      },
      "outputs": [],
      "source": [
        "# Prepara o Data frame\n",
        "df_genero_count = pd.DataFrame()\n",
        "df_genero_count['genre'] = generos_unicos\n",
        "df_genero_count['Count'] = genero_count"
      ]
    },
    {
      "cell_type": "code",
      "execution_count": 76,
      "id": "6182f752",
      "metadata": {
        "id": "6182f752"
      },
      "outputs": [],
      "source": [
        "# Calcula os top 5\n",
        "df_genero_count = df_genero_count[df_genero_count['genre'] != 'n']\n",
        "df_genero_count = df_genero_count.sort_values(by = 'Count', ascending = False)\n",
        "top_generos = df_genero_count.head()['genre'].values\n",
        "# função head retorna os 5 primeiros"
      ]
    },
    {
      "cell_type": "code",
      "execution_count": 77,
      "id": "700467d8",
      "metadata": {
        "colab": {
          "base_uri": "https://localhost:8080/",
          "height": 927
        },
        "id": "700467d8",
        "outputId": "35154f80-a2c9-446e-9c3d-fce23e2bf3e2"
      },
      "outputs": [
        {
          "output_type": "execute_result",
          "data": {
            "text/plain": [
              "          genre   Count\n",
              "8         drama  191513\n",
              "7   documentary  105610\n",
              "5        comedy   90992\n",
              "0        action   41336\n",
              "20      romance   41100\n",
              "6         crime   30700\n",
              "25     thriller   29746\n",
              "14       horror   25067\n",
              "2     adventure   22355\n",
              "15        music   19555\n",
              "9        family   14975\n",
              "17      mystery   13632\n",
              "4     biography   13617\n",
              "13      history   11930\n",
              "10      fantasy   11349\n",
              "16      musical    9194\n",
              "21       sci-fi    8528\n",
              "1         adult    8354\n",
              "26          war    8178\n",
              "27      western    7272\n",
              "3     animation    6745\n",
              "23        sport    5789\n",
              "18         news    1367\n",
              "11    film-noir     766\n",
              "19   reality-tv     422\n",
              "24    talk-show     133\n",
              "22        short      53\n",
              "12    game-show      16"
            ],
            "text/html": [
              "\n",
              "  <div id=\"df-41af66fd-5654-4e55-bbff-a0325a04b3bc\">\n",
              "    <div class=\"colab-df-container\">\n",
              "      <div>\n",
              "<style scoped>\n",
              "    .dataframe tbody tr th:only-of-type {\n",
              "        vertical-align: middle;\n",
              "    }\n",
              "\n",
              "    .dataframe tbody tr th {\n",
              "        vertical-align: top;\n",
              "    }\n",
              "\n",
              "    .dataframe thead th {\n",
              "        text-align: right;\n",
              "    }\n",
              "</style>\n",
              "<table border=\"1\" class=\"dataframe\">\n",
              "  <thead>\n",
              "    <tr style=\"text-align: right;\">\n",
              "      <th></th>\n",
              "      <th>genre</th>\n",
              "      <th>Count</th>\n",
              "    </tr>\n",
              "  </thead>\n",
              "  <tbody>\n",
              "    <tr>\n",
              "      <th>8</th>\n",
              "      <td>drama</td>\n",
              "      <td>191513</td>\n",
              "    </tr>\n",
              "    <tr>\n",
              "      <th>7</th>\n",
              "      <td>documentary</td>\n",
              "      <td>105610</td>\n",
              "    </tr>\n",
              "    <tr>\n",
              "      <th>5</th>\n",
              "      <td>comedy</td>\n",
              "      <td>90992</td>\n",
              "    </tr>\n",
              "    <tr>\n",
              "      <th>0</th>\n",
              "      <td>action</td>\n",
              "      <td>41336</td>\n",
              "    </tr>\n",
              "    <tr>\n",
              "      <th>20</th>\n",
              "      <td>romance</td>\n",
              "      <td>41100</td>\n",
              "    </tr>\n",
              "    <tr>\n",
              "      <th>6</th>\n",
              "      <td>crime</td>\n",
              "      <td>30700</td>\n",
              "    </tr>\n",
              "    <tr>\n",
              "      <th>25</th>\n",
              "      <td>thriller</td>\n",
              "      <td>29746</td>\n",
              "    </tr>\n",
              "    <tr>\n",
              "      <th>14</th>\n",
              "      <td>horror</td>\n",
              "      <td>25067</td>\n",
              "    </tr>\n",
              "    <tr>\n",
              "      <th>2</th>\n",
              "      <td>adventure</td>\n",
              "      <td>22355</td>\n",
              "    </tr>\n",
              "    <tr>\n",
              "      <th>15</th>\n",
              "      <td>music</td>\n",
              "      <td>19555</td>\n",
              "    </tr>\n",
              "    <tr>\n",
              "      <th>9</th>\n",
              "      <td>family</td>\n",
              "      <td>14975</td>\n",
              "    </tr>\n",
              "    <tr>\n",
              "      <th>17</th>\n",
              "      <td>mystery</td>\n",
              "      <td>13632</td>\n",
              "    </tr>\n",
              "    <tr>\n",
              "      <th>4</th>\n",
              "      <td>biography</td>\n",
              "      <td>13617</td>\n",
              "    </tr>\n",
              "    <tr>\n",
              "      <th>13</th>\n",
              "      <td>history</td>\n",
              "      <td>11930</td>\n",
              "    </tr>\n",
              "    <tr>\n",
              "      <th>10</th>\n",
              "      <td>fantasy</td>\n",
              "      <td>11349</td>\n",
              "    </tr>\n",
              "    <tr>\n",
              "      <th>16</th>\n",
              "      <td>musical</td>\n",
              "      <td>9194</td>\n",
              "    </tr>\n",
              "    <tr>\n",
              "      <th>21</th>\n",
              "      <td>sci-fi</td>\n",
              "      <td>8528</td>\n",
              "    </tr>\n",
              "    <tr>\n",
              "      <th>1</th>\n",
              "      <td>adult</td>\n",
              "      <td>8354</td>\n",
              "    </tr>\n",
              "    <tr>\n",
              "      <th>26</th>\n",
              "      <td>war</td>\n",
              "      <td>8178</td>\n",
              "    </tr>\n",
              "    <tr>\n",
              "      <th>27</th>\n",
              "      <td>western</td>\n",
              "      <td>7272</td>\n",
              "    </tr>\n",
              "    <tr>\n",
              "      <th>3</th>\n",
              "      <td>animation</td>\n",
              "      <td>6745</td>\n",
              "    </tr>\n",
              "    <tr>\n",
              "      <th>23</th>\n",
              "      <td>sport</td>\n",
              "      <td>5789</td>\n",
              "    </tr>\n",
              "    <tr>\n",
              "      <th>18</th>\n",
              "      <td>news</td>\n",
              "      <td>1367</td>\n",
              "    </tr>\n",
              "    <tr>\n",
              "      <th>11</th>\n",
              "      <td>film-noir</td>\n",
              "      <td>766</td>\n",
              "    </tr>\n",
              "    <tr>\n",
              "      <th>19</th>\n",
              "      <td>reality-tv</td>\n",
              "      <td>422</td>\n",
              "    </tr>\n",
              "    <tr>\n",
              "      <th>24</th>\n",
              "      <td>talk-show</td>\n",
              "      <td>133</td>\n",
              "    </tr>\n",
              "    <tr>\n",
              "      <th>22</th>\n",
              "      <td>short</td>\n",
              "      <td>53</td>\n",
              "    </tr>\n",
              "    <tr>\n",
              "      <th>12</th>\n",
              "      <td>game-show</td>\n",
              "      <td>16</td>\n",
              "    </tr>\n",
              "  </tbody>\n",
              "</table>\n",
              "</div>\n",
              "      <button class=\"colab-df-convert\" onclick=\"convertToInteractive('df-41af66fd-5654-4e55-bbff-a0325a04b3bc')\"\n",
              "              title=\"Convert this dataframe to an interactive table.\"\n",
              "              style=\"display:none;\">\n",
              "        \n",
              "  <svg xmlns=\"http://www.w3.org/2000/svg\" height=\"24px\"viewBox=\"0 0 24 24\"\n",
              "       width=\"24px\">\n",
              "    <path d=\"M0 0h24v24H0V0z\" fill=\"none\"/>\n",
              "    <path d=\"M18.56 5.44l.94 2.06.94-2.06 2.06-.94-2.06-.94-.94-2.06-.94 2.06-2.06.94zm-11 1L8.5 8.5l.94-2.06 2.06-.94-2.06-.94L8.5 2.5l-.94 2.06-2.06.94zm10 10l.94 2.06.94-2.06 2.06-.94-2.06-.94-.94-2.06-.94 2.06-2.06.94z\"/><path d=\"M17.41 7.96l-1.37-1.37c-.4-.4-.92-.59-1.43-.59-.52 0-1.04.2-1.43.59L10.3 9.45l-7.72 7.72c-.78.78-.78 2.05 0 2.83L4 21.41c.39.39.9.59 1.41.59.51 0 1.02-.2 1.41-.59l7.78-7.78 2.81-2.81c.8-.78.8-2.07 0-2.86zM5.41 20L4 18.59l7.72-7.72 1.47 1.35L5.41 20z\"/>\n",
              "  </svg>\n",
              "      </button>\n",
              "      \n",
              "  <style>\n",
              "    .colab-df-container {\n",
              "      display:flex;\n",
              "      flex-wrap:wrap;\n",
              "      gap: 12px;\n",
              "    }\n",
              "\n",
              "    .colab-df-convert {\n",
              "      background-color: #E8F0FE;\n",
              "      border: none;\n",
              "      border-radius: 50%;\n",
              "      cursor: pointer;\n",
              "      display: none;\n",
              "      fill: #1967D2;\n",
              "      height: 32px;\n",
              "      padding: 0 0 0 0;\n",
              "      width: 32px;\n",
              "    }\n",
              "\n",
              "    .colab-df-convert:hover {\n",
              "      background-color: #E2EBFA;\n",
              "      box-shadow: 0px 1px 2px rgba(60, 64, 67, 0.3), 0px 1px 3px 1px rgba(60, 64, 67, 0.15);\n",
              "      fill: #174EA6;\n",
              "    }\n",
              "\n",
              "    [theme=dark] .colab-df-convert {\n",
              "      background-color: #3B4455;\n",
              "      fill: #D2E3FC;\n",
              "    }\n",
              "\n",
              "    [theme=dark] .colab-df-convert:hover {\n",
              "      background-color: #434B5C;\n",
              "      box-shadow: 0px 1px 3px 1px rgba(0, 0, 0, 0.15);\n",
              "      filter: drop-shadow(0px 1px 2px rgba(0, 0, 0, 0.3));\n",
              "      fill: #FFFFFF;\n",
              "    }\n",
              "  </style>\n",
              "\n",
              "      <script>\n",
              "        const buttonEl =\n",
              "          document.querySelector('#df-41af66fd-5654-4e55-bbff-a0325a04b3bc button.colab-df-convert');\n",
              "        buttonEl.style.display =\n",
              "          google.colab.kernel.accessAllowed ? 'block' : 'none';\n",
              "\n",
              "        async function convertToInteractive(key) {\n",
              "          const element = document.querySelector('#df-41af66fd-5654-4e55-bbff-a0325a04b3bc');\n",
              "          const dataTable =\n",
              "            await google.colab.kernel.invokeFunction('convertToInteractive',\n",
              "                                                     [key], {});\n",
              "          if (!dataTable) return;\n",
              "\n",
              "          const docLinkHtml = 'Like what you see? Visit the ' +\n",
              "            '<a target=\"_blank\" href=https://colab.research.google.com/notebooks/data_table.ipynb>data table notebook</a>'\n",
              "            + ' to learn more about interactive tables.';\n",
              "          element.innerHTML = '';\n",
              "          dataTable['output_type'] = 'display_data';\n",
              "          await google.colab.output.renderOutput(dataTable, element);\n",
              "          const docLink = document.createElement('div');\n",
              "          docLink.innerHTML = docLinkHtml;\n",
              "          element.appendChild(docLink);\n",
              "        }\n",
              "      </script>\n",
              "    </div>\n",
              "  </div>\n",
              "  "
            ]
          },
          "metadata": {},
          "execution_count": 77
        }
      ],
      "source": [
        "df_genero_count"
      ]
    },
    {
      "cell_type": "code",
      "execution_count": 78,
      "id": "5d438c77",
      "metadata": {
        "colab": {
          "base_uri": "https://localhost:8080/"
        },
        "id": "5d438c77",
        "outputId": "a8b73a8e-dd89-4c98-b9bd-9766ffc1180f"
      },
      "outputs": [
        {
          "output_type": "execute_result",
          "data": {
            "text/plain": [
              "array(['drama', 'documentary', 'comedy', 'action', 'romance'],\n",
              "      dtype=object)"
            ]
          },
          "metadata": {},
          "execution_count": 78
        }
      ],
      "source": [
        "top_generos"
      ]
    },
    {
      "cell_type": "code",
      "execution_count": 79,
      "id": "37644a05",
      "metadata": {
        "colab": {
          "base_uri": "https://localhost:8080/",
          "height": 563
        },
        "id": "37644a05",
        "outputId": "754d0136-8746-48dc-f2be-00b8cc721b5d"
      },
      "outputs": [
        {
          "output_type": "display_data",
          "data": {
            "text/plain": [
              "<Figure size 1152x576 with 1 Axes>"
            ],
            "image/png": "[encoded data removed]"
          },
          "metadata": {}
        }
      ],
      "source": [
        "# Plot\n",
        "\n",
        "# Figura\n",
        "plt.figure(figsize = (16,8))\n",
        "\n",
        "#Loop e Plot\n",
        "for item in top_generos: \n",
        "    consulta = 'SELECT COUNT(*) Number_of_movies, premiered Year FROM  titles  WHERE genres LIKE '+ '\\''+'%'+item+'%'+'\\' AND type=\\'movie\\' AND Year <=2022 GROUP BY Year'\n",
        "    resultado = pd.read_sql_query(consulta, conn)\n",
        "    plt.plot(resultado['Year'], resultado['Number_of_movies'])\n",
        "\n",
        "plt.xlabel('\\nAno')\n",
        "plt.ylabel('Número de Filmes Avaliados')\n",
        "plt.title('\\nNúmero de Filmes Avaliados Por Gênero Em Relação ao Ano de Estréia\\n')\n",
        "plt.legend(labels = top_generos)\n",
        "plt.show()\n",
        "    "
      ]
    },
    {
      "cell_type": "markdown",
      "id": "e9dd4f28",
      "metadata": {
        "id": "e9dd4f28"
      },
      "source": [
        "# 6- Qual o Filme Com Maior Tempo de Duração? Calcule os Percentis."
      ]
    },
    {
      "cell_type": "markdown",
      "id": "f47c8857",
      "metadata": {
        "id": "f47c8857"
      },
      "source": [
        "Percetins e o filme mais longo da história."
      ]
    },
    {
      "cell_type": "code",
      "execution_count": 80,
      "id": "6c0a28c7",
      "metadata": {
        "id": "6c0a28c7"
      },
      "outputs": [],
      "source": [
        "# Consulta SQL\n",
        "consulta6 = '''\n",
        "            SELECT runtime_minutes Runtime\n",
        "            FROM  titles\n",
        "            WHERE  type = 'movie' AND Runtime != 'NAN'\n",
        "           '''"
      ]
    },
    {
      "cell_type": "code",
      "execution_count": 81,
      "id": "b2e08d48",
      "metadata": {
        "id": "b2e08d48"
      },
      "outputs": [],
      "source": [
        "# Resultado\n",
        "resultado6 = pd.read_sql_query(consulta6, conn)"
      ]
    },
    {
      "cell_type": "code",
      "execution_count": 82,
      "id": "063da599",
      "metadata": {
        "colab": {
          "base_uri": "https://localhost:8080/",
          "height": 424
        },
        "id": "063da599",
        "outputId": "7d56c25d-14c1-4bf3-e534-1e06e06a41c8"
      },
      "outputs": [
        {
          "output_type": "display_data",
          "data": {
            "text/plain": [
              "        Runtime\n",
              "0           100\n",
              "1            70\n",
              "2            90\n",
              "3           120\n",
              "4            58\n",
              "...         ...\n",
              "380787      123\n",
              "380788       57\n",
              "380789      100\n",
              "380790      116\n",
              "380791       49\n",
              "\n",
              "[380792 rows x 1 columns]"
            ],
            "text/html": [
              "\n",
              "  <div id=\"df-98aa4b1d-2a5f-4ee7-a0dc-f62f5fc0b3c5\">\n",
              "    <div class=\"colab-df-container\">\n",
              "      <div>\n",
              "<style scoped>\n",
              "    .dataframe tbody tr th:only-of-type {\n",
              "        vertical-align: middle;\n",
              "    }\n",
              "\n",
              "    .dataframe tbody tr th {\n",
              "        vertical-align: top;\n",
              "    }\n",
              "\n",
              "    .dataframe thead th {\n",
              "        text-align: right;\n",
              "    }\n",
              "</style>\n",
              "<table border=\"1\" class=\"dataframe\">\n",
              "  <thead>\n",
              "    <tr style=\"text-align: right;\">\n",
              "      <th></th>\n",
              "      <th>Runtime</th>\n",
              "    </tr>\n",
              "  </thead>\n",
              "  <tbody>\n",
              "    <tr>\n",
              "      <th>0</th>\n",
              "      <td>100</td>\n",
              "    </tr>\n",
              "    <tr>\n",
              "      <th>1</th>\n",
              "      <td>70</td>\n",
              "    </tr>\n",
              "    <tr>\n",
              "      <th>2</th>\n",
              "      <td>90</td>\n",
              "    </tr>\n",
              "    <tr>\n",
              "      <th>3</th>\n",
              "      <td>120</td>\n",
              "    </tr>\n",
              "    <tr>\n",
              "      <th>4</th>\n",
              "      <td>58</td>\n",
              "    </tr>\n",
              "    <tr>\n",
              "      <th>...</th>\n",
              "      <td>...</td>\n",
              "    </tr>\n",
              "    <tr>\n",
              "      <th>380787</th>\n",
              "      <td>123</td>\n",
              "    </tr>\n",
              "    <tr>\n",
              "      <th>380788</th>\n",
              "      <td>57</td>\n",
              "    </tr>\n",
              "    <tr>\n",
              "      <th>380789</th>\n",
              "      <td>100</td>\n",
              "    </tr>\n",
              "    <tr>\n",
              "      <th>380790</th>\n",
              "      <td>116</td>\n",
              "    </tr>\n",
              "    <tr>\n",
              "      <th>380791</th>\n",
              "      <td>49</td>\n",
              "    </tr>\n",
              "  </tbody>\n",
              "</table>\n",
              "<p>380792 rows × 1 columns</p>\n",
              "</div>\n",
              "      <button class=\"colab-df-convert\" onclick=\"convertToInteractive('df-98aa4b1d-2a5f-4ee7-a0dc-f62f5fc0b3c5')\"\n",
              "              title=\"Convert this dataframe to an interactive table.\"\n",
              "              style=\"display:none;\">\n",
              "        \n",
              "  <svg xmlns=\"http://www.w3.org/2000/svg\" height=\"24px\"viewBox=\"0 0 24 24\"\n",
              "       width=\"24px\">\n",
              "    <path d=\"M0 0h24v24H0V0z\" fill=\"none\"/>\n",
              "    <path d=\"M18.56 5.44l.94 2.06.94-2.06 2.06-.94-2.06-.94-.94-2.06-.94 2.06-2.06.94zm-11 1L8.5 8.5l.94-2.06 2.06-.94-2.06-.94L8.5 2.5l-.94 2.06-2.06.94zm10 10l.94 2.06.94-2.06 2.06-.94-2.06-.94-.94-2.06-.94 2.06-2.06.94z\"/><path d=\"M17.41 7.96l-1.37-1.37c-.4-.4-.92-.59-1.43-.59-.52 0-1.04.2-1.43.59L10.3 9.45l-7.72 7.72c-.78.78-.78 2.05 0 2.83L4 21.41c.39.39.9.59 1.41.59.51 0 1.02-.2 1.41-.59l7.78-7.78 2.81-2.81c.8-.78.8-2.07 0-2.86zM5.41 20L4 18.59l7.72-7.72 1.47 1.35L5.41 20z\"/>\n",
              "  </svg>\n",
              "      </button>\n",
              "      \n",
              "  <style>\n",
              "    .colab-df-container {\n",
              "      display:flex;\n",
              "      flex-wrap:wrap;\n",
              "      gap: 12px;\n",
              "    }\n",
              "\n",
              "    .colab-df-convert {\n",
              "      background-color: #E8F0FE;\n",
              "      border: none;\n",
              "      border-radius: 50%;\n",
              "      cursor: pointer;\n",
              "      display: none;\n",
              "      fill: #1967D2;\n",
              "      height: 32px;\n",
              "      padding: 0 0 0 0;\n",
              "      width: 32px;\n",
              "    }\n",
              "\n",
              "    .colab-df-convert:hover {\n",
              "      background-color: #E2EBFA;\n",
              "      box-shadow: 0px 1px 2px rgba(60, 64, 67, 0.3), 0px 1px 3px 1px rgba(60, 64, 67, 0.15);\n",
              "      fill: #174EA6;\n",
              "    }\n",
              "\n",
              "    [theme=dark] .colab-df-convert {\n",
              "      background-color: #3B4455;\n",
              "      fill: #D2E3FC;\n",
              "    }\n",
              "\n",
              "    [theme=dark] .colab-df-convert:hover {\n",
              "      background-color: #434B5C;\n",
              "      box-shadow: 0px 1px 3px 1px rgba(0, 0, 0, 0.15);\n",
              "      filter: drop-shadow(0px 1px 2px rgba(0, 0, 0, 0.3));\n",
              "      fill: #FFFFFF;\n",
              "    }\n",
              "  </style>\n",
              "\n",
              "      <script>\n",
              "        const buttonEl =\n",
              "          document.querySelector('#df-98aa4b1d-2a5f-4ee7-a0dc-f62f5fc0b3c5 button.colab-df-convert');\n",
              "        buttonEl.style.display =\n",
              "          google.colab.kernel.accessAllowed ? 'block' : 'none';\n",
              "\n",
              "        async function convertToInteractive(key) {\n",
              "          const element = document.querySelector('#df-98aa4b1d-2a5f-4ee7-a0dc-f62f5fc0b3c5');\n",
              "          const dataTable =\n",
              "            await google.colab.kernel.invokeFunction('convertToInteractive',\n",
              "                                                     [key], {});\n",
              "          if (!dataTable) return;\n",
              "\n",
              "          const docLinkHtml = 'Like what you see? Visit the ' +\n",
              "            '<a target=\"_blank\" href=https://colab.research.google.com/notebooks/data_table.ipynb>data table notebook</a>'\n",
              "            + ' to learn more about interactive tables.';\n",
              "          element.innerHTML = '';\n",
              "          dataTable['output_type'] = 'display_data';\n",
              "          await google.colab.output.renderOutput(dataTable, element);\n",
              "          const docLink = document.createElement('div');\n",
              "          docLink.innerHTML = docLinkHtml;\n",
              "          element.appendChild(docLink);\n",
              "        }\n",
              "      </script>\n",
              "    </div>\n",
              "  </div>\n",
              "  "
            ]
          },
          "metadata": {}
        }
      ],
      "source": [
        "display(resultado6)"
      ]
    },
    {
      "cell_type": "code",
      "execution_count": 83,
      "id": "1ec201ac",
      "metadata": {
        "colab": {
          "base_uri": "https://localhost:8080/"
        },
        "id": "1ec201ac",
        "outputId": "b293889f-55b1-4fea-ed8d-ac3490591e9f"
      },
      "outputs": [
        {
          "output_type": "stream",
          "name": "stdout",
          "text": [
            "0 percentil da duração (runtime) é: 1.0\n",
            "1 percentil da duração (runtime) é: 45.0\n",
            "2 percentil da duração (runtime) é: 48.0\n",
            "3 percentil da duração (runtime) é: 50.0\n",
            "4 percentil da duração (runtime) é: 50.0\n",
            "5 percentil da duração (runtime) é: 52.0\n",
            "6 percentil da duração (runtime) é: 52.0\n",
            "7 percentil da duração (runtime) é: 53.0\n",
            "8 percentil da duração (runtime) é: 55.0\n",
            "9 percentil da duração (runtime) é: 56.0\n",
            "10 percentil da duração (runtime) é: 58.0\n",
            "11 percentil da duração (runtime) é: 59.0\n",
            "12 percentil da duração (runtime) é: 60.0\n",
            "13 percentil da duração (runtime) é: 60.0\n",
            "14 percentil da duração (runtime) é: 60.0\n",
            "15 percentil da duração (runtime) é: 61.0\n",
            "16 percentil da duração (runtime) é: 63.0\n",
            "17 percentil da duração (runtime) é: 65.0\n",
            "18 percentil da duração (runtime) é: 66.0\n",
            "19 percentil da duração (runtime) é: 68.0\n",
            "20 percentil da duração (runtime) é: 69.0\n",
            "21 percentil da duração (runtime) é: 70.0\n",
            "22 percentil da duração (runtime) é: 70.0\n",
            "23 percentil da duração (runtime) é: 72.0\n",
            "24 percentil da duração (runtime) é: 73.0\n",
            "25 percentil da duração (runtime) é: 74.0\n",
            "26 percentil da duração (runtime) é: 75.0\n",
            "27 percentil da duração (runtime) é: 75.0\n",
            "28 percentil da duração (runtime) é: 76.0\n",
            "29 percentil da duração (runtime) é: 77.0\n",
            "30 percentil da duração (runtime) é: 78.0\n",
            "31 percentil da duração (runtime) é: 79.0\n",
            "32 percentil da duração (runtime) é: 80.0\n",
            "33 percentil da duração (runtime) é: 80.0\n",
            "34 percentil da duração (runtime) é: 80.0\n",
            "35 percentil da duração (runtime) é: 81.0\n",
            "36 percentil da duração (runtime) é: 82.0\n",
            "37 percentil da duração (runtime) é: 82.0\n",
            "38 percentil da duração (runtime) é: 83.0\n",
            "39 percentil da duração (runtime) é: 83.0\n",
            "40 percentil da duração (runtime) é: 84.0\n",
            "41 percentil da duração (runtime) é: 85.0\n",
            "42 percentil da duração (runtime) é: 85.0\n",
            "43 percentil da duração (runtime) é: 85.0\n",
            "44 percentil da duração (runtime) é: 86.0\n",
            "45 percentil da duração (runtime) é: 86.0\n",
            "46 percentil da duração (runtime) é: 87.0\n",
            "47 percentil da duração (runtime) é: 87.0\n",
            "48 percentil da duração (runtime) é: 88.0\n",
            "49 percentil da duração (runtime) é: 88.0\n",
            "50 percentil da duração (runtime) é: 89.0\n",
            "51 percentil da duração (runtime) é: 90.0\n",
            "52 percentil da duração (runtime) é: 90.0\n",
            "53 percentil da duração (runtime) é: 90.0\n",
            "54 percentil da duração (runtime) é: 90.0\n",
            "55 percentil da duração (runtime) é: 90.0\n",
            "56 percentil da duração (runtime) é: 90.0\n",
            "57 percentil da duração (runtime) é: 90.0\n",
            "58 percentil da duração (runtime) é: 91.0\n",
            "59 percentil da duração (runtime) é: 91.0\n",
            "60 percentil da duração (runtime) é: 92.0\n",
            "61 percentil da duração (runtime) é: 92.0\n",
            "62 percentil da duração (runtime) é: 93.0\n",
            "63 percentil da duração (runtime) é: 93.0\n",
            "64 percentil da duração (runtime) é: 94.0\n",
            "65 percentil da duração (runtime) é: 94.0\n",
            "66 percentil da duração (runtime) é: 95.0\n",
            "67 percentil da duração (runtime) é: 95.0\n",
            "68 percentil da duração (runtime) é: 96.0\n",
            "69 percentil da duração (runtime) é: 96.0\n",
            "70 percentil da duração (runtime) é: 97.0\n",
            "71 percentil da duração (runtime) é: 98.0\n",
            "72 percentil da duração (runtime) é: 98.0\n",
            "73 percentil da duração (runtime) é: 99.0\n",
            "74 percentil da duração (runtime) é: 100.0\n",
            "75 percentil da duração (runtime) é: 100.0\n",
            "76 percentil da duração (runtime) é: 100.0\n",
            "77 percentil da duração (runtime) é: 101.0\n",
            "78 percentil da duração (runtime) é: 102.0\n",
            "79 percentil da duração (runtime) é: 103.0\n",
            "80 percentil da duração (runtime) é: 104.0\n",
            "81 percentil da duração (runtime) é: 105.0\n",
            "82 percentil da duração (runtime) é: 106.0\n",
            "83 percentil da duração (runtime) é: 107.0\n",
            "84 percentil da duração (runtime) é: 108.0\n",
            "85 percentil da duração (runtime) é: 110.0\n",
            "86 percentil da duração (runtime) é: 110.0\n",
            "87 percentil da duração (runtime) é: 112.0\n",
            "88 percentil da duração (runtime) é: 115.0\n",
            "89 percentil da duração (runtime) é: 117.0\n",
            "90 percentil da duração (runtime) é: 119.0\n",
            "91 percentil da duração (runtime) é: 120.0\n",
            "92 percentil da duração (runtime) é: 123.0\n",
            "93 percentil da duração (runtime) é: 126.0\n",
            "94 percentil da duração (runtime) é: 130.0\n",
            "95 percentil da duração (runtime) é: 135.0\n",
            "96 percentil da duração (runtime) é: 139.0\n",
            "97 percentil da duração (runtime) é: 145.0\n",
            "98 percentil da duração (runtime) é: 153.0\n",
            "99 percentil da duração (runtime) é: 168.0\n",
            "100 percentil da duração (runtime) é: 51420.0\n"
          ]
        }
      ],
      "source": [
        "# Loop para cálculo dos percentis\n",
        "for i in range(101):\n",
        "    val = i\n",
        "    perc = round(np.percentile(resultado6['Runtime'].values, val),2 )\n",
        "    print('{} percentil da duração (runtime) é: {}'.format(val, perc))"
      ]
    },
    {
      "cell_type": "markdown",
      "id": "9cb351ff",
      "metadata": {
        "id": "9cb351ff"
      },
      "source": [
        "percentil: extração dos dados e divisão em 100 partes iguais e para cada parte é calculado a porcentagem."
      ]
    },
    {
      "cell_type": "markdown",
      "id": "bd8b3eb8",
      "metadata": {
        "id": "bd8b3eb8"
      },
      "source": [
        "O percentil 100:  um outlier é um valor que foge da normalidade e que pode (e provavelmente irá) causar anomalias nos resultados obtidos por meio de algoritmos e sistemas de análise."
      ]
    },
    {
      "cell_type": "code",
      "execution_count": 84,
      "id": "b530340c",
      "metadata": {
        "id": "b530340c"
      },
      "outputs": [],
      "source": [
        "# Refazendo a consulta e teronado o filme com maior duração\n",
        "consulta6 = '''\n",
        "            SELECT  runtime_minutes Runtime, primary_title\n",
        "            FROM  titles\n",
        "            WHERE type =  'movie' AND Runtime != 'Nan'\n",
        "            ORDER BY Runtime DESC\n",
        "            LIMIT 1\n",
        "            '''"
      ]
    },
    {
      "cell_type": "code",
      "execution_count": 85,
      "id": "b2734b9a",
      "metadata": {
        "id": "b2734b9a"
      },
      "outputs": [],
      "source": [
        "resultado6 = pd.read_sql_query(consulta6, conn)"
      ]
    },
    {
      "cell_type": "code",
      "execution_count": 86,
      "id": "f91d6e3d",
      "metadata": {
        "colab": {
          "base_uri": "https://localhost:8080/",
          "height": 81
        },
        "id": "f91d6e3d",
        "outputId": "7d3dbde0-477f-48f0-c289-7c44f7036ed9"
      },
      "outputs": [
        {
          "output_type": "execute_result",
          "data": {
            "text/plain": [
              "   Runtime primary_title\n",
              "0    51420     Logistics"
            ],
            "text/html": [
              "\n",
              "  <div id=\"df-c5a280ac-b812-450d-9965-5383d9832df8\">\n",
              "    <div class=\"colab-df-container\">\n",
              "      <div>\n",
              "<style scoped>\n",
              "    .dataframe tbody tr th:only-of-type {\n",
              "        vertical-align: middle;\n",
              "    }\n",
              "\n",
              "    .dataframe tbody tr th {\n",
              "        vertical-align: top;\n",
              "    }\n",
              "\n",
              "    .dataframe thead th {\n",
              "        text-align: right;\n",
              "    }\n",
              "</style>\n",
              "<table border=\"1\" class=\"dataframe\">\n",
              "  <thead>\n",
              "    <tr style=\"text-align: right;\">\n",
              "      <th></th>\n",
              "      <th>Runtime</th>\n",
              "      <th>primary_title</th>\n",
              "    </tr>\n",
              "  </thead>\n",
              "  <tbody>\n",
              "    <tr>\n",
              "      <th>0</th>\n",
              "      <td>51420</td>\n",
              "      <td>Logistics</td>\n",
              "    </tr>\n",
              "  </tbody>\n",
              "</table>\n",
              "</div>\n",
              "      <button class=\"colab-df-convert\" onclick=\"convertToInteractive('df-c5a280ac-b812-450d-9965-5383d9832df8')\"\n",
              "              title=\"Convert this dataframe to an interactive table.\"\n",
              "              style=\"display:none;\">\n",
              "        \n",
              "  <svg xmlns=\"http://www.w3.org/2000/svg\" height=\"24px\"viewBox=\"0 0 24 24\"\n",
              "       width=\"24px\">\n",
              "    <path d=\"M0 0h24v24H0V0z\" fill=\"none\"/>\n",
              "    <path d=\"M18.56 5.44l.94 2.06.94-2.06 2.06-.94-2.06-.94-.94-2.06-.94 2.06-2.06.94zm-11 1L8.5 8.5l.94-2.06 2.06-.94-2.06-.94L8.5 2.5l-.94 2.06-2.06.94zm10 10l.94 2.06.94-2.06 2.06-.94-2.06-.94-.94-2.06-.94 2.06-2.06.94z\"/><path d=\"M17.41 7.96l-1.37-1.37c-.4-.4-.92-.59-1.43-.59-.52 0-1.04.2-1.43.59L10.3 9.45l-7.72 7.72c-.78.78-.78 2.05 0 2.83L4 21.41c.39.39.9.59 1.41.59.51 0 1.02-.2 1.41-.59l7.78-7.78 2.81-2.81c.8-.78.8-2.07 0-2.86zM5.41 20L4 18.59l7.72-7.72 1.47 1.35L5.41 20z\"/>\n",
              "  </svg>\n",
              "      </button>\n",
              "      \n",
              "  <style>\n",
              "    .colab-df-container {\n",
              "      display:flex;\n",
              "      flex-wrap:wrap;\n",
              "      gap: 12px;\n",
              "    }\n",
              "\n",
              "    .colab-df-convert {\n",
              "      background-color: #E8F0FE;\n",
              "      border: none;\n",
              "      border-radius: 50%;\n",
              "      cursor: pointer;\n",
              "      display: none;\n",
              "      fill: #1967D2;\n",
              "      height: 32px;\n",
              "      padding: 0 0 0 0;\n",
              "      width: 32px;\n",
              "    }\n",
              "\n",
              "    .colab-df-convert:hover {\n",
              "      background-color: #E2EBFA;\n",
              "      box-shadow: 0px 1px 2px rgba(60, 64, 67, 0.3), 0px 1px 3px 1px rgba(60, 64, 67, 0.15);\n",
              "      fill: #174EA6;\n",
              "    }\n",
              "\n",
              "    [theme=dark] .colab-df-convert {\n",
              "      background-color: #3B4455;\n",
              "      fill: #D2E3FC;\n",
              "    }\n",
              "\n",
              "    [theme=dark] .colab-df-convert:hover {\n",
              "      background-color: #434B5C;\n",
              "      box-shadow: 0px 1px 3px 1px rgba(0, 0, 0, 0.15);\n",
              "      filter: drop-shadow(0px 1px 2px rgba(0, 0, 0, 0.3));\n",
              "      fill: #FFFFFF;\n",
              "    }\n",
              "  </style>\n",
              "\n",
              "      <script>\n",
              "        const buttonEl =\n",
              "          document.querySelector('#df-c5a280ac-b812-450d-9965-5383d9832df8 button.colab-df-convert');\n",
              "        buttonEl.style.display =\n",
              "          google.colab.kernel.accessAllowed ? 'block' : 'none';\n",
              "\n",
              "        async function convertToInteractive(key) {\n",
              "          const element = document.querySelector('#df-c5a280ac-b812-450d-9965-5383d9832df8');\n",
              "          const dataTable =\n",
              "            await google.colab.kernel.invokeFunction('convertToInteractive',\n",
              "                                                     [key], {});\n",
              "          if (!dataTable) return;\n",
              "\n",
              "          const docLinkHtml = 'Like what you see? Visit the ' +\n",
              "            '<a target=\"_blank\" href=https://colab.research.google.com/notebooks/data_table.ipynb>data table notebook</a>'\n",
              "            + ' to learn more about interactive tables.';\n",
              "          element.innerHTML = '';\n",
              "          dataTable['output_type'] = 'display_data';\n",
              "          await google.colab.output.renderOutput(dataTable, element);\n",
              "          const docLink = document.createElement('div');\n",
              "          docLink.innerHTML = docLinkHtml;\n",
              "          element.appendChild(docLink);\n",
              "        }\n",
              "      </script>\n",
              "    </div>\n",
              "  </div>\n",
              "  "
            ]
          },
          "metadata": {},
          "execution_count": 86
        }
      ],
      "source": [
        "resultado6"
      ]
    },
    {
      "cell_type": "markdown",
      "id": "c0a4d518",
      "metadata": {
        "id": "c0a4d518"
      },
      "source": [
        "Logistics, ou Logistics Art Project, é um filme experimental sueco de 2012 concebido e criado por Erika Magnusson e Daniel Andersson. Com 51.420 minutos, é o filme mais longo já feito."
      ]
    },
    {
      "cell_type": "markdown",
      "id": "75d27de8",
      "metadata": {
        "id": "75d27de8"
      },
      "source": [
        "# 7- Qual a Relação Entre Duração e Gênero?"
      ]
    },
    {
      "cell_type": "markdown",
      "id": "4ad00570",
      "metadata": {
        "id": "4ad00570"
      },
      "source": [
        "Relação entre duração do filme e gênero"
      ]
    },
    {
      "cell_type": "code",
      "execution_count": 87,
      "id": "d2b12cb6",
      "metadata": {
        "id": "d2b12cb6"
      },
      "outputs": [],
      "source": [
        "# Consulta SQL\n",
        "consulta7 = '''\n",
        "            SELECT AVG(runtime_minutes) Runtime, genres\n",
        "            FROM titles\n",
        "            WHERE  type = 'movie'\n",
        "            AND runtime_minutes != 'Nan'\n",
        "            GROUP BY genres\n",
        "            '''"
      ]
    },
    {
      "cell_type": "code",
      "execution_count": 88,
      "id": "d7a85c2e",
      "metadata": {
        "id": "d7a85c2e"
      },
      "outputs": [],
      "source": [
        "# Resultado\n",
        "resultado7 = pd.read_sql_query(consulta7, conn)"
      ]
    },
    {
      "cell_type": "code",
      "execution_count": 89,
      "id": "e1f8bdc9",
      "metadata": {
        "id": "e1f8bdc9"
      },
      "outputs": [],
      "source": [
        "# Retorna gênros únicos\n",
        "generos_unicos = retorna_generos(resultado7)"
      ]
    },
    {
      "cell_type": "code",
      "execution_count": 90,
      "id": "874a5f59",
      "metadata": {
        "id": "874a5f59"
      },
      "outputs": [],
      "source": [
        "# Calcula duração por gênero\n",
        "genero_runtime = []\n",
        "for item in generos_unicos:\n",
        "    consulta = 'SELECT runtime_minutes Runtime FROM  titles  WHERE genres LIKE '+ '\\''+'%'+item+'%'+'\\' AND type=\\'movie\\' AND Runtime!=\\'NaN\\''\n",
        "    resultado = pd.read_sql_query(consulta, conn)\n",
        "    genero_runtime.append(np.median(resultado['Runtime']))"
      ]
    },
    {
      "cell_type": "code",
      "execution_count": 91,
      "id": "36bbb393",
      "metadata": {
        "id": "36bbb393"
      },
      "outputs": [],
      "source": [
        "# Prepara o dataframe\n",
        "df_genero_runtime = pd.DataFrame()\n",
        "df_genero_runtime['genre'] = generos_unicos\n",
        "df_genero_runtime['runtime'] = genero_runtime"
      ]
    },
    {
      "cell_type": "code",
      "execution_count": 92,
      "id": "76da092c",
      "metadata": {
        "id": "76da092c"
      },
      "outputs": [],
      "source": [
        "# Remove índice 18 (news)\n",
        "df_genero_runtime = df_genero_runtime.drop(index=18)"
      ]
    },
    {
      "cell_type": "code",
      "execution_count": 93,
      "id": "72e058a7",
      "metadata": {
        "id": "72e058a7"
      },
      "outputs": [],
      "source": [
        "# Ordena os dados\n",
        "df_genero_runtime = df_genero_runtime.sort_values(by = 'runtime', ascending=False)"
      ]
    },
    {
      "cell_type": "code",
      "execution_count": 94,
      "id": "3f72f800",
      "metadata": {
        "colab": {
          "base_uri": "https://localhost:8080/",
          "height": 563
        },
        "id": "3f72f800",
        "outputId": "12ac69c0-51bb-407e-b422-83c9ac0af0ab"
      },
      "outputs": [
        {
          "output_type": "display_data",
          "data": {
            "text/plain": [
              "<Figure size 1152x576 with 1 Axes>"
            ],
            "image/png": "[encoded data removed]"
          },
          "metadata": {}
        }
      ],
      "source": [
        "# Plot\n",
        "\n",
        "# Tamanho da Figura\n",
        "plt.figure(figsize=(16,8))\n",
        "\n",
        "# Barplot\n",
        "sns.barplot(y = df_genero_runtime.genre, x = df_genero_runtime.runtime, orient = \"h\")\n",
        "\n",
        "# Loop\n",
        "for i in range(len(df_genero_runtime.index)):\n",
        "    plt.text(df_genero_runtime.runtime[df_genero_runtime.index[i]],\n",
        "            i + 0.25,\n",
        "            round(df_genero_runtime[\"runtime\"][df_genero_runtime.index[i]],2))\n",
        "    \n",
        "plt.ylabel('Gênero')    \n",
        "plt.xlabel('\\nMediana de Tempo de Duração (Minutos)')\n",
        "plt.title('\\nRelação Entre Duração e Gênero\\n')\n",
        "plt.show()"
      ]
    },
    {
      "cell_type": "markdown",
      "id": "72a35bda",
      "metadata": {
        "id": "72a35bda"
      },
      "source": [
        "# 8- Qual o Número de Filmes Produzidos Por País?"
      ]
    },
    {
      "cell_type": "markdown",
      "id": "b0f7f1f5",
      "metadata": {
        "id": "b0f7f1f5"
      },
      "source": [
        "Número de filmes produzidos por país."
      ]
    },
    {
      "cell_type": "code",
      "execution_count": 95,
      "id": "f91b65f3",
      "metadata": {
        "id": "f91b65f3"
      },
      "outputs": [],
      "source": [
        "# Consulta sql\n",
        "consulta8 = '''\n",
        "            SELECT region,COUNT(*) Number_of_movies \n",
        "            FROM akas\n",
        "            JOIN  titles ON akas.title_id = titles.title_id\n",
        "            WHERE region != 'None'\n",
        "            GROUP BY region\n",
        "            '''"
      ]
    },
    {
      "cell_type": "code",
      "execution_count": 96,
      "id": "80700844",
      "metadata": {
        "id": "80700844"
      },
      "outputs": [],
      "source": [
        "# Resultado\n",
        "resultado8 = pd.read_sql_query(consulta8, conn)"
      ]
    },
    {
      "cell_type": "code",
      "execution_count": 97,
      "id": "2f69afab",
      "metadata": {
        "colab": {
          "base_uri": "https://localhost:8080/",
          "height": 424
        },
        "id": "2f69afab",
        "outputId": "fa434463-7810-4c77-9b9b-2f04fc6bfcc5"
      },
      "outputs": [
        {
          "output_type": "display_data",
          "data": {
            "text/plain": [
              "    region  Number_of_movies\n",
              "0       AD                47\n",
              "1       AE             11381\n",
              "2       AF               247\n",
              "3       AG                20\n",
              "4       AI                 5\n",
              "..     ...               ...\n",
              "242   YUCS               702\n",
              "243     ZA              7725\n",
              "244     ZM                54\n",
              "245   ZRCD                 6\n",
              "246     ZW               131\n",
              "\n",
              "[247 rows x 2 columns]"
            ],
            "text/html": [
              "\n",
              "  <div id=\"df-98aa2a85-c61a-4248-aabb-4a2c464c15d3\">\n",
              "    <div class=\"colab-df-container\">\n",
              "      <div>\n",
              "<style scoped>\n",
              "    .dataframe tbody tr th:only-of-type {\n",
              "        vertical-align: middle;\n",
              "    }\n",
              "\n",
              "    .dataframe tbody tr th {\n",
              "        vertical-align: top;\n",
              "    }\n",
              "\n",
              "    .dataframe thead th {\n",
              "        text-align: right;\n",
              "    }\n",
              "</style>\n",
              "<table border=\"1\" class=\"dataframe\">\n",
              "  <thead>\n",
              "    <tr style=\"text-align: right;\">\n",
              "      <th></th>\n",
              "      <th>region</th>\n",
              "      <th>Number_of_movies</th>\n",
              "    </tr>\n",
              "  </thead>\n",
              "  <tbody>\n",
              "    <tr>\n",
              "      <th>0</th>\n",
              "      <td>AD</td>\n",
              "      <td>47</td>\n",
              "    </tr>\n",
              "    <tr>\n",
              "      <th>1</th>\n",
              "      <td>AE</td>\n",
              "      <td>11381</td>\n",
              "    </tr>\n",
              "    <tr>\n",
              "      <th>2</th>\n",
              "      <td>AF</td>\n",
              "      <td>247</td>\n",
              "    </tr>\n",
              "    <tr>\n",
              "      <th>3</th>\n",
              "      <td>AG</td>\n",
              "      <td>20</td>\n",
              "    </tr>\n",
              "    <tr>\n",
              "      <th>4</th>\n",
              "      <td>AI</td>\n",
              "      <td>5</td>\n",
              "    </tr>\n",
              "    <tr>\n",
              "      <th>...</th>\n",
              "      <td>...</td>\n",
              "      <td>...</td>\n",
              "    </tr>\n",
              "    <tr>\n",
              "      <th>242</th>\n",
              "      <td>YUCS</td>\n",
              "      <td>702</td>\n",
              "    </tr>\n",
              "    <tr>\n",
              "      <th>243</th>\n",
              "      <td>ZA</td>\n",
              "      <td>7725</td>\n",
              "    </tr>\n",
              "    <tr>\n",
              "      <th>244</th>\n",
              "      <td>ZM</td>\n",
              "      <td>54</td>\n",
              "    </tr>\n",
              "    <tr>\n",
              "      <th>245</th>\n",
              "      <td>ZRCD</td>\n",
              "      <td>6</td>\n",
              "    </tr>\n",
              "    <tr>\n",
              "      <th>246</th>\n",
              "      <td>ZW</td>\n",
              "      <td>131</td>\n",
              "    </tr>\n",
              "  </tbody>\n",
              "</table>\n",
              "<p>247 rows × 2 columns</p>\n",
              "</div>\n",
              "      <button class=\"colab-df-convert\" onclick=\"convertToInteractive('df-98aa2a85-c61a-4248-aabb-4a2c464c15d3')\"\n",
              "              title=\"Convert this dataframe to an interactive table.\"\n",
              "              style=\"display:none;\">\n",
              "        \n",
              "  <svg xmlns=\"http://www.w3.org/2000/svg\" height=\"24px\"viewBox=\"0 0 24 24\"\n",
              "       width=\"24px\">\n",
              "    <path d=\"M0 0h24v24H0V0z\" fill=\"none\"/>\n",
              "    <path d=\"M18.56 5.44l.94 2.06.94-2.06 2.06-.94-2.06-.94-.94-2.06-.94 2.06-2.06.94zm-11 1L8.5 8.5l.94-2.06 2.06-.94-2.06-.94L8.5 2.5l-.94 2.06-2.06.94zm10 10l.94 2.06.94-2.06 2.06-.94-2.06-.94-.94-2.06-.94 2.06-2.06.94z\"/><path d=\"M17.41 7.96l-1.37-1.37c-.4-.4-.92-.59-1.43-.59-.52 0-1.04.2-1.43.59L10.3 9.45l-7.72 7.72c-.78.78-.78 2.05 0 2.83L4 21.41c.39.39.9.59 1.41.59.51 0 1.02-.2 1.41-.59l7.78-7.78 2.81-2.81c.8-.78.8-2.07 0-2.86zM5.41 20L4 18.59l7.72-7.72 1.47 1.35L5.41 20z\"/>\n",
              "  </svg>\n",
              "      </button>\n",
              "      \n",
              "  <style>\n",
              "    .colab-df-container {\n",
              "      display:flex;\n",
              "      flex-wrap:wrap;\n",
              "      gap: 12px;\n",
              "    }\n",
              "\n",
              "    .colab-df-convert {\n",
              "      background-color: #E8F0FE;\n",
              "      border: none;\n",
              "      border-radius: 50%;\n",
              "      cursor: pointer;\n",
              "      display: none;\n",
              "      fill: #1967D2;\n",
              "      height: 32px;\n",
              "      padding: 0 0 0 0;\n",
              "      width: 32px;\n",
              "    }\n",
              "\n",
              "    .colab-df-convert:hover {\n",
              "      background-color: #E2EBFA;\n",
              "      box-shadow: 0px 1px 2px rgba(60, 64, 67, 0.3), 0px 1px 3px 1px rgba(60, 64, 67, 0.15);\n",
              "      fill: #174EA6;\n",
              "    }\n",
              "\n",
              "    [theme=dark] .colab-df-convert {\n",
              "      background-color: #3B4455;\n",
              "      fill: #D2E3FC;\n",
              "    }\n",
              "\n",
              "    [theme=dark] .colab-df-convert:hover {\n",
              "      background-color: #434B5C;\n",
              "      box-shadow: 0px 1px 3px 1px rgba(0, 0, 0, 0.15);\n",
              "      filter: drop-shadow(0px 1px 2px rgba(0, 0, 0, 0.3));\n",
              "      fill: #FFFFFF;\n",
              "    }\n",
              "  </style>\n",
              "\n",
              "      <script>\n",
              "        const buttonEl =\n",
              "          document.querySelector('#df-98aa2a85-c61a-4248-aabb-4a2c464c15d3 button.colab-df-convert');\n",
              "        buttonEl.style.display =\n",
              "          google.colab.kernel.accessAllowed ? 'block' : 'none';\n",
              "\n",
              "        async function convertToInteractive(key) {\n",
              "          const element = document.querySelector('#df-98aa2a85-c61a-4248-aabb-4a2c464c15d3');\n",
              "          const dataTable =\n",
              "            await google.colab.kernel.invokeFunction('convertToInteractive',\n",
              "                                                     [key], {});\n",
              "          if (!dataTable) return;\n",
              "\n",
              "          const docLinkHtml = 'Like what you see? Visit the ' +\n",
              "            '<a target=\"_blank\" href=https://colab.research.google.com/notebooks/data_table.ipynb>data table notebook</a>'\n",
              "            + ' to learn more about interactive tables.';\n",
              "          element.innerHTML = '';\n",
              "          dataTable['output_type'] = 'display_data';\n",
              "          await google.colab.output.renderOutput(dataTable, element);\n",
              "          const docLink = document.createElement('div');\n",
              "          docLink.innerHTML = docLinkHtml;\n",
              "          element.appendChild(docLink);\n",
              "        }\n",
              "      </script>\n",
              "    </div>\n",
              "  </div>\n",
              "  "
            ]
          },
          "metadata": {}
        }
      ],
      "source": [
        "display(resultado8)"
      ]
    },
    {
      "cell_type": "code",
      "execution_count": 98,
      "id": "d9566953",
      "metadata": {
        "colab": {
          "base_uri": "https://localhost:8080/"
        },
        "id": "d9566953",
        "outputId": "515f976f-f2a1-4417-df0d-58586377d977"
      },
      "outputs": [
        {
          "output_type": "execute_result",
          "data": {
            "text/plain": [
              "(247, 2)"
            ]
          },
          "metadata": {},
          "execution_count": 98
        }
      ],
      "source": [
        "# Shape\n",
        "resultado8.shape"
      ]
    },
    {
      "cell_type": "code",
      "execution_count": 99,
      "id": "f3da6fac",
      "metadata": {
        "colab": {
          "base_uri": "https://localhost:8080/"
        },
        "id": "f3da6fac",
        "outputId": "8604e9d1-d708-4f93-8c61-7d688e49a1d3"
      },
      "outputs": [
        {
          "output_type": "execute_result",
          "data": {
            "text/plain": [
              "247"
            ]
          },
          "metadata": {},
          "execution_count": 99
        }
      ],
      "source": [
        "# Número de linhas\n",
        "resultado8.shape[0]"
      ]
    },
    {
      "cell_type": "code",
      "execution_count": 100,
      "id": "06e30a8a",
      "metadata": {
        "id": "06e30a8a"
      },
      "outputs": [],
      "source": [
        "# Lista Auxiliares\n",
        "nomes_paises = []\n",
        "contagem = []"
      ]
    },
    {
      "cell_type": "code",
      "execution_count": 101,
      "id": "c1f20cd5",
      "metadata": {
        "id": "c1f20cd5"
      },
      "outputs": [],
      "source": [
        "# Loop para obter o país de acordo com a região\n",
        "for i in range(resultado8.shape[0]):\n",
        "    try:\n",
        "        coun = resultado8['region'].values[i]\n",
        "        nomes_paises.append(pycountry.countries.get(alpha_2 = coun).name)\n",
        "        contagem.append(resultado8['Number_of_movies'].values[i])\n",
        "    except:\n",
        "        continue"
      ]
    },
    {
      "cell_type": "code",
      "execution_count": 102,
      "id": "04c75a4d",
      "metadata": {
        "colab": {
          "base_uri": "https://localhost:8080/",
          "height": 165
        },
        "id": "04c75a4d",
        "outputId": "08b8ef2a-5d34-43f1-fcbc-6ba60ea0da3c"
      },
      "outputs": [
        {
          "output_type": "error",
          "ename": "NameError",
          "evalue": "ignored",
          "traceback": [
            "\u001b[0;31m---------------------------------------------------------------------------\u001b[0m",
            "\u001b[0;31mNameError\u001b[0m                                 Traceback (most recent call last)",
            "\u001b[0;32m<ipython-input-102-f4b6823399aa>\u001b[0m in \u001b[0;36m<module>\u001b[0;34m()\u001b[0m\n\u001b[0;32m----> 1\u001b[0;31m \u001b[0mdf_filmes_paises\u001b[0m\u001b[0;34m\u001b[0m\u001b[0;34m\u001b[0m\u001b[0m\n\u001b[0m",
            "\u001b[0;31mNameError\u001b[0m: name 'df_filmes_paises' is not defined"
          ]
        }
      ],
      "source": [
        "df_filmes_paises"
      ]
    },
    {
      "cell_type": "code",
      "execution_count": null,
      "id": "3c6a8d21",
      "metadata": {
        "id": "3c6a8d21"
      },
      "outputs": [],
      "source": [
        "# Prepara o dataframe\n",
        "df_filmes_paises = pd.DataFrame()\n",
        "df_filmes_paises['country'] = nomes_paises\n",
        "df_filmes_paises['Movie_Count'] = contagem"
      ]
    },
    {
      "cell_type": "code",
      "execution_count": null,
      "id": "32201f2f",
      "metadata": {
        "id": "32201f2f"
      },
      "outputs": [],
      "source": [
        "# Ordena o resultado\n",
        "df_filmes_paises = df_filmes_paises.sort_values(by = 'Movie_Count', ascending=False)"
      ]
    },
    {
      "cell_type": "code",
      "execution_count": null,
      "id": "94dc8da1",
      "metadata": {
        "id": "94dc8da1"
      },
      "outputs": [],
      "source": [
        "# Visualiza\n",
        "df_filmes_paises.head(10)"
      ]
    },
    {
      "cell_type": "code",
      "execution_count": null,
      "id": "4fed7d8c",
      "metadata": {
        "id": "4fed7d8c"
      },
      "outputs": [],
      "source": [
        "# Plot\n",
        "\n",
        "# Tamanho da Figura\n",
        "plt.figure(figsize=(16,8))\n",
        "\n",
        "# Barplot\n",
        "sns.barplot(y = df_filmes_paises[:20].country, x = df_filmes_paises[:20].Movie_Count, orient = \"h\")\n",
        "\n",
        "# Loop\n",
        "for i in range(0,20):\n",
        "    plt.text(df_filmes_paises.Movie_Count[df_filmes_paises.index[i]]-1,\n",
        "            i + 0.30,\n",
        "            round(df_filmes_paises[\"Movie_Count\"][df_filmes_paises.index[i]],2))\n",
        "    \n",
        "plt.ylabel('País')    \n",
        "plt.xlabel('\\nNúmero de Filmes')\n",
        "plt.title('\\nNúmero de Filmes Produzidos Por País\\n')\n",
        "plt.show()"
      ]
    },
    {
      "cell_type": "markdown",
      "id": "8b8b28a5",
      "metadata": {
        "id": "8b8b28a5"
      },
      "source": [
        "# 9- Quais São os Top 10 Melhores Filmes?"
      ]
    },
    {
      "cell_type": "markdown",
      "id": "838dabc9",
      "metadata": {
        "id": "838dabc9"
      },
      "source": [
        "Top 10 Filmes com a melhor avaliação e mais de 25 mil votos."
      ]
    },
    {
      "cell_type": "code",
      "execution_count": 103,
      "id": "581a9761",
      "metadata": {
        "id": "581a9761"
      },
      "outputs": [],
      "source": [
        "# Consulta SQL\n",
        "consulta9 = '''\n",
        "            SELECT  primary_title AS Movie_Name, genres, rating\n",
        "            FROM titles\n",
        "            JOIN ratings ON titles.title_id = ratings.title_id\n",
        "            WHERE titles.type = 'movie' AND ratings.votes >= 25000\n",
        "            ORDER BY rating DESC\n",
        "            LIMIT 10\n",
        "            '''"
      ]
    },
    {
      "cell_type": "code",
      "execution_count": 104,
      "id": "a7c579ad",
      "metadata": {
        "id": "a7c579ad"
      },
      "outputs": [],
      "source": [
        "# Resultado\n",
        "top10_melhores_filmes = pd.read_sql_query(consulta9,conn)"
      ]
    },
    {
      "cell_type": "code",
      "execution_count": 105,
      "id": "fba7db34",
      "metadata": {
        "colab": {
          "base_uri": "https://localhost:8080/",
          "height": 363
        },
        "id": "fba7db34",
        "outputId": "b7acc288-fe5c-4845-b772-5ab88d0ef36f"
      },
      "outputs": [
        {
          "output_type": "display_data",
          "data": {
            "text/plain": [
              "                 Movie_Name                  genres  rating\n",
              "0                  Jai Bhim     Crime,Drama,Mystery     9.4\n",
              "1  The Shawshank Redemption                   Drama     9.3\n",
              "2           The Chaos Class            Comedy,Drama     9.3\n",
              "3           Soorarai Pottru                   Drama     9.3\n",
              "4               Mirror Game  Crime,Mystery,Thriller     9.3\n",
              "5             The Godfather             Crime,Drama     9.2\n",
              "6    CM101MMXI Fundamentals      Comedy,Documentary     9.2\n",
              "7           The Dark Knight      Action,Crime,Drama     9.1\n",
              "8              12 Angry Men             Crime,Drama     9.0\n",
              "9    The Godfather: Part II             Crime,Drama     9.0"
            ],
            "text/html": [
              "\n",
              "  <div id=\"df-d1af74d4-e8c2-4817-bcbc-650900be4957\">\n",
              "    <div class=\"colab-df-container\">\n",
              "      <div>\n",
              "<style scoped>\n",
              "    .dataframe tbody tr th:only-of-type {\n",
              "        vertical-align: middle;\n",
              "    }\n",
              "\n",
              "    .dataframe tbody tr th {\n",
              "        vertical-align: top;\n",
              "    }\n",
              "\n",
              "    .dataframe thead th {\n",
              "        text-align: right;\n",
              "    }\n",
              "</style>\n",
              "<table border=\"1\" class=\"dataframe\">\n",
              "  <thead>\n",
              "    <tr style=\"text-align: right;\">\n",
              "      <th></th>\n",
              "      <th>Movie_Name</th>\n",
              "      <th>genres</th>\n",
              "      <th>rating</th>\n",
              "    </tr>\n",
              "  </thead>\n",
              "  <tbody>\n",
              "    <tr>\n",
              "      <th>0</th>\n",
              "      <td>Jai Bhim</td>\n",
              "      <td>Crime,Drama,Mystery</td>\n",
              "      <td>9.4</td>\n",
              "    </tr>\n",
              "    <tr>\n",
              "      <th>1</th>\n",
              "      <td>The Shawshank Redemption</td>\n",
              "      <td>Drama</td>\n",
              "      <td>9.3</td>\n",
              "    </tr>\n",
              "    <tr>\n",
              "      <th>2</th>\n",
              "      <td>The Chaos Class</td>\n",
              "      <td>Comedy,Drama</td>\n",
              "      <td>9.3</td>\n",
              "    </tr>\n",
              "    <tr>\n",
              "      <th>3</th>\n",
              "      <td>Soorarai Pottru</td>\n",
              "      <td>Drama</td>\n",
              "      <td>9.3</td>\n",
              "    </tr>\n",
              "    <tr>\n",
              "      <th>4</th>\n",
              "      <td>Mirror Game</td>\n",
              "      <td>Crime,Mystery,Thriller</td>\n",
              "      <td>9.3</td>\n",
              "    </tr>\n",
              "    <tr>\n",
              "      <th>5</th>\n",
              "      <td>The Godfather</td>\n",
              "      <td>Crime,Drama</td>\n",
              "      <td>9.2</td>\n",
              "    </tr>\n",
              "    <tr>\n",
              "      <th>6</th>\n",
              "      <td>CM101MMXI Fundamentals</td>\n",
              "      <td>Comedy,Documentary</td>\n",
              "      <td>9.2</td>\n",
              "    </tr>\n",
              "    <tr>\n",
              "      <th>7</th>\n",
              "      <td>The Dark Knight</td>\n",
              "      <td>Action,Crime,Drama</td>\n",
              "      <td>9.1</td>\n",
              "    </tr>\n",
              "    <tr>\n",
              "      <th>8</th>\n",
              "      <td>12 Angry Men</td>\n",
              "      <td>Crime,Drama</td>\n",
              "      <td>9.0</td>\n",
              "    </tr>\n",
              "    <tr>\n",
              "      <th>9</th>\n",
              "      <td>The Godfather: Part II</td>\n",
              "      <td>Crime,Drama</td>\n",
              "      <td>9.0</td>\n",
              "    </tr>\n",
              "  </tbody>\n",
              "</table>\n",
              "</div>\n",
              "      <button class=\"colab-df-convert\" onclick=\"convertToInteractive('df-d1af74d4-e8c2-4817-bcbc-650900be4957')\"\n",
              "              title=\"Convert this dataframe to an interactive table.\"\n",
              "              style=\"display:none;\">\n",
              "        \n",
              "  <svg xmlns=\"http://www.w3.org/2000/svg\" height=\"24px\"viewBox=\"0 0 24 24\"\n",
              "       width=\"24px\">\n",
              "    <path d=\"M0 0h24v24H0V0z\" fill=\"none\"/>\n",
              "    <path d=\"M18.56 5.44l.94 2.06.94-2.06 2.06-.94-2.06-.94-.94-2.06-.94 2.06-2.06.94zm-11 1L8.5 8.5l.94-2.06 2.06-.94-2.06-.94L8.5 2.5l-.94 2.06-2.06.94zm10 10l.94 2.06.94-2.06 2.06-.94-2.06-.94-.94-2.06-.94 2.06-2.06.94z\"/><path d=\"M17.41 7.96l-1.37-1.37c-.4-.4-.92-.59-1.43-.59-.52 0-1.04.2-1.43.59L10.3 9.45l-7.72 7.72c-.78.78-.78 2.05 0 2.83L4 21.41c.39.39.9.59 1.41.59.51 0 1.02-.2 1.41-.59l7.78-7.78 2.81-2.81c.8-.78.8-2.07 0-2.86zM5.41 20L4 18.59l7.72-7.72 1.47 1.35L5.41 20z\"/>\n",
              "  </svg>\n",
              "      </button>\n",
              "      \n",
              "  <style>\n",
              "    .colab-df-container {\n",
              "      display:flex;\n",
              "      flex-wrap:wrap;\n",
              "      gap: 12px;\n",
              "    }\n",
              "\n",
              "    .colab-df-convert {\n",
              "      background-color: #E8F0FE;\n",
              "      border: none;\n",
              "      border-radius: 50%;\n",
              "      cursor: pointer;\n",
              "      display: none;\n",
              "      fill: #1967D2;\n",
              "      height: 32px;\n",
              "      padding: 0 0 0 0;\n",
              "      width: 32px;\n",
              "    }\n",
              "\n",
              "    .colab-df-convert:hover {\n",
              "      background-color: #E2EBFA;\n",
              "      box-shadow: 0px 1px 2px rgba(60, 64, 67, 0.3), 0px 1px 3px 1px rgba(60, 64, 67, 0.15);\n",
              "      fill: #174EA6;\n",
              "    }\n",
              "\n",
              "    [theme=dark] .colab-df-convert {\n",
              "      background-color: #3B4455;\n",
              "      fill: #D2E3FC;\n",
              "    }\n",
              "\n",
              "    [theme=dark] .colab-df-convert:hover {\n",
              "      background-color: #434B5C;\n",
              "      box-shadow: 0px 1px 3px 1px rgba(0, 0, 0, 0.15);\n",
              "      filter: drop-shadow(0px 1px 2px rgba(0, 0, 0, 0.3));\n",
              "      fill: #FFFFFF;\n",
              "    }\n",
              "  </style>\n",
              "\n",
              "      <script>\n",
              "        const buttonEl =\n",
              "          document.querySelector('#df-d1af74d4-e8c2-4817-bcbc-650900be4957 button.colab-df-convert');\n",
              "        buttonEl.style.display =\n",
              "          google.colab.kernel.accessAllowed ? 'block' : 'none';\n",
              "\n",
              "        async function convertToInteractive(key) {\n",
              "          const element = document.querySelector('#df-d1af74d4-e8c2-4817-bcbc-650900be4957');\n",
              "          const dataTable =\n",
              "            await google.colab.kernel.invokeFunction('convertToInteractive',\n",
              "                                                     [key], {});\n",
              "          if (!dataTable) return;\n",
              "\n",
              "          const docLinkHtml = 'Like what you see? Visit the ' +\n",
              "            '<a target=\"_blank\" href=https://colab.research.google.com/notebooks/data_table.ipynb>data table notebook</a>'\n",
              "            + ' to learn more about interactive tables.';\n",
              "          element.innerHTML = '';\n",
              "          dataTable['output_type'] = 'display_data';\n",
              "          await google.colab.output.renderOutput(dataTable, element);\n",
              "          const docLink = document.createElement('div');\n",
              "          docLink.innerHTML = docLinkHtml;\n",
              "          element.appendChild(docLink);\n",
              "        }\n",
              "      </script>\n",
              "    </div>\n",
              "  </div>\n",
              "  "
            ]
          },
          "metadata": {}
        }
      ],
      "source": [
        "display(top10_melhores_filmes)"
      ]
    },
    {
      "cell_type": "markdown",
      "id": "aee73557",
      "metadata": {
        "id": "aee73557"
      },
      "source": [
        "# 10- Quais São os Top 10 Piores Filmes?"
      ]
    },
    {
      "cell_type": "markdown",
      "id": "312af227",
      "metadata": {
        "id": "312af227"
      },
      "source": [
        "Top 10 Filmes com a pior avaliação e mais de 25 mil votos."
      ]
    },
    {
      "cell_type": "code",
      "execution_count": 106,
      "id": "56a1ebe0",
      "metadata": {
        "id": "56a1ebe0"
      },
      "outputs": [],
      "source": [
        "# Consulta SQL\n",
        "consulta10 = '''\n",
        "            SELECT  primary_title AS Movie_Name, genres, rating\n",
        "            FROM titles\n",
        "            JOIN ratings ON titles.title_id = ratings.title_id\n",
        "            WHERE titles.type = 'movie' AND ratings.votes >= 25000\n",
        "            ORDER BY rating ASC\n",
        "            LIMIT 10\n",
        "            '''"
      ]
    },
    {
      "cell_type": "code",
      "execution_count": 107,
      "id": "6be48fbf",
      "metadata": {
        "id": "6be48fbf"
      },
      "outputs": [],
      "source": [
        "# Resultado\n",
        "top10_piores_filmes = pd.read_sql_query(consulta10,conn)"
      ]
    },
    {
      "cell_type": "code",
      "execution_count": 108,
      "id": "97464a7b",
      "metadata": {
        "colab": {
          "base_uri": "https://localhost:8080/",
          "height": 363
        },
        "id": "97464a7b",
        "outputId": "7b3839dd-14c6-45ae-f2ce-c8f7ca97a00a"
      },
      "outputs": [
        {
          "output_type": "display_data",
          "data": {
            "text/plain": [
              "                       Movie_Name                 genres  rating\n",
              "0                    Cumali Ceber                 Comedy     1.1\n",
              "1                         Sadak 2           Action,Drama     1.1\n",
              "2                        Smolensk         Drama,Thriller     1.2\n",
              "3           The Cost of Deception    Crime,Drama,History     1.6\n",
              "4                            Reis        Biography,Drama     1.6\n",
              "5  Justin Bieber: Never Say Never      Documentary,Music     1.7\n",
              "6        Manos: The Hands of Fate                 Horror     1.9\n",
              "7                           Radhe  Action,Crime,Thriller     1.9\n",
              "8                  Disaster Movie          Comedy,Sci-Fi     1.9\n",
              "9         The Hottie & the Nottie         Comedy,Romance     2.0"
            ],
            "text/html": [
              "\n",
              "  <div id=\"df-2019f5fc-dd86-48dd-b4a6-a036445b2ec5\">\n",
              "    <div class=\"colab-df-container\">\n",
              "      <div>\n",
              "<style scoped>\n",
              "    .dataframe tbody tr th:only-of-type {\n",
              "        vertical-align: middle;\n",
              "    }\n",
              "\n",
              "    .dataframe tbody tr th {\n",
              "        vertical-align: top;\n",
              "    }\n",
              "\n",
              "    .dataframe thead th {\n",
              "        text-align: right;\n",
              "    }\n",
              "</style>\n",
              "<table border=\"1\" class=\"dataframe\">\n",
              "  <thead>\n",
              "    <tr style=\"text-align: right;\">\n",
              "      <th></th>\n",
              "      <th>Movie_Name</th>\n",
              "      <th>genres</th>\n",
              "      <th>rating</th>\n",
              "    </tr>\n",
              "  </thead>\n",
              "  <tbody>\n",
              "    <tr>\n",
              "      <th>0</th>\n",
              "      <td>Cumali Ceber</td>\n",
              "      <td>Comedy</td>\n",
              "      <td>1.1</td>\n",
              "    </tr>\n",
              "    <tr>\n",
              "      <th>1</th>\n",
              "      <td>Sadak 2</td>\n",
              "      <td>Action,Drama</td>\n",
              "      <td>1.1</td>\n",
              "    </tr>\n",
              "    <tr>\n",
              "      <th>2</th>\n",
              "      <td>Smolensk</td>\n",
              "      <td>Drama,Thriller</td>\n",
              "      <td>1.2</td>\n",
              "    </tr>\n",
              "    <tr>\n",
              "      <th>3</th>\n",
              "      <td>The Cost of Deception</td>\n",
              "      <td>Crime,Drama,History</td>\n",
              "      <td>1.6</td>\n",
              "    </tr>\n",
              "    <tr>\n",
              "      <th>4</th>\n",
              "      <td>Reis</td>\n",
              "      <td>Biography,Drama</td>\n",
              "      <td>1.6</td>\n",
              "    </tr>\n",
              "    <tr>\n",
              "      <th>5</th>\n",
              "      <td>Justin Bieber: Never Say Never</td>\n",
              "      <td>Documentary,Music</td>\n",
              "      <td>1.7</td>\n",
              "    </tr>\n",
              "    <tr>\n",
              "      <th>6</th>\n",
              "      <td>Manos: The Hands of Fate</td>\n",
              "      <td>Horror</td>\n",
              "      <td>1.9</td>\n",
              "    </tr>\n",
              "    <tr>\n",
              "      <th>7</th>\n",
              "      <td>Radhe</td>\n",
              "      <td>Action,Crime,Thriller</td>\n",
              "      <td>1.9</td>\n",
              "    </tr>\n",
              "    <tr>\n",
              "      <th>8</th>\n",
              "      <td>Disaster Movie</td>\n",
              "      <td>Comedy,Sci-Fi</td>\n",
              "      <td>1.9</td>\n",
              "    </tr>\n",
              "    <tr>\n",
              "      <th>9</th>\n",
              "      <td>The Hottie &amp; the Nottie</td>\n",
              "      <td>Comedy,Romance</td>\n",
              "      <td>2.0</td>\n",
              "    </tr>\n",
              "  </tbody>\n",
              "</table>\n",
              "</div>\n",
              "      <button class=\"colab-df-convert\" onclick=\"convertToInteractive('df-2019f5fc-dd86-48dd-b4a6-a036445b2ec5')\"\n",
              "              title=\"Convert this dataframe to an interactive table.\"\n",
              "              style=\"display:none;\">\n",
              "        \n",
              "  <svg xmlns=\"http://www.w3.org/2000/svg\" height=\"24px\"viewBox=\"0 0 24 24\"\n",
              "       width=\"24px\">\n",
              "    <path d=\"M0 0h24v24H0V0z\" fill=\"none\"/>\n",
              "    <path d=\"M18.56 5.44l.94 2.06.94-2.06 2.06-.94-2.06-.94-.94-2.06-.94 2.06-2.06.94zm-11 1L8.5 8.5l.94-2.06 2.06-.94-2.06-.94L8.5 2.5l-.94 2.06-2.06.94zm10 10l.94 2.06.94-2.06 2.06-.94-2.06-.94-.94-2.06-.94 2.06-2.06.94z\"/><path d=\"M17.41 7.96l-1.37-1.37c-.4-.4-.92-.59-1.43-.59-.52 0-1.04.2-1.43.59L10.3 9.45l-7.72 7.72c-.78.78-.78 2.05 0 2.83L4 21.41c.39.39.9.59 1.41.59.51 0 1.02-.2 1.41-.59l7.78-7.78 2.81-2.81c.8-.78.8-2.07 0-2.86zM5.41 20L4 18.59l7.72-7.72 1.47 1.35L5.41 20z\"/>\n",
              "  </svg>\n",
              "      </button>\n",
              "      \n",
              "  <style>\n",
              "    .colab-df-container {\n",
              "      display:flex;\n",
              "      flex-wrap:wrap;\n",
              "      gap: 12px;\n",
              "    }\n",
              "\n",
              "    .colab-df-convert {\n",
              "      background-color: #E8F0FE;\n",
              "      border: none;\n",
              "      border-radius: 50%;\n",
              "      cursor: pointer;\n",
              "      display: none;\n",
              "      fill: #1967D2;\n",
              "      height: 32px;\n",
              "      padding: 0 0 0 0;\n",
              "      width: 32px;\n",
              "    }\n",
              "\n",
              "    .colab-df-convert:hover {\n",
              "      background-color: #E2EBFA;\n",
              "      box-shadow: 0px 1px 2px rgba(60, 64, 67, 0.3), 0px 1px 3px 1px rgba(60, 64, 67, 0.15);\n",
              "      fill: #174EA6;\n",
              "    }\n",
              "\n",
              "    [theme=dark] .colab-df-convert {\n",
              "      background-color: #3B4455;\n",
              "      fill: #D2E3FC;\n",
              "    }\n",
              "\n",
              "    [theme=dark] .colab-df-convert:hover {\n",
              "      background-color: #434B5C;\n",
              "      box-shadow: 0px 1px 3px 1px rgba(0, 0, 0, 0.15);\n",
              "      filter: drop-shadow(0px 1px 2px rgba(0, 0, 0, 0.3));\n",
              "      fill: #FFFFFF;\n",
              "    }\n",
              "  </style>\n",
              "\n",
              "      <script>\n",
              "        const buttonEl =\n",
              "          document.querySelector('#df-2019f5fc-dd86-48dd-b4a6-a036445b2ec5 button.colab-df-convert');\n",
              "        buttonEl.style.display =\n",
              "          google.colab.kernel.accessAllowed ? 'block' : 'none';\n",
              "\n",
              "        async function convertToInteractive(key) {\n",
              "          const element = document.querySelector('#df-2019f5fc-dd86-48dd-b4a6-a036445b2ec5');\n",
              "          const dataTable =\n",
              "            await google.colab.kernel.invokeFunction('convertToInteractive',\n",
              "                                                     [key], {});\n",
              "          if (!dataTable) return;\n",
              "\n",
              "          const docLinkHtml = 'Like what you see? Visit the ' +\n",
              "            '<a target=\"_blank\" href=https://colab.research.google.com/notebooks/data_table.ipynb>data table notebook</a>'\n",
              "            + ' to learn more about interactive tables.';\n",
              "          element.innerHTML = '';\n",
              "          dataTable['output_type'] = 'display_data';\n",
              "          await google.colab.output.renderOutput(dataTable, element);\n",
              "          const docLink = document.createElement('div');\n",
              "          docLink.innerHTML = docLinkHtml;\n",
              "          element.appendChild(docLink);\n",
              "        }\n",
              "      </script>\n",
              "    </div>\n",
              "  </div>\n",
              "  "
            ]
          },
          "metadata": {}
        }
      ],
      "source": [
        "display(top10_piores_filmes)"
      ]
    },
    {
      "cell_type": "markdown",
      "id": "7b811028",
      "metadata": {
        "id": "7b811028"
      },
      "source": [
        "# FIM"
      ]
    },
    {
      "cell_type": "code",
      "execution_count": 108,
      "id": "9a189501",
      "metadata": {
        "id": "9a189501"
      },
      "outputs": [],
      "source": [
        ""
      ]
    }
  ],
  "metadata": {
    "kernelspec": {
      "display_name": "Python 3",
      "language": "python",
      "name": "python3"
    },
    "language_info": {
      "codemirror_mode": {
        "name": "ipython",
        "version": 3
      },
      "file_extension": ".py",
      "mimetype": "text/x-python",
      "name": "python",
      "nbconvert_exporter": "python",
      "pygments_lexer": "ipython3",
      "version": "3.8.8"
    },
    "colab": {
      "name": "Movie-Show-Advisor_Analise.ipynb",
      "provenance": [],
      "include_colab_link": true
    }
  },
  "nbformat": 4,
  "nbformat_minor": 5
}